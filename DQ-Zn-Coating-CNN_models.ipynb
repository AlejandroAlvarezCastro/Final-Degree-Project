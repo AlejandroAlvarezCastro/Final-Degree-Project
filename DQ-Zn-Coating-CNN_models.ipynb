{
 "cells": [
  {
   "cell_type": "markdown",
   "id": "e3e1a5cc-7ece-4714-b48f-1b82fd08c48a",
   "metadata": {},
   "source": [
    "# Coil Data Preparation"
   ]
  },
  {
   "cell_type": "code",
   "execution_count": 1,
   "id": "a18df1f6-37ad-44ae-8313-10f90e6e2d24",
   "metadata": {},
   "outputs": [],
   "source": [
    "# Starting point:\n",
    "#   data_norm.pkl :  \n",
    "#       Row1 .- struct scale ZnMin and ZnMax\n",
    "#       Row2 .- dosD  DB table\n",
    "#       Row3 .- coils DB table\n",
    "#       Row4 .- nclmaps (struct of coils with specific labels nzn and \n"
   ]
  },
  {
   "cell_type": "code",
   "execution_count": 2,
   "id": "2dea4791-4b1e-48fa-9e6d-c76a4e43df23",
   "metadata": {},
   "outputs": [
    {
     "name": "stderr",
     "output_type": "stream",
     "text": [
      "c:\\Users\\alexm\\AppData\\Local\\Programs\\Python\\Python39\\lib\\site-packages\\evidently\\analyzers\\__init__.py:3: UserWarning: analyzers are deprecated, use metrics instead\n",
      "  warnings.warn(\"analyzers are deprecated, use metrics instead\")\n",
      "c:\\Users\\alexm\\AppData\\Local\\Programs\\Python\\Python39\\lib\\site-packages\\evidently\\dashboard\\__init__.py:8: UserWarning: dashboards are deprecated, use metrics instead\n",
      "  warnings.warn(\"dashboards are deprecated, use metrics instead\")\n"
     ]
    },
    {
     "name": "stdout",
     "output_type": "stream",
     "text": [
      "[]\n"
     ]
    }
   ],
   "source": [
    "import sys, os, datetime, pickle, time\n",
    "import string, pdb, tqdm\n",
    "import random, cv2, keras, os.path\n",
    "import pandas as pd\n",
    "import numpy as np\n",
    "from sklearn.metrics import classification_report, confusion_matrix\n",
    "from sklearn.metrics import precision_score, recall_score, f1_score, accuracy_score\n",
    "from functions import *\n",
    "from models import *\n",
    "#\n",
    "from matplotlib import pyplot as plt\n",
    "import seaborn as sns\n",
    "import plotly.graph_objects as go\n",
    "#\n",
    "import tensorflow as tf\n",
    "from tensorflow.keras import models\n",
    "from tensorflow.keras import layers\n",
    "from tensorflow.keras import optimizers\n",
    "from tensorflow.keras.callbacks import ModelCheckpoint, EarlyStopping\n",
    "#\n",
    "from timeit import default_timer as timer\n",
    "from datetime import datetime, timedelta, date\n",
    "from PIL import Image\n",
    "from IPython.display import Image\n",
    "# %matplotlib inline\n",
    "\n",
    "#\n",
    "tf.autograph.set_verbosity(0)\n",
    "physical_devices = tf.config.experimental.list_physical_devices('GPU')\n",
    "print(physical_devices)\n",
    "# config = tf.config.experimental.set_memory_growth(physical_devices[0], True)\n",
    "# os.environ['TF_CPP_MIN_LOG_LEVEL'] = '3'\n",
    "# tf.get_logger().setLevel('ERROR')"
   ]
  },
  {
   "cell_type": "markdown",
   "id": "d4511fde",
   "metadata": {},
   "source": [
    "# Preparing Data"
   ]
  },
  {
   "cell_type": "code",
   "execution_count": 3,
   "id": "9400b793-9e42-419a-a2fd-695832b87bab",
   "metadata": {},
   "outputs": [],
   "source": [
    "# Obtener la ruta del directorio tres niveles arriba\n",
    "parent_dir = os.path.abspath(os.path.join(os.getcwd(), os.pardir, os.pardir))\n",
    "\n",
    "# Cargar datasets desde el directorio tres niveles arriba\n",
    "data_norm_path = os.path.join(parent_dir, 'Dataset/data_norm.pkl')\n",
    "\n",
    "with open(data_norm_path, 'rb') as handle:\n",
    "    GlblFrm = pickle.load(handle)\n",
    "    dosD    = pickle.load(handle)\n",
    "    coils   = pickle.load(handle)\n",
    "    nclmaps = pickle.load(handle)\n"
   ]
  },
  {
   "cell_type": "code",
   "execution_count": 4,
   "id": "f1e243e0",
   "metadata": {},
   "outputs": [
    {
     "data": {
      "text/plain": [
       "{'NormMn': -279.38157, 'NormMx': 507.54791, 'MaxTiles': 264}"
      ]
     },
     "execution_count": 4,
     "metadata": {},
     "output_type": "execute_result"
    }
   ],
   "source": [
    "GlblFrm"
   ]
  },
  {
   "cell_type": "code",
   "execution_count": 5,
   "id": "92e1ad5b",
   "metadata": {},
   "outputs": [
    {
     "data": {
      "text/html": [
       "<div>\n",
       "<style scoped>\n",
       "    .dataframe tbody tr th:only-of-type {\n",
       "        vertical-align: middle;\n",
       "    }\n",
       "\n",
       "    .dataframe tbody tr th {\n",
       "        vertical-align: top;\n",
       "    }\n",
       "\n",
       "    .dataframe thead th {\n",
       "        text-align: right;\n",
       "    }\n",
       "</style>\n",
       "<table border=\"1\" class=\"dataframe\">\n",
       "  <thead>\n",
       "    <tr style=\"text-align: right;\">\n",
       "      <th></th>\n",
       "      <th>COILID</th>\n",
       "      <th>TILEID</th>\n",
       "      <th>MID</th>\n",
       "      <th>PLANT</th>\n",
       "      <th>SIDE</th>\n",
       "      <th>MEAN</th>\n",
       "      <th>MAX</th>\n",
       "      <th>MIN</th>\n",
       "      <th>COUNT</th>\n",
       "    </tr>\n",
       "  </thead>\n",
       "  <tbody>\n",
       "    <tr>\n",
       "      <th>0</th>\n",
       "      <td>225216688</td>\n",
       "      <td>0.0</td>\n",
       "      <td>1234</td>\n",
       "      <td>1066.0</td>\n",
       "      <td>T</td>\n",
       "      <td>147.09500</td>\n",
       "      <td>147.09500</td>\n",
       "      <td>147.09500</td>\n",
       "      <td>1.0</td>\n",
       "    </tr>\n",
       "    <tr>\n",
       "      <th>1</th>\n",
       "      <td>225216688</td>\n",
       "      <td>28.0</td>\n",
       "      <td>1234</td>\n",
       "      <td>1066.0</td>\n",
       "      <td>T</td>\n",
       "      <td>143.53551</td>\n",
       "      <td>143.53551</td>\n",
       "      <td>143.53551</td>\n",
       "      <td>1.0</td>\n",
       "    </tr>\n",
       "    <tr>\n",
       "      <th>2</th>\n",
       "      <td>225216688</td>\n",
       "      <td>56.0</td>\n",
       "      <td>1234</td>\n",
       "      <td>1066.0</td>\n",
       "      <td>T</td>\n",
       "      <td>132.94450</td>\n",
       "      <td>132.94450</td>\n",
       "      <td>132.94450</td>\n",
       "      <td>1.0</td>\n",
       "    </tr>\n",
       "    <tr>\n",
       "      <th>3</th>\n",
       "      <td>225216688</td>\n",
       "      <td>85.0</td>\n",
       "      <td>1234</td>\n",
       "      <td>1066.0</td>\n",
       "      <td>T</td>\n",
       "      <td>141.23540</td>\n",
       "      <td>141.23540</td>\n",
       "      <td>141.23540</td>\n",
       "      <td>1.0</td>\n",
       "    </tr>\n",
       "    <tr>\n",
       "      <th>4</th>\n",
       "      <td>225216688</td>\n",
       "      <td>113.0</td>\n",
       "      <td>1234</td>\n",
       "      <td>1066.0</td>\n",
       "      <td>T</td>\n",
       "      <td>143.35880</td>\n",
       "      <td>143.35880</td>\n",
       "      <td>143.35880</td>\n",
       "      <td>1.0</td>\n",
       "    </tr>\n",
       "    <tr>\n",
       "      <th>...</th>\n",
       "      <td>...</td>\n",
       "      <td>...</td>\n",
       "      <td>...</td>\n",
       "      <td>...</td>\n",
       "      <td>...</td>\n",
       "      <td>...</td>\n",
       "      <td>...</td>\n",
       "      <td>...</td>\n",
       "      <td>...</td>\n",
       "    </tr>\n",
       "    <tr>\n",
       "      <th>1272307</th>\n",
       "      <td>233667056</td>\n",
       "      <td>130929.0</td>\n",
       "      <td>1243</td>\n",
       "      <td>1066.0</td>\n",
       "      <td>T</td>\n",
       "      <td>46.29932</td>\n",
       "      <td>46.29932</td>\n",
       "      <td>46.29932</td>\n",
       "      <td>1.0</td>\n",
       "    </tr>\n",
       "    <tr>\n",
       "      <th>1272308</th>\n",
       "      <td>233667056</td>\n",
       "      <td>130958.0</td>\n",
       "      <td>1243</td>\n",
       "      <td>1066.0</td>\n",
       "      <td>T</td>\n",
       "      <td>45.68384</td>\n",
       "      <td>45.68384</td>\n",
       "      <td>45.68384</td>\n",
       "      <td>1.0</td>\n",
       "    </tr>\n",
       "    <tr>\n",
       "      <th>1272309</th>\n",
       "      <td>233667056</td>\n",
       "      <td>130986.0</td>\n",
       "      <td>1243</td>\n",
       "      <td>1066.0</td>\n",
       "      <td>T</td>\n",
       "      <td>44.40857</td>\n",
       "      <td>44.40857</td>\n",
       "      <td>44.40857</td>\n",
       "      <td>1.0</td>\n",
       "    </tr>\n",
       "    <tr>\n",
       "      <th>1272310</th>\n",
       "      <td>233667056</td>\n",
       "      <td>131015.0</td>\n",
       "      <td>1243</td>\n",
       "      <td>1066.0</td>\n",
       "      <td>T</td>\n",
       "      <td>44.03534</td>\n",
       "      <td>44.03534</td>\n",
       "      <td>44.03534</td>\n",
       "      <td>1.0</td>\n",
       "    </tr>\n",
       "    <tr>\n",
       "      <th>1272311</th>\n",
       "      <td>233667056</td>\n",
       "      <td>131043.0</td>\n",
       "      <td>1243</td>\n",
       "      <td>1066.0</td>\n",
       "      <td>T</td>\n",
       "      <td>52.01275</td>\n",
       "      <td>52.01275</td>\n",
       "      <td>52.01275</td>\n",
       "      <td>1.0</td>\n",
       "    </tr>\n",
       "  </tbody>\n",
       "</table>\n",
       "<p>1272312 rows × 9 columns</p>\n",
       "</div>"
      ],
      "text/plain": [
       "            COILID    TILEID   MID   PLANT SIDE       MEAN        MAX  \\\n",
       "0        225216688       0.0  1234  1066.0    T  147.09500  147.09500   \n",
       "1        225216688      28.0  1234  1066.0    T  143.53551  143.53551   \n",
       "2        225216688      56.0  1234  1066.0    T  132.94450  132.94450   \n",
       "3        225216688      85.0  1234  1066.0    T  141.23540  141.23540   \n",
       "4        225216688     113.0  1234  1066.0    T  143.35880  143.35880   \n",
       "...            ...       ...   ...     ...  ...        ...        ...   \n",
       "1272307  233667056  130929.0  1243  1066.0    T   46.29932   46.29932   \n",
       "1272308  233667056  130958.0  1243  1066.0    T   45.68384   45.68384   \n",
       "1272309  233667056  130986.0  1243  1066.0    T   44.40857   44.40857   \n",
       "1272310  233667056  131015.0  1243  1066.0    T   44.03534   44.03534   \n",
       "1272311  233667056  131043.0  1243  1066.0    T   52.01275   52.01275   \n",
       "\n",
       "               MIN  COUNT  \n",
       "0        147.09500    1.0  \n",
       "1        143.53551    1.0  \n",
       "2        132.94450    1.0  \n",
       "3        141.23540    1.0  \n",
       "4        143.35880    1.0  \n",
       "...            ...    ...  \n",
       "1272307   46.29932    1.0  \n",
       "1272308   45.68384    1.0  \n",
       "1272309   44.40857    1.0  \n",
       "1272310   44.03534    1.0  \n",
       "1272311   52.01275    1.0  \n",
       "\n",
       "[1272312 rows x 9 columns]"
      ]
     },
     "execution_count": 5,
     "metadata": {},
     "output_type": "execute_result"
    }
   ],
   "source": [
    "dosD"
   ]
  },
  {
   "cell_type": "code",
   "execution_count": 6,
   "id": "52319cf7",
   "metadata": {},
   "outputs": [
    {
     "name": "stdout",
     "output_type": "stream",
     "text": [
      "Número de registros donde los valores de 'mean', 'max' y 'min' son iguales: 1272312\n",
      "Valores únicos por columna: \n",
      " COILID      1160\n",
      "TILEID      8846\n",
      "MID            2\n",
      "PLANT          1\n",
      "SIDE           1\n",
      "MEAN      782728\n",
      "MAX       782728\n",
      "MIN       782728\n",
      "COUNT          1\n",
      "dtype: int64\n"
     ]
    }
   ],
   "source": [
    "num_registros_valores_iguales = len(dosD[(dosD['MEAN'] == dosD['MAX']) & (dosD['MAX'] == dosD['MIN'])])\n",
    "unicos_dosD = dosD.nunique()\n",
    "\n",
    "print(\"Número de registros donde los valores de 'mean', 'max' y 'min' son iguales:\", num_registros_valores_iguales)\n",
    "print(\"Valores únicos por columna: \\n\", unicos_dosD)"
   ]
  },
  {
   "cell_type": "code",
   "execution_count": 7,
   "id": "bb238b7b",
   "metadata": {},
   "outputs": [
    {
     "data": {
      "text/html": [
       "<div>\n",
       "<style scoped>\n",
       "    .dataframe tbody tr th:only-of-type {\n",
       "        vertical-align: middle;\n",
       "    }\n",
       "\n",
       "    .dataframe tbody tr th {\n",
       "        vertical-align: top;\n",
       "    }\n",
       "\n",
       "    .dataframe thead th {\n",
       "        text-align: right;\n",
       "    }\n",
       "</style>\n",
       "<table border=\"1\" class=\"dataframe\">\n",
       "  <thead>\n",
       "    <tr style=\"text-align: right;\">\n",
       "      <th></th>\n",
       "      <th>SID</th>\n",
       "      <th>PLANT</th>\n",
       "      <th>NAME</th>\n",
       "      <th>STARTTIME</th>\n",
       "      <th>MATERIAL</th>\n",
       "      <th>LENGTH</th>\n",
       "      <th>WIDTH</th>\n",
       "      <th>THICK</th>\n",
       "      <th>WEIGHT</th>\n",
       "      <th>BASEPID</th>\n",
       "      <th>CLASSLABEL</th>\n",
       "      <th>Label</th>\n",
       "      <th>ZnMin</th>\n",
       "      <th>ZnMax</th>\n",
       "    </tr>\n",
       "  </thead>\n",
       "  <tbody>\n",
       "    <tr>\n",
       "      <th>0</th>\n",
       "      <td>226031456</td>\n",
       "      <td>1066.0</td>\n",
       "      <td>226031456</td>\n",
       "      <td>2022-01-28</td>\n",
       "      <td>0.0</td>\n",
       "      <td>792.0</td>\n",
       "      <td>1183.0</td>\n",
       "      <td>3.0</td>\n",
       "      <td>22.0</td>\n",
       "      <td>220100.0</td>\n",
       "      <td>NOK</td>\n",
       "      <td>0</td>\n",
       "      <td>60</td>\n",
       "      <td>80</td>\n",
       "    </tr>\n",
       "    <tr>\n",
       "      <th>1</th>\n",
       "      <td>226101621</td>\n",
       "      <td>1066.0</td>\n",
       "      <td>226101621</td>\n",
       "      <td>2022-01-31</td>\n",
       "      <td>0.0</td>\n",
       "      <td>273.0</td>\n",
       "      <td>1252.0</td>\n",
       "      <td>4.0</td>\n",
       "      <td>10.0</td>\n",
       "      <td>220100.0</td>\n",
       "      <td>NOK</td>\n",
       "      <td>2</td>\n",
       "      <td>215</td>\n",
       "      <td>258</td>\n",
       "    </tr>\n",
       "    <tr>\n",
       "      <th>2</th>\n",
       "      <td>226120037</td>\n",
       "      <td>1066.0</td>\n",
       "      <td>226120037</td>\n",
       "      <td>2022-01-31</td>\n",
       "      <td>0.0</td>\n",
       "      <td>599.0</td>\n",
       "      <td>1305.0</td>\n",
       "      <td>2.0</td>\n",
       "      <td>15.0</td>\n",
       "      <td>220100.0</td>\n",
       "      <td>OK</td>\n",
       "      <td>1</td>\n",
       "      <td>155</td>\n",
       "      <td>175</td>\n",
       "    </tr>\n",
       "    <tr>\n",
       "      <th>3</th>\n",
       "      <td>225387481</td>\n",
       "      <td>1066.0</td>\n",
       "      <td>225387481</td>\n",
       "      <td>2022-01-13</td>\n",
       "      <td>0.0</td>\n",
       "      <td>268.0</td>\n",
       "      <td>1502.0</td>\n",
       "      <td>5.0</td>\n",
       "      <td>15.0</td>\n",
       "      <td>220100.0</td>\n",
       "      <td>OK</td>\n",
       "      <td>1</td>\n",
       "      <td>60</td>\n",
       "      <td>80</td>\n",
       "    </tr>\n",
       "    <tr>\n",
       "      <th>4</th>\n",
       "      <td>225406471</td>\n",
       "      <td>1066.0</td>\n",
       "      <td>225406471</td>\n",
       "      <td>2022-01-13</td>\n",
       "      <td>0.0</td>\n",
       "      <td>735.0</td>\n",
       "      <td>1158.0</td>\n",
       "      <td>2.0</td>\n",
       "      <td>19.0</td>\n",
       "      <td>220100.0</td>\n",
       "      <td>NOK</td>\n",
       "      <td>0</td>\n",
       "      <td>45</td>\n",
       "      <td>58</td>\n",
       "    </tr>\n",
       "    <tr>\n",
       "      <th>...</th>\n",
       "      <td>...</td>\n",
       "      <td>...</td>\n",
       "      <td>...</td>\n",
       "      <td>...</td>\n",
       "      <td>...</td>\n",
       "      <td>...</td>\n",
       "      <td>...</td>\n",
       "      <td>...</td>\n",
       "      <td>...</td>\n",
       "      <td>...</td>\n",
       "      <td>...</td>\n",
       "      <td>...</td>\n",
       "      <td>...</td>\n",
       "      <td>...</td>\n",
       "    </tr>\n",
       "    <tr>\n",
       "      <th>1155</th>\n",
       "      <td>233642421</td>\n",
       "      <td>1066.0</td>\n",
       "      <td>233642421</td>\n",
       "      <td>2022-08-31</td>\n",
       "      <td>0.0</td>\n",
       "      <td>576.0</td>\n",
       "      <td>1422.0</td>\n",
       "      <td>3.0</td>\n",
       "      <td>24.0</td>\n",
       "      <td>220800.0</td>\n",
       "      <td>OK</td>\n",
       "      <td>2</td>\n",
       "      <td>138</td>\n",
       "      <td>158</td>\n",
       "    </tr>\n",
       "    <tr>\n",
       "      <th>1156</th>\n",
       "      <td>233445180</td>\n",
       "      <td>1066.0</td>\n",
       "      <td>233445180</td>\n",
       "      <td>2022-08-25</td>\n",
       "      <td>0.0</td>\n",
       "      <td>513.0</td>\n",
       "      <td>1437.0</td>\n",
       "      <td>4.0</td>\n",
       "      <td>23.0</td>\n",
       "      <td>220800.0</td>\n",
       "      <td>OK</td>\n",
       "      <td>1</td>\n",
       "      <td>125</td>\n",
       "      <td>145</td>\n",
       "    </tr>\n",
       "    <tr>\n",
       "      <th>1157</th>\n",
       "      <td>232624927</td>\n",
       "      <td>1066.0</td>\n",
       "      <td>232624927</td>\n",
       "      <td>2022-08-01</td>\n",
       "      <td>0.0</td>\n",
       "      <td>345.0</td>\n",
       "      <td>1482.0</td>\n",
       "      <td>2.0</td>\n",
       "      <td>11.0</td>\n",
       "      <td>220800.0</td>\n",
       "      <td>OK</td>\n",
       "      <td>2</td>\n",
       "      <td>155</td>\n",
       "      <td>175</td>\n",
       "    </tr>\n",
       "    <tr>\n",
       "      <th>1158</th>\n",
       "      <td>232635130</td>\n",
       "      <td>1066.0</td>\n",
       "      <td>232635130</td>\n",
       "      <td>2022-08-01</td>\n",
       "      <td>0.0</td>\n",
       "      <td>457.0</td>\n",
       "      <td>968.0</td>\n",
       "      <td>3.0</td>\n",
       "      <td>11.0</td>\n",
       "      <td>220800.0</td>\n",
       "      <td>OK</td>\n",
       "      <td>1</td>\n",
       "      <td>88</td>\n",
       "      <td>108</td>\n",
       "    </tr>\n",
       "    <tr>\n",
       "      <th>1159</th>\n",
       "      <td>232638581</td>\n",
       "      <td>1066.0</td>\n",
       "      <td>232638581</td>\n",
       "      <td>2022-08-01</td>\n",
       "      <td>0.0</td>\n",
       "      <td>542.0</td>\n",
       "      <td>1047.0</td>\n",
       "      <td>5.0</td>\n",
       "      <td>22.0</td>\n",
       "      <td>220800.0</td>\n",
       "      <td>OK</td>\n",
       "      <td>1</td>\n",
       "      <td>60</td>\n",
       "      <td>80</td>\n",
       "    </tr>\n",
       "  </tbody>\n",
       "</table>\n",
       "<p>1160 rows × 14 columns</p>\n",
       "</div>"
      ],
      "text/plain": [
       "            SID   PLANT       NAME   STARTTIME  MATERIAL  LENGTH   WIDTH  \\\n",
       "0     226031456  1066.0  226031456  2022-01-28       0.0   792.0  1183.0   \n",
       "1     226101621  1066.0  226101621  2022-01-31       0.0   273.0  1252.0   \n",
       "2     226120037  1066.0  226120037  2022-01-31       0.0   599.0  1305.0   \n",
       "3     225387481  1066.0  225387481  2022-01-13       0.0   268.0  1502.0   \n",
       "4     225406471  1066.0  225406471  2022-01-13       0.0   735.0  1158.0   \n",
       "...         ...     ...        ...         ...       ...     ...     ...   \n",
       "1155  233642421  1066.0  233642421  2022-08-31       0.0   576.0  1422.0   \n",
       "1156  233445180  1066.0  233445180  2022-08-25       0.0   513.0  1437.0   \n",
       "1157  232624927  1066.0  232624927  2022-08-01       0.0   345.0  1482.0   \n",
       "1158  232635130  1066.0  232635130  2022-08-01       0.0   457.0   968.0   \n",
       "1159  232638581  1066.0  232638581  2022-08-01       0.0   542.0  1047.0   \n",
       "\n",
       "      THICK  WEIGHT   BASEPID CLASSLABEL  Label  ZnMin  ZnMax  \n",
       "0       3.0    22.0  220100.0        NOK      0     60     80  \n",
       "1       4.0    10.0  220100.0        NOK      2    215    258  \n",
       "2       2.0    15.0  220100.0         OK      1    155    175  \n",
       "3       5.0    15.0  220100.0         OK      1     60     80  \n",
       "4       2.0    19.0  220100.0        NOK      0     45     58  \n",
       "...     ...     ...       ...        ...    ...    ...    ...  \n",
       "1155    3.0    24.0  220800.0         OK      2    138    158  \n",
       "1156    4.0    23.0  220800.0         OK      1    125    145  \n",
       "1157    2.0    11.0  220800.0         OK      2    155    175  \n",
       "1158    3.0    11.0  220800.0         OK      1     88    108  \n",
       "1159    5.0    22.0  220800.0         OK      1     60     80  \n",
       "\n",
       "[1160 rows x 14 columns]"
      ]
     },
     "execution_count": 7,
     "metadata": {},
     "output_type": "execute_result"
    }
   ],
   "source": [
    "coils"
   ]
  },
  {
   "cell_type": "code",
   "execution_count": 8,
   "id": "3937d38d",
   "metadata": {},
   "outputs": [
    {
     "data": {
      "text/plain": [
       "SID           1160\n",
       "PLANT            1\n",
       "NAME          1160\n",
       "STARTTIME      204\n",
       "MATERIAL         1\n",
       "LENGTH         638\n",
       "WIDTH          374\n",
       "THICK            7\n",
       "WEIGHT          30\n",
       "BASEPID          8\n",
       "CLASSLABEL       2\n",
       "Label            4\n",
       "ZnMin           23\n",
       "ZnMax           25\n",
       "dtype: int64"
      ]
     },
     "execution_count": 8,
     "metadata": {},
     "output_type": "execute_result"
    }
   ],
   "source": [
    "unicos_coils = coils.nunique()\n",
    "unicos_coils"
   ]
  },
  {
   "cell_type": "code",
   "execution_count": 9,
   "id": "a56b39f9",
   "metadata": {},
   "outputs": [
    {
     "name": "stdout",
     "output_type": "stream",
     "text": [
      "Número de claves en el diccionario:  1160\n",
      "Claves por cada bobina:  [1234, 1243, 'props']\n"
     ]
    }
   ],
   "source": [
    "coil_keys = list(nclmaps['225216688'].keys())\n",
    "\n",
    "print(\"Número de claves en el diccionario: \",len(nclmaps.keys()))\n",
    "print(\"Claves por cada bobina: \", coil_keys)"
   ]
  },
  {
   "cell_type": "code",
   "execution_count": 10,
   "id": "f8b85ea5",
   "metadata": {},
   "outputs": [
    {
     "name": "stdout",
     "output_type": "stream",
     "text": [
      "['pos', 'zn', 'nzn', 'nzne']\n",
      "['pos', 'zn', 'nzn', 'nzne']\n",
      "['ntiles', 'Len', 'Wid', 'Label', 'ZnMn', 'ZnMx', 'nsns', 'callib_1234', 'nchks', 'nfltls', 'callib_1243', '1234_mx', '1234_mn', '1243_mx', '1243_mn', 'MxVal', 'MnVal']\n"
     ]
    }
   ],
   "source": [
    "for i in coil_keys:\n",
    "    print(list(nclmaps['225216688'][i].keys()))\n"
   ]
  },
  {
   "cell_type": "code",
   "execution_count": 11,
   "id": "24897f83-02fc-4ab3-b484-83044e6b7ae5",
   "metadata": {},
   "outputs": [
    {
     "name": "stdout",
     "output_type": "stream",
     "text": [
      "GlblFrm: {'NormMn': -279.38157, 'NormMx': 507.54791, 'MaxTiles': 264}\n",
      "nclmaps keys: dict_keys([1234, 1243, 'props'])\n",
      "nclmaps props: {'ntiles': 64, 'Len': 638.0, 'Wid': 1108.0, 'Label': 1, 'ZnMn': 138, 'ZnMx': 158, 'nsns': 9, 'callib_1234': {0: [], 1: [], 2: [], 3: [], 4: [], 5: [], 6: [], 7: [], 8: []}, 'nchks': {0: 1, 1: 2, 2: 5, 3: 5, 4: 7, 5: 3, 6: 0, 7: 0, 8: 0}, 'nfltls': {0: 4, 1: 4, 2: 44, 3: 42, 4: 30, 5: 4, 6: 0, 7: 0, 8: 0}, 'callib_1243': {0: [], 1: [], 2: [], 3: [], 4: [], 5: [], 6: [], 7: [], 8: []}, '1234_mx': 37.35920999999999, '1234_mn': -75.1079, '1243_mx': 54.614810000000006, '1243_mn': -10.365899999999996, 'MxVal': 54.614810000000006, 'MnVal': -75.1079}\n"
     ]
    }
   ],
   "source": [
    "print('GlblFrm:',GlblFrm)\n",
    "print('nclmaps keys:',nclmaps[list(nclmaps.keys())[0]].keys())\n",
    "print('nclmaps props:',nclmaps[list(nclmaps.keys())[0]]['props'])"
   ]
  },
  {
   "cell_type": "code",
   "execution_count": 12,
   "id": "7757e297-fb57-4c17-ab9e-91300c30026a",
   "metadata": {},
   "outputs": [
    {
     "data": {
      "text/plain": [
       "Label\n",
       "1    547\n",
       "0    261\n",
       "3    212\n",
       "2    140\n",
       "Name: count, dtype: int64"
      ]
     },
     "execution_count": 12,
     "metadata": {},
     "output_type": "execute_result"
    }
   ],
   "source": [
    "coils['Label'].value_counts()\n",
    "\n",
    "# 1 --> OK\n",
    "# 2 --> NOK"
   ]
  },
  {
   "cell_type": "markdown",
   "id": "ddd9e127",
   "metadata": {},
   "source": [
    "# Building Sets"
   ]
  },
  {
   "cell_type": "code",
   "execution_count": 13,
   "id": "39aee1b5-9db4-462a-9e19-22c2972c9386",
   "metadata": {},
   "outputs": [],
   "source": [
    "#  Selecting coils OK and NOK\n",
    "lsids1 = coils.loc[coils['Label']==1,'SID'].tolist()\n",
    "lsids2 = coils.loc[coils['Label']==2,'SID'].tolist()\n",
    "#\n",
    "# Select and extract 30 coil's sids for independent assessemnt\n",
    "ass1 = random.sample(lsids1, 30)\n",
    "ass2 = random.sample(lsids2, 30)\n",
    "res1 = np.array(list(set(lsids1) - set(ass1)))\n",
    "res2 = np.array(list(set(lsids2) - set(ass2)))\n",
    "#\n",
    "# The remaining are organized for building the model\n",
    "random.shuffle(res1)\n",
    "random.shuffle(res2)\n",
    "train1, validate1, test1 = np.split(res1,[int(.7*len(res1)), int(.9*len(res1))])\n",
    "train2, validate2, test2 = np.split(res2,[int(.7*len(res2)), int(.9*len(res2))])\n",
    "#\n",
    "# Building the full sets\n",
    "train = train1.tolist() + train2.tolist()\n",
    "valid = validate1.tolist() + validate2.tolist()\n",
    "test  = test1.tolist()  + test2.tolist()\n",
    "ass   = ass1   + ass2\n",
    "#"
   ]
  },
  {
   "cell_type": "code",
   "execution_count": 14,
   "id": "8b9424dc-80d4-4ed9-9463-38a39a14f80f",
   "metadata": {},
   "outputs": [],
   "source": [
    "def featureMap(id, nlcmaps):\n",
    "    arr1 = nclmaps[id][1234]['nzne'].to_numpy()\n",
    "    arr2 = nclmaps[id][1243]['nzne'].to_numpy()\n",
    "    arr  = np.concatenate((arr1, arr2), axis=1)\n",
    "    return(arr)\n",
    "#\n",
    "def prep_dataset(setd,nlcmaps):\n",
    "    setd_f = []\n",
    "    setd_l = []\n",
    "    for i in setd:\n",
    "        arrimg = featureMap(i, nclmaps)\n",
    "        lbl = coils.loc[coils['SID']==i,'Label'].values[0]\n",
    "        setd_f.append(arrimg)\n",
    "        if lbl == 1:\n",
    "            setd_l.append([1.,0.])\n",
    "        if lbl == 2:\n",
    "            setd_l.append([0.,1.])\n",
    "    setd_f = np.array(setd_f)\n",
    "    setd_l = np.array(setd_l)\n",
    "    return([setd_f,setd_l])\n",
    "#\n",
    "def factory_rep(arr,step=0):\n",
    "    # arr image havind 264 rows and 18 (9 face A+9 face B) columns of normalized data \n",
    "    # mirror per face over x axis\n",
    "    # channels 0-3 => 5-8 and 5-8 => 0-3\n",
    "    permut1 = list(range(8,4,-1))+[4] + list(range(3,-1,-1))+ list(range(17,13,-1))+[13]+list(range(12,8,-1))\n",
    "    idx = np.empty_like(permut1)\n",
    "    idx[permut1] = np.arange(len(permut1))\n",
    "    arr1 = arr[:,idx]\n",
    "    permut2 = list(range(263,131,-1))+ list(range(131,-1,-1))\n",
    "    idx = np.empty_like(permut2)\n",
    "    idx[permut2] = np.arange(len(permut2))    \n",
    "    arr2 = arr[idx,:]\n",
    "    arr3 = arr1[idx,:]\n",
    "    res  = [arr, arr1, arr2, arr3]\n",
    "    if step > 0:\n",
    "        newa = arr\n",
    "        end = arr.shape[0]-step\n",
    "        for i in range(arr.shape[0] // step):\n",
    "            permut = list(range(arr.shape[0]-step,arr.shape[0]))+list(range(0,end))\n",
    "            idx = np.empty_like(permut)\n",
    "            idx[permut] = np.arange(len(permut))\n",
    "            newb= newa[idx,:]\n",
    "            res.append(newb)\n",
    "            newa= newb\n",
    "    res = np.array(res)\n",
    "    return(res)\n",
    "#\n",
    "\n",
    "def prep_dataset_aug(setd,nlcmaps,tlab=-1):\n",
    "    setd_f = []\n",
    "    setd_l = []\n",
    "    for i in setd:\n",
    "        arrimg = featureMap(i, nclmaps)\n",
    "        lbl = coils.loc[coils['SID']==i,'Label'].values[0]\n",
    "        if lbl == tlab: # if lower class => higher augmentation\n",
    "            res = factory_rep(arrimg,step=8)\n",
    "        else:\n",
    "            res = factory_rep(arrimg)\n",
    "        for j in range(res.shape[0]):\n",
    "            setd_f.append(res[j,:,:])\n",
    "            if lbl == 1:\n",
    "                setd_l.append([1.,0.])\n",
    "            if lbl == 2:\n",
    "                setd_l.append([0.,1.])\n",
    "    setd_f = np.array(setd_f)\n",
    "    setd_l = np.array(setd_l)\n",
    "    return([setd_f,setd_l])"
   ]
  },
  {
   "cell_type": "code",
   "execution_count": 15,
   "id": "14b94b90-1bb1-4923-9ae5-bcca2e157cc3",
   "metadata": {},
   "outputs": [
    {
     "data": {
      "text/plain": [
       "(264, 18)"
      ]
     },
     "execution_count": 15,
     "metadata": {},
     "output_type": "execute_result"
    }
   ],
   "source": [
    "i=train[0]\n",
    "tmpimg = featureMap(i, nclmaps)\n",
    "tmpimg.shape"
   ]
  },
  {
   "cell_type": "code",
   "execution_count": 16,
   "id": "64affff8-d837-4739-828a-b62b3d3158f5",
   "metadata": {},
   "outputs": [],
   "source": [
    "goal = 'C:/Users/alexm/OneDrive/Escritorio/UNIVERSIDAD/TFG/ALVAREZ_CASTRO_Alejandro/ALVAREZ_CASTRO_Alejandro/ZN_1D_imgs/'\n",
    "# for i in train + valid + test:\n",
    "train_f, train_l = prep_dataset_aug(train,nclmaps,2)\n",
    "np.savez(goal+'train.npz', features=train_f, labels=train_l)\n",
    "#\n",
    "valid_f, valid_l = prep_dataset(valid,nclmaps)\n",
    "np.savez(goal+'validation.npz', features=valid_f, labels=valid_l)\n",
    "#\n",
    "test_f, test_l = prep_dataset(test,nclmaps)\n",
    "np.savez(goal+'test.npz', features=test_f, labels=test_l)\n",
    "#\n",
    "ass_f, ass_l = prep_dataset(ass,nclmaps)\n",
    "np.savez(goal+'assess.npz', features=ass_f, labels=ass_l)\n",
    "#"
   ]
  },
  {
   "cell_type": "code",
   "execution_count": 17,
   "id": "cd1b67e1-3a10-426a-8c8b-bac30e6340f8",
   "metadata": {},
   "outputs": [
    {
     "name": "stdout",
     "output_type": "stream",
     "text": [
      "(4293, 264, 18)\n",
      "(4293, 2)\n"
     ]
    }
   ],
   "source": [
    "#\n",
    "npzfile = np.load(goal+'train.npz')\n",
    "print(npzfile['features'].shape)\n",
    "print(npzfile['labels'].shape)"
   ]
  },
  {
   "cell_type": "markdown",
   "id": "4fd186f9",
   "metadata": {},
   "source": [
    "# Definition of the DQ_Model"
   ]
  },
  {
   "cell_type": "code",
   "execution_count": 18,
   "id": "73dbfa0d-8678-4389-ab03-80685062327f",
   "metadata": {},
   "outputs": [],
   "source": [
    "class DQCnnNet6(tf.keras.Model):\n",
    "    \"\"\"\n",
    "    - 6 capas convolucionales. Funcion de activación ReLU. \n",
    "    - 1 capa de normalización.\n",
    "    - 3 capas de dropout (0.4 droprate). \n",
    "    - 3 capas de average pooling.\n",
    "    - 2 capas fully connected.\n",
    "    \"\"\"\n",
    "\n",
    "    def __init__(self, inp_shape=(264, 18)):\n",
    "        super(DQCnnNet6, self).__init__()\n",
    "        self.inp_shape = inp_shape\n",
    "\n",
    "        self.kernel_size_0 = 20\n",
    "        self.kernel_size_1 = 6\n",
    "        self.drop_rate = 0.4\n",
    "\n",
    "        self.conv1 = tf.keras.layers.Conv1D(filters=32,\n",
    "                                            kernel_size=self.kernel_size_0,\n",
    "                                            activation='relu',\n",
    "                                            padding=\"same\",\n",
    "                                            input_shape=self.inp_shape)\n",
    "        self.conv2 = tf.keras.layers.Conv1D(filters=32,\n",
    "                                            kernel_size=self.kernel_size_0,\n",
    "                                            activation='relu',\n",
    "                                            padding=\"valid\")\n",
    "        self.conv3 = tf.keras.layers.Conv1D(filters=32,\n",
    "                                            kernel_size=self.kernel_size_0,\n",
    "                                            activation='relu',\n",
    "                                            padding=\"valid\")\n",
    "        self.conv4 = tf.keras.layers.Conv1D(filters=32,\n",
    "                                            kernel_size=self.kernel_size_1,\n",
    "                                            activation='relu',\n",
    "                                            padding=\"valid\")\n",
    "        self.conv5 = tf.keras.layers.Conv1D(filters=32,\n",
    "                                            kernel_size=self.kernel_size_1,\n",
    "                                            activation='relu',\n",
    "                                            padding=\"valid\")\n",
    "        self.conv6 = tf.keras.layers.Conv1D(filters=32,\n",
    "                                            kernel_size=self.kernel_size_1,\n",
    "                                            activation='relu',\n",
    "                                            padding=\"valid\")\n",
    "\n",
    "\n",
    "        self.batch_n1 = tf.keras.layers.BatchNormalization()\n",
    "\n",
    "        self.spatial_drop = tf.keras.layers.SpatialDropout1D(self.drop_rate)\n",
    "        self.avg_pool_1 = tf.keras.layers.MaxPool1D(pool_size=2)\n",
    "        self.avg_pool_2 = tf.keras.layers.MaxPool1D(pool_size=2)\n",
    "        self.avg_pool_3 = tf.keras.layers.MaxPool1D(pool_size=2)\n",
    "        self.avg_pool_4 = tf.keras.layers.MaxPool1D(pool_size=2)\n",
    "        self.avg_pool_5 = tf.keras.layers.AvgPool1D(pool_size=2)\n",
    "\n",
    "        self.flat = tf.keras.layers.Flatten()\n",
    "        self.dense1 = tf.keras.layers.Dense(256, activation='relu')\n",
    "        self.dropout1 = tf.keras.layers.Dropout(self.drop_rate)\n",
    "        self.dense2 = tf.keras.layers.Dense(148, activation='relu')\n",
    "        self.dropout2 = tf.keras.layers.Dropout(self.drop_rate)\n",
    "        self.dense3 = tf.keras.layers.Dense(74, activation='relu')\n",
    "        self.dropout3 = tf.keras.layers.Dropout(self.drop_rate)\n",
    "\n",
    "        self.out = tf.keras.layers.Dense(2, activation='softmax')\n",
    "\n",
    "    def call(self, input_tensor):\n",
    "        conv1 = self.conv1(input_tensor)\n",
    "        avg_pool_1 = self.avg_pool_1(conv1)\n",
    "        batch_n1 = self.batch_n1(avg_pool_1)\n",
    "        conv2 = self.conv2(batch_n1)\n",
    "        avg_pool_2 = self.avg_pool_2(conv2)\n",
    "        conv3 = self.conv3(avg_pool_2)\n",
    "        batch_n2 = self.batch_n1(conv3)\n",
    "        conv4 = self.conv4(conv3)\n",
    "        conv5 = self.conv4(conv4)\n",
    "        spatial_drop = self.spatial_drop(conv5)\n",
    "        flat = self.flat(spatial_drop)\n",
    "        dense1 = self.dense1(flat)\n",
    "        dropout1 = self.dropout1(dense1)\n",
    "        dense2 = self.dense2(dropout1)\n",
    "        dropout2 = self.dropout2(dense2)\n",
    "        dense3   = self.dense3(dropout2)\n",
    "        dropout3 = self.dropout3(dense3)\n",
    "        return self.out(dropout3)\n"
   ]
  },
  {
   "cell_type": "markdown",
   "id": "b014004d-12a1-493c-8c05-b56a7d604b6f",
   "metadata": {},
   "source": [
    "# Training the model"
   ]
  },
  {
   "cell_type": "code",
   "execution_count": 19,
   "id": "eae7e402",
   "metadata": {},
   "outputs": [],
   "source": [
    "model = DQCnnNet()\n",
    "num_simulaciones = 15"
   ]
  },
  {
   "cell_type": "code",
   "execution_count": 20,
   "id": "1fae6b79",
   "metadata": {},
   "outputs": [
    {
     "name": "stdout",
     "output_type": "stream",
     "text": [
      "Epoch 1/100\n",
      "86/86 [==============================] - 8s 67ms/step - loss: 0.6290 - accuracy: 0.6422 - val_loss: 0.7578 - val_accuracy: 0.1746\n",
      "Epoch 2/100\n",
      "84/86 [============================>.] - ETA: 0s - loss: 0.4902 - accuracy: 0.7795WARNING:tensorflow:Can save best model only with val_loss available, skipping.\n",
      "86/86 [==============================] - 5s 63ms/step - loss: 0.4897 - accuracy: 0.7801 - val_loss: 0.8313 - val_accuracy: 0.1984\n",
      "Epoch 3/100\n",
      "86/86 [==============================] - 6s 65ms/step - loss: 0.4329 - accuracy: 0.8253 - val_loss: 0.8077 - val_accuracy: 0.2063\n",
      "Epoch 4/100\n",
      "83/86 [===========================>..] - ETA: 0s - loss: 0.3935 - accuracy: 0.8470WARNING:tensorflow:Can save best model only with val_loss available, skipping.\n",
      "86/86 [==============================] - 5s 64ms/step - loss: 0.3928 - accuracy: 0.8470 - val_loss: 0.6055 - val_accuracy: 0.5159\n",
      "Epoch 5/100\n",
      "86/86 [==============================] - 5s 63ms/step - loss: 0.3522 - accuracy: 0.8612 - val_loss: 0.5807 - val_accuracy: 0.5476\n",
      "Epoch 6/100\n",
      "82/86 [===========================>..] - ETA: 0s - loss: 0.3381 - accuracy: 0.8695WARNING:tensorflow:Can save best model only with val_loss available, skipping.\n",
      "86/86 [==============================] - 5s 63ms/step - loss: 0.3388 - accuracy: 0.8691 - val_loss: 0.4856 - val_accuracy: 0.6905\n",
      "Epoch 7/100\n",
      "86/86 [==============================] - 5s 63ms/step - loss: 0.3217 - accuracy: 0.8733 - val_loss: 0.5031 - val_accuracy: 0.7222\n",
      "Epoch 8/100\n",
      "81/86 [===========================>..] - ETA: 0s - loss: 0.3042 - accuracy: 0.8852WARNING:tensorflow:Can save best model only with val_loss available, skipping.\n",
      "86/86 [==============================] - 5s 63ms/step - loss: 0.3072 - accuracy: 0.8828 - val_loss: 0.4893 - val_accuracy: 0.6905\n",
      "Epoch 9/100\n",
      "86/86 [==============================] - 5s 63ms/step - loss: 0.2996 - accuracy: 0.8798 - val_loss: 0.4815 - val_accuracy: 0.7540\n",
      "Epoch 10/100\n",
      "80/86 [==========================>...] - ETA: 0s - loss: 0.2796 - accuracy: 0.8935WARNING:tensorflow:Can save best model only with val_loss available, skipping.\n",
      "86/86 [==============================] - 5s 63ms/step - loss: 0.2812 - accuracy: 0.8919 - val_loss: 0.4675 - val_accuracy: 0.8095\n",
      "Epoch 11/100\n",
      "86/86 [==============================] - 5s 63ms/step - loss: 0.2830 - accuracy: 0.8863 - val_loss: 0.6092 - val_accuracy: 0.6667\n",
      "Epoch 12/100\n",
      "79/86 [==========================>...] - ETA: 0s - loss: 0.2617 - accuracy: 0.9010WARNING:tensorflow:Can save best model only with val_loss available, skipping.\n",
      "86/86 [==============================] - 5s 63ms/step - loss: 0.2623 - accuracy: 0.9008 - val_loss: 0.5469 - val_accuracy: 0.7698\n",
      "Epoch 13/100\n",
      "86/86 [==============================] - 5s 63ms/step - loss: 0.2671 - accuracy: 0.8980 - val_loss: 0.4789 - val_accuracy: 0.7778\n",
      "Epoch 14/100\n",
      "78/86 [==========================>...] - ETA: 0s - loss: 0.2567 - accuracy: 0.8985WARNING:tensorflow:Can save best model only with val_loss available, skipping.\n",
      "86/86 [==============================] - 5s 62ms/step - loss: 0.2517 - accuracy: 0.9005 - val_loss: 0.5319 - val_accuracy: 0.7937\n",
      "Epoch 15/100\n",
      "86/86 [==============================] - 5s 63ms/step - loss: 0.2309 - accuracy: 0.9157 - val_loss: 0.5571 - val_accuracy: 0.7460\n",
      "Epoch 16/100\n",
      "76/86 [=========================>....] - ETA: 0s - loss: 0.2429 - accuracy: 0.9076WARNING:tensorflow:Can save best model only with val_loss available, skipping.\n",
      "86/86 [==============================] - 5s 63ms/step - loss: 0.2429 - accuracy: 0.9078 - val_loss: 0.4465 - val_accuracy: 0.7778\n",
      "Epoch 17/100\n",
      "86/86 [==============================] - 5s 62ms/step - loss: 0.2355 - accuracy: 0.9089 - val_loss: 0.5268 - val_accuracy: 0.7698\n",
      "Epoch 18/100\n",
      "76/86 [=========================>....] - ETA: 0s - loss: 0.2423 - accuracy: 0.9079WARNING:tensorflow:Can save best model only with val_loss available, skipping.\n",
      "86/86 [==============================] - 5s 63ms/step - loss: 0.2369 - accuracy: 0.9103 - val_loss: 0.5174 - val_accuracy: 0.8016\n",
      "Epoch 19/100\n",
      "86/86 [==============================] - 5s 62ms/step - loss: 0.2059 - accuracy: 0.9245 - val_loss: 0.5288 - val_accuracy: 0.7619\n",
      "Epoch 20/100\n",
      "75/86 [=========================>....] - ETA: 0s - loss: 0.2183 - accuracy: 0.9160WARNING:tensorflow:Can save best model only with val_loss available, skipping.\n",
      "86/86 [==============================] - 5s 62ms/step - loss: 0.2139 - accuracy: 0.9189 - val_loss: 0.5350 - val_accuracy: 0.8016\n",
      "Epoch 21/100\n",
      "86/86 [==============================] - 5s 63ms/step - loss: 0.2115 - accuracy: 0.9273 - val_loss: 0.5275 - val_accuracy: 0.7937\n",
      "Epoch 22/100\n",
      "74/86 [========================>.....] - ETA: 0s - loss: 0.2073 - accuracy: 0.9230WARNING:tensorflow:Can save best model only with val_loss available, skipping.\n",
      "86/86 [==============================] - 5s 63ms/step - loss: 0.2072 - accuracy: 0.9224 - val_loss: 0.4523 - val_accuracy: 0.8175\n",
      "Epoch 23/100\n",
      "86/86 [==============================] - 5s 63ms/step - loss: 0.2020 - accuracy: 0.9257 - val_loss: 0.4964 - val_accuracy: 0.8095\n",
      "Epoch 24/100\n",
      "73/86 [========================>.....] - ETA: 0s - loss: 0.1823 - accuracy: 0.9332WARNING:tensorflow:Can save best model only with val_loss available, skipping.\n",
      "86/86 [==============================] - 5s 63ms/step - loss: 0.1880 - accuracy: 0.9299 - val_loss: 0.4973 - val_accuracy: 0.7937\n",
      "Epoch 25/100\n",
      "86/86 [==============================] - 5s 63ms/step - loss: 0.1769 - accuracy: 0.9336 - val_loss: 0.5714 - val_accuracy: 0.7619\n",
      "Epoch 26/100\n",
      "72/86 [========================>.....] - ETA: 0s - loss: 0.1811 - accuracy: 0.9353WARNING:tensorflow:Can save best model only with val_loss available, skipping.\n",
      "86/86 [==============================] - 5s 62ms/step - loss: 0.1811 - accuracy: 0.9362 - val_loss: 0.5560 - val_accuracy: 0.7937\n",
      "Epoch 27/100\n",
      "86/86 [==============================] - 5s 63ms/step - loss: 0.1839 - accuracy: 0.9306 - val_loss: 0.4871 - val_accuracy: 0.8095\n",
      "Epoch 28/100\n",
      "71/86 [=======================>......] - ETA: 1s - loss: 0.1700 - accuracy: 0.9397WARNING:tensorflow:Can save best model only with val_loss available, skipping.\n",
      "86/86 [==============================] - 6s 72ms/step - loss: 0.1645 - accuracy: 0.9408 - val_loss: 0.5309 - val_accuracy: 0.7937\n",
      "Epoch 29/100\n",
      "86/86 [==============================] - 6s 65ms/step - loss: 0.1756 - accuracy: 0.9376 - val_loss: 0.5311 - val_accuracy: 0.8175\n",
      "Epoch 30/100\n",
      "70/86 [=======================>......] - ETA: 1s - loss: 0.1801 - accuracy: 0.9337WARNING:tensorflow:Can save best model only with val_loss available, skipping.\n",
      "86/86 [==============================] - 6s 66ms/step - loss: 0.1795 - accuracy: 0.9348 - val_loss: 0.5642 - val_accuracy: 0.7857\n",
      "Epoch 31/100\n",
      "86/86 [==============================] - 6s 65ms/step - loss: 0.1662 - accuracy: 0.9432 - val_loss: 0.5523 - val_accuracy: 0.8095\n",
      "Epoch 32/100\n",
      "69/86 [=======================>......] - ETA: 1s - loss: 0.1735 - accuracy: 0.9351WARNING:tensorflow:Can save best model only with val_loss available, skipping.\n",
      "86/86 [==============================] - 6s 65ms/step - loss: 0.1689 - accuracy: 0.9380 - val_loss: 0.5408 - val_accuracy: 0.8016\n",
      "Epoch 33/100\n",
      "86/86 [==============================] - 6s 65ms/step - loss: 0.1639 - accuracy: 0.9378 - val_loss: 0.5182 - val_accuracy: 0.7857\n",
      "Epoch 34/100\n",
      "68/86 [======================>.......] - ETA: 1s - loss: 0.1576 - accuracy: 0.9403WARNING:tensorflow:Can save best model only with val_loss available, skipping.\n",
      "86/86 [==============================] - 6s 66ms/step - loss: 0.1644 - accuracy: 0.9401 - val_loss: 0.5371 - val_accuracy: 0.8016\n",
      "Epoch 35/100\n",
      "86/86 [==============================] - 6s 65ms/step - loss: 0.1551 - accuracy: 0.9436 - val_loss: 0.5227 - val_accuracy: 0.8095\n",
      "Epoch 36/100\n",
      "67/86 [======================>.......] - ETA: 1s - loss: 0.1644 - accuracy: 0.9364WARNING:tensorflow:Can save best model only with val_loss available, skipping.\n",
      "86/86 [==============================] - 6s 66ms/step - loss: 0.1604 - accuracy: 0.9380 - val_loss: 0.5825 - val_accuracy: 0.7937\n",
      "Epoch 37/100\n",
      "86/86 [==============================] - 6s 65ms/step - loss: 0.1495 - accuracy: 0.9453 - val_loss: 0.5164 - val_accuracy: 0.8254\n",
      "Epoch 38/100\n",
      "66/86 [======================>.......] - ETA: 1s - loss: 0.1466 - accuracy: 0.9482WARNING:tensorflow:Can save best model only with val_loss available, skipping.\n",
      "86/86 [==============================] - 6s 66ms/step - loss: 0.1463 - accuracy: 0.9474 - val_loss: 0.5224 - val_accuracy: 0.8492\n",
      "Epoch 39/100\n",
      "86/86 [==============================] - 6s 70ms/step - loss: 0.1398 - accuracy: 0.9502 - val_loss: 0.6031 - val_accuracy: 0.8095\n",
      "Epoch 40/100\n",
      "65/86 [=====================>........] - ETA: 1s - loss: 0.1407 - accuracy: 0.9489WARNING:tensorflow:Can save best model only with val_loss available, skipping.\n",
      "86/86 [==============================] - 6s 67ms/step - loss: 0.1487 - accuracy: 0.9478 - val_loss: 0.6175 - val_accuracy: 0.8095\n",
      "Epoch 41/100\n",
      "86/86 [==============================] - 6s 66ms/step - loss: 0.1430 - accuracy: 0.9443 - val_loss: 0.5953 - val_accuracy: 0.8254\n",
      "2/2 [==============================] - 0s 17ms/step\n",
      "Epoch 1/100\n",
      "86/86 [==============================] - 7s 68ms/step - loss: 0.2211 - accuracy: 0.9213 - val_loss: 0.5492 - val_accuracy: 0.7857\n",
      "Epoch 2/100\n",
      "84/86 [============================>.] - ETA: 0s - loss: 0.2390 - accuracy: 0.9152WARNING:tensorflow:Can save best model only with val_loss available, skipping.\n",
      "86/86 [==============================] - 6s 65ms/step - loss: 0.2371 - accuracy: 0.9157 - val_loss: 0.4903 - val_accuracy: 0.7857\n",
      "Epoch 3/100\n",
      "86/86 [==============================] - 6s 66ms/step - loss: 0.2220 - accuracy: 0.9145 - val_loss: 0.4441 - val_accuracy: 0.8175\n",
      "Epoch 4/100\n",
      "83/86 [===========================>..] - ETA: 0s - loss: 0.2087 - accuracy: 0.9198WARNING:tensorflow:Can save best model only with val_loss available, skipping.\n",
      "86/86 [==============================] - 6s 66ms/step - loss: 0.2091 - accuracy: 0.9196 - val_loss: 0.5712 - val_accuracy: 0.7302\n",
      "Epoch 5/100\n",
      "86/86 [==============================] - 6s 66ms/step - loss: 0.2361 - accuracy: 0.9122 - val_loss: 0.5281 - val_accuracy: 0.7857\n",
      "Epoch 6/100\n",
      "82/86 [===========================>..] - ETA: 0s - loss: 0.2052 - accuracy: 0.9229WARNING:tensorflow:Can save best model only with val_loss available, skipping.\n",
      "86/86 [==============================] - 6s 66ms/step - loss: 0.2047 - accuracy: 0.9234 - val_loss: 0.5123 - val_accuracy: 0.8016\n",
      "Epoch 7/100\n",
      "86/86 [==============================] - 5s 62ms/step - loss: 0.2173 - accuracy: 0.9168 - val_loss: 0.4860 - val_accuracy: 0.8254\n",
      "Epoch 8/100\n",
      "81/86 [===========================>..] - ETA: 0s - loss: 0.1945 - accuracy: 0.9286WARNING:tensorflow:Can save best model only with val_loss available, skipping.\n",
      "86/86 [==============================] - 6s 64ms/step - loss: 0.1953 - accuracy: 0.9266 - val_loss: 0.6905 - val_accuracy: 0.8175\n",
      "Epoch 9/100\n",
      "86/86 [==============================] - 6s 66ms/step - loss: 0.1869 - accuracy: 0.9334 - val_loss: 0.5817 - val_accuracy: 0.8016\n",
      "Epoch 10/100\n",
      "80/86 [==========================>...] - ETA: 0s - loss: 0.2002 - accuracy: 0.9260WARNING:tensorflow:Can save best model only with val_loss available, skipping.\n",
      "86/86 [==============================] - 6s 65ms/step - loss: 0.2010 - accuracy: 0.9259 - val_loss: 0.4713 - val_accuracy: 0.8333\n",
      "Epoch 11/100\n",
      "86/86 [==============================] - 6s 66ms/step - loss: 0.1906 - accuracy: 0.9297 - val_loss: 0.4900 - val_accuracy: 0.8413\n",
      "Epoch 12/100\n",
      "79/86 [==========================>...] - ETA: 0s - loss: 0.1637 - accuracy: 0.9395WARNING:tensorflow:Can save best model only with val_loss available, skipping.\n",
      "86/86 [==============================] - 6s 66ms/step - loss: 0.1619 - accuracy: 0.9404 - val_loss: 0.5739 - val_accuracy: 0.8254\n",
      "Epoch 13/100\n",
      "86/86 [==============================] - 5s 63ms/step - loss: 0.1762 - accuracy: 0.9406 - val_loss: 0.5137 - val_accuracy: 0.8095\n",
      "Epoch 14/100\n",
      "78/86 [==========================>...] - ETA: 0s - loss: 0.1660 - accuracy: 0.9379WARNING:tensorflow:Can save best model only with val_loss available, skipping.\n",
      "86/86 [==============================] - 6s 68ms/step - loss: 0.1627 - accuracy: 0.9392 - val_loss: 0.6149 - val_accuracy: 0.7698\n",
      "Epoch 15/100\n",
      "86/86 [==============================] - 6s 65ms/step - loss: 0.1728 - accuracy: 0.9394 - val_loss: 0.5375 - val_accuracy: 0.8175\n",
      "Epoch 16/100\n",
      "77/86 [=========================>....] - ETA: 0s - loss: 0.1447 - accuracy: 0.9470WARNING:tensorflow:Can save best model only with val_loss available, skipping.\n",
      "86/86 [==============================] - 5s 64ms/step - loss: 0.1443 - accuracy: 0.9483 - val_loss: 0.7065 - val_accuracy: 0.7619\n",
      "Epoch 17/100\n",
      "86/86 [==============================] - 5s 64ms/step - loss: 0.1514 - accuracy: 0.9429 - val_loss: 0.5545 - val_accuracy: 0.8413\n",
      "Epoch 18/100\n",
      "76/86 [=========================>....] - ETA: 0s - loss: 0.1583 - accuracy: 0.9418WARNING:tensorflow:Can save best model only with val_loss available, skipping.\n",
      "86/86 [==============================] - 6s 64ms/step - loss: 0.1640 - accuracy: 0.9418 - val_loss: 0.5827 - val_accuracy: 0.8016\n",
      "Epoch 19/100\n",
      "86/86 [==============================] - 5s 64ms/step - loss: 0.1507 - accuracy: 0.9457 - val_loss: 0.6480 - val_accuracy: 0.7778\n",
      "Epoch 20/100\n",
      "75/86 [=========================>....] - ETA: 0s - loss: 0.1500 - accuracy: 0.9475WARNING:tensorflow:Can save best model only with val_loss available, skipping.\n",
      "86/86 [==============================] - 6s 65ms/step - loss: 0.1463 - accuracy: 0.9481 - val_loss: 0.5694 - val_accuracy: 0.8254\n",
      "Epoch 21/100\n",
      "86/86 [==============================] - 6s 65ms/step - loss: 0.1491 - accuracy: 0.9464 - val_loss: 0.6085 - val_accuracy: 0.8492\n",
      "Epoch 22/100\n",
      "74/86 [========================>.....] - ETA: 0s - loss: 0.1452 - accuracy: 0.9438WARNING:tensorflow:Can save best model only with val_loss available, skipping.\n",
      "86/86 [==============================] - 6s 65ms/step - loss: 0.1464 - accuracy: 0.9427 - val_loss: 0.6032 - val_accuracy: 0.8254\n",
      "Epoch 23/100\n",
      "86/86 [==============================] - 5s 63ms/step - loss: 0.1303 - accuracy: 0.9520 - val_loss: 0.7157 - val_accuracy: 0.7937\n",
      "Epoch 24/100\n",
      "73/86 [========================>.....] - ETA: 0s - loss: 0.1341 - accuracy: 0.9540WARNING:tensorflow:Can save best model only with val_loss available, skipping.\n",
      "86/86 [==============================] - 5s 62ms/step - loss: 0.1313 - accuracy: 0.9546 - val_loss: 0.6252 - val_accuracy: 0.8016\n",
      "Epoch 25/100\n",
      "86/86 [==============================] - 6s 65ms/step - loss: 0.1416 - accuracy: 0.9483 - val_loss: 0.6133 - val_accuracy: 0.8333\n",
      "Epoch 26/100\n",
      "72/86 [========================>.....] - ETA: 0s - loss: 0.1320 - accuracy: 0.9564WARNING:tensorflow:Can save best model only with val_loss available, skipping.\n",
      "86/86 [==============================] - 6s 66ms/step - loss: 0.1317 - accuracy: 0.9553 - val_loss: 0.6559 - val_accuracy: 0.8254\n",
      "Epoch 27/100\n",
      "86/86 [==============================] - 6s 65ms/step - loss: 0.1735 - accuracy: 0.9352 - val_loss: 0.5769 - val_accuracy: 0.8175\n",
      "Epoch 28/100\n",
      "71/86 [=======================>......] - ETA: 0s - loss: 0.1471 - accuracy: 0.9442WARNING:tensorflow:Can save best model only with val_loss available, skipping.\n",
      "86/86 [==============================] - 5s 63ms/step - loss: 0.1459 - accuracy: 0.9457 - val_loss: 0.5195 - val_accuracy: 0.8254\n",
      "2/2 [==============================] - 0s 0s/step\n",
      "Epoch 1/100\n",
      "86/86 [==============================] - 7s 68ms/step - loss: 0.2190 - accuracy: 0.9168 - val_loss: 0.6130 - val_accuracy: 0.7778\n",
      "Epoch 2/100\n",
      "84/86 [============================>.] - ETA: 0s - loss: 0.2088 - accuracy: 0.9233WARNING:tensorflow:Can save best model only with val_loss available, skipping.\n",
      "86/86 [==============================] - 6s 64ms/step - loss: 0.2079 - accuracy: 0.9236 - val_loss: 0.6027 - val_accuracy: 0.7778\n",
      "Epoch 3/100\n",
      "86/86 [==============================] - 5s 64ms/step - loss: 0.2050 - accuracy: 0.9208 - val_loss: 0.5385 - val_accuracy: 0.8016\n",
      "Epoch 4/100\n",
      "83/86 [===========================>..] - ETA: 0s - loss: 0.1914 - accuracy: 0.9287WARNING:tensorflow:Can save best model only with val_loss available, skipping.\n",
      "86/86 [==============================] - 6s 66ms/step - loss: 0.1929 - accuracy: 0.9276 - val_loss: 0.5297 - val_accuracy: 0.7937\n",
      "Epoch 5/100\n",
      "86/86 [==============================] - 6s 65ms/step - loss: 0.2029 - accuracy: 0.9245 - val_loss: 0.4672 - val_accuracy: 0.8333\n",
      "Epoch 6/100\n",
      "82/86 [===========================>..] - ETA: 0s - loss: 0.1889 - accuracy: 0.9315WARNING:tensorflow:Can save best model only with val_loss available, skipping.\n",
      "86/86 [==============================] - 6s 65ms/step - loss: 0.1871 - accuracy: 0.9315 - val_loss: 0.5186 - val_accuracy: 0.7857\n",
      "Epoch 7/100\n",
      "86/86 [==============================] - 6s 64ms/step - loss: 0.1792 - accuracy: 0.9317 - val_loss: 0.4659 - val_accuracy: 0.8333\n",
      "Epoch 8/100\n",
      "81/86 [===========================>..] - ETA: 0s - loss: 0.1848 - accuracy: 0.9338WARNING:tensorflow:Can save best model only with val_loss available, skipping.\n",
      "86/86 [==============================] - 6s 65ms/step - loss: 0.1835 - accuracy: 0.9341 - val_loss: 0.5919 - val_accuracy: 0.7937\n",
      "Epoch 9/100\n",
      "86/86 [==============================] - 6s 65ms/step - loss: 0.1778 - accuracy: 0.9378 - val_loss: 0.5186 - val_accuracy: 0.8016\n",
      "Epoch 10/100\n",
      "79/86 [==========================>...] - ETA: 0s - loss: 0.1707 - accuracy: 0.9392WARNING:tensorflow:Can save best model only with val_loss available, skipping.\n",
      "86/86 [==============================] - 6s 65ms/step - loss: 0.1734 - accuracy: 0.9383 - val_loss: 0.5977 - val_accuracy: 0.7857\n",
      "Epoch 11/100\n",
      "86/86 [==============================] - 6s 65ms/step - loss: 0.1638 - accuracy: 0.9359 - val_loss: 0.6148 - val_accuracy: 0.8095\n",
      "Epoch 12/100\n",
      "79/86 [==========================>...] - ETA: 0s - loss: 0.1650 - accuracy: 0.9418WARNING:tensorflow:Can save best model only with val_loss available, skipping.\n",
      "86/86 [==============================] - 6s 66ms/step - loss: 0.1635 - accuracy: 0.9411 - val_loss: 0.5137 - val_accuracy: 0.8333\n",
      "Epoch 13/100\n",
      "86/86 [==============================] - 6s 64ms/step - loss: 0.1606 - accuracy: 0.9422 - val_loss: 0.5121 - val_accuracy: 0.8333\n",
      "Epoch 14/100\n",
      "78/86 [==========================>...] - ETA: 0s - loss: 0.1469 - accuracy: 0.9436WARNING:tensorflow:Can save best model only with val_loss available, skipping.\n",
      "86/86 [==============================] - 6s 69ms/step - loss: 0.1507 - accuracy: 0.9420 - val_loss: 0.5086 - val_accuracy: 0.8254\n",
      "Epoch 15/100\n",
      "86/86 [==============================] - 6s 68ms/step - loss: 0.1506 - accuracy: 0.9464 - val_loss: 0.5085 - val_accuracy: 0.8016\n",
      "Epoch 16/100\n",
      "76/86 [=========================>....] - ETA: 0s - loss: 0.1716 - accuracy: 0.9350WARNING:tensorflow:Can save best model only with val_loss available, skipping.\n",
      "86/86 [==============================] - 6s 68ms/step - loss: 0.1702 - accuracy: 0.9352 - val_loss: 0.5110 - val_accuracy: 0.8095\n",
      "Epoch 17/100\n",
      "86/86 [==============================] - 6s 67ms/step - loss: 0.1640 - accuracy: 0.9390 - val_loss: 0.5495 - val_accuracy: 0.8254\n",
      "Epoch 18/100\n",
      "76/86 [=========================>....] - ETA: 0s - loss: 0.1421 - accuracy: 0.9455WARNING:tensorflow:Can save best model only with val_loss available, skipping.\n",
      "86/86 [==============================] - 6s 67ms/step - loss: 0.1451 - accuracy: 0.9455 - val_loss: 0.4963 - val_accuracy: 0.8254\n",
      "Epoch 19/100\n",
      "86/86 [==============================] - 6s 68ms/step - loss: 0.1478 - accuracy: 0.9462 - val_loss: 0.6410 - val_accuracy: 0.7937\n",
      "Epoch 20/100\n",
      "75/86 [=========================>....] - ETA: 0s - loss: 0.1383 - accuracy: 0.9483WARNING:tensorflow:Can save best model only with val_loss available, skipping.\n",
      "86/86 [==============================] - 6s 68ms/step - loss: 0.1394 - accuracy: 0.9485 - val_loss: 0.6157 - val_accuracy: 0.8016\n",
      "Epoch 21/100\n",
      "86/86 [==============================] - 6s 67ms/step - loss: 0.1339 - accuracy: 0.9490 - val_loss: 0.5050 - val_accuracy: 0.8571\n",
      "Epoch 22/100\n",
      "74/86 [========================>.....] - ETA: 0s - loss: 0.1375 - accuracy: 0.9492WARNING:tensorflow:Can save best model only with val_loss available, skipping.\n",
      "86/86 [==============================] - 6s 67ms/step - loss: 0.1399 - accuracy: 0.9481 - val_loss: 0.6049 - val_accuracy: 0.8095\n",
      "Epoch 23/100\n",
      "86/86 [==============================] - 6s 67ms/step - loss: 0.1203 - accuracy: 0.9550 - val_loss: 0.7609 - val_accuracy: 0.7937\n",
      "Epoch 24/100\n",
      "73/86 [========================>.....] - ETA: 0s - loss: 0.1293 - accuracy: 0.9501WARNING:tensorflow:Can save best model only with val_loss available, skipping.\n",
      "86/86 [==============================] - 6s 67ms/step - loss: 0.1248 - accuracy: 0.9513 - val_loss: 0.6048 - val_accuracy: 0.8254\n",
      "Epoch 25/100\n",
      "86/86 [==============================] - 6s 68ms/step - loss: 0.1448 - accuracy: 0.9483 - val_loss: 0.5231 - val_accuracy: 0.8016\n",
      "Epoch 26/100\n",
      "72/86 [========================>.....] - ETA: 0s - loss: 0.1297 - accuracy: 0.9517WARNING:tensorflow:Can save best model only with val_loss available, skipping.\n",
      "86/86 [==============================] - 6s 69ms/step - loss: 0.1354 - accuracy: 0.9499 - val_loss: 0.6358 - val_accuracy: 0.7857\n",
      "Epoch 27/100\n",
      "86/86 [==============================] - 6s 68ms/step - loss: 0.1254 - accuracy: 0.9564 - val_loss: 0.5846 - val_accuracy: 0.8095\n",
      "Epoch 28/100\n",
      "71/86 [=======================>......] - ETA: 0s - loss: 0.1176 - accuracy: 0.9569WARNING:tensorflow:Can save best model only with val_loss available, skipping.\n",
      "86/86 [==============================] - 6s 66ms/step - loss: 0.1218 - accuracy: 0.9527 - val_loss: 0.5767 - val_accuracy: 0.8016\n",
      "Epoch 29/100\n",
      "86/86 [==============================] - 6s 67ms/step - loss: 0.1279 - accuracy: 0.9532 - val_loss: 0.6313 - val_accuracy: 0.8095\n",
      "Epoch 30/100\n",
      "70/86 [=======================>......] - ETA: 1s - loss: 0.1162 - accuracy: 0.9520WARNING:tensorflow:Can save best model only with val_loss available, skipping.\n",
      "86/86 [==============================] - 6s 65ms/step - loss: 0.1166 - accuracy: 0.9527 - val_loss: 0.6465 - val_accuracy: 0.8095\n",
      "Epoch 31/100\n",
      "86/86 [==============================] - 5s 64ms/step - loss: 0.1159 - accuracy: 0.9534 - val_loss: 0.6489 - val_accuracy: 0.7857\n",
      "Epoch 32/100\n",
      "69/86 [=======================>......] - ETA: 1s - loss: 0.1165 - accuracy: 0.9562WARNING:tensorflow:Can save best model only with val_loss available, skipping.\n",
      "86/86 [==============================] - 6s 65ms/step - loss: 0.1151 - accuracy: 0.9562 - val_loss: 0.6648 - val_accuracy: 0.8175\n",
      "2/2 [==============================] - 0s 1ms/step\n",
      "\n",
      "Mean Precision: [0.67148684 0.67334075]\n",
      "Mean Recall: [0.67777778 0.66666667]\n",
      "Mean F1-score: [0.67444661 0.66981569]\n",
      "Mean Accuracy: 0.6722222222222222\n",
      "Mean Conf. Matrix [[20.33333333  9.66666667]\n",
      " [10.         20.        ]]\n",
      "\n",
      "Standard Deviation of Precision: [0.03722995 0.02569391]\n",
      "Standard Deviation of Recall: [0.01571348 0.04714045]\n",
      "Standard Deviation of F1-score: [0.02645838 0.03641302]\n",
      "Standard Deviation of Accuracy: 0.03142696805273544\n",
      "Standart Conf. Matrix [[0.47140452 0.47140452]\n",
      " [1.41421356 1.41421356]]\n"
     ]
    }
   ],
   "source": [
    "metrics_plot, conf_plot, mean_precision, std_dev_precision, mean_recall, std_dev_recall, mean_f1, std_dev_f1, mean_accuracy, std_dev_accuracy = simulations(num_simulaciones, model, train_f, train_l, valid_f, valid_l, ass_f, ass_l)"
   ]
  },
  {
   "cell_type": "code",
   "execution_count": 21,
   "id": "2f2ceb74",
   "metadata": {},
   "outputs": [
    {
     "data": {
      "application/vnd.plotly.v1+json": {
       "config": {
        "plotlyServerURL": "https://plot.ly"
       },
       "data": [
        {
         "error_y": {
          "array": [
           0.03722994546847971,
           0.025693906027542356
          ],
          "type": "data",
          "visible": true
         },
         "marker": {
          "color": "rgb(153, 43, 132)"
         },
         "name": "Precision",
         "type": "bar",
         "x": [
          "OK",
          "NOK"
         ],
         "y": [
          0.671486837226548,
          0.6733407489803485
         ]
        },
        {
         "error_y": {
          "array": [
           0.01571348402636772,
           0.04714045207910316
          ],
          "type": "data",
          "visible": true
         },
         "marker": {
          "color": "rgb(255, 153, 51)"
         },
         "name": "Recall",
         "type": "bar",
         "x": [
          "OK",
          "NOK"
         ],
         "y": [
          0.6777777777777777,
          0.6666666666666666
         ]
        },
        {
         "error_y": {
          "array": [
           0.02645838099466198,
           0.03641301938869323
          ],
          "type": "data",
          "visible": true
         },
         "marker": {
          "color": "rgb(51, 153, 255)"
         },
         "name": "F1-Score",
         "type": "bar",
         "x": [
          "OK",
          "NOK"
         ],
         "y": [
          0.6744466055385755,
          0.6698156895433917
         ]
        }
       ],
       "layout": {
        "bargap": 0.15,
        "barmode": "group",
        "template": {
         "data": {
          "bar": [
           {
            "error_x": {
             "color": "#2a3f5f"
            },
            "error_y": {
             "color": "#2a3f5f"
            },
            "marker": {
             "line": {
              "color": "#E5ECF6",
              "width": 0.5
             },
             "pattern": {
              "fillmode": "overlay",
              "size": 10,
              "solidity": 0.2
             }
            },
            "type": "bar"
           }
          ],
          "barpolar": [
           {
            "marker": {
             "line": {
              "color": "#E5ECF6",
              "width": 0.5
             },
             "pattern": {
              "fillmode": "overlay",
              "size": 10,
              "solidity": 0.2
             }
            },
            "type": "barpolar"
           }
          ],
          "carpet": [
           {
            "aaxis": {
             "endlinecolor": "#2a3f5f",
             "gridcolor": "white",
             "linecolor": "white",
             "minorgridcolor": "white",
             "startlinecolor": "#2a3f5f"
            },
            "baxis": {
             "endlinecolor": "#2a3f5f",
             "gridcolor": "white",
             "linecolor": "white",
             "minorgridcolor": "white",
             "startlinecolor": "#2a3f5f"
            },
            "type": "carpet"
           }
          ],
          "choropleth": [
           {
            "colorbar": {
             "outlinewidth": 0,
             "ticks": ""
            },
            "type": "choropleth"
           }
          ],
          "contour": [
           {
            "colorbar": {
             "outlinewidth": 0,
             "ticks": ""
            },
            "colorscale": [
             [
              0,
              "#0d0887"
             ],
             [
              0.1111111111111111,
              "#46039f"
             ],
             [
              0.2222222222222222,
              "#7201a8"
             ],
             [
              0.3333333333333333,
              "#9c179e"
             ],
             [
              0.4444444444444444,
              "#bd3786"
             ],
             [
              0.5555555555555556,
              "#d8576b"
             ],
             [
              0.6666666666666666,
              "#ed7953"
             ],
             [
              0.7777777777777778,
              "#fb9f3a"
             ],
             [
              0.8888888888888888,
              "#fdca26"
             ],
             [
              1,
              "#f0f921"
             ]
            ],
            "type": "contour"
           }
          ],
          "contourcarpet": [
           {
            "colorbar": {
             "outlinewidth": 0,
             "ticks": ""
            },
            "type": "contourcarpet"
           }
          ],
          "heatmap": [
           {
            "colorbar": {
             "outlinewidth": 0,
             "ticks": ""
            },
            "colorscale": [
             [
              0,
              "#0d0887"
             ],
             [
              0.1111111111111111,
              "#46039f"
             ],
             [
              0.2222222222222222,
              "#7201a8"
             ],
             [
              0.3333333333333333,
              "#9c179e"
             ],
             [
              0.4444444444444444,
              "#bd3786"
             ],
             [
              0.5555555555555556,
              "#d8576b"
             ],
             [
              0.6666666666666666,
              "#ed7953"
             ],
             [
              0.7777777777777778,
              "#fb9f3a"
             ],
             [
              0.8888888888888888,
              "#fdca26"
             ],
             [
              1,
              "#f0f921"
             ]
            ],
            "type": "heatmap"
           }
          ],
          "heatmapgl": [
           {
            "colorbar": {
             "outlinewidth": 0,
             "ticks": ""
            },
            "colorscale": [
             [
              0,
              "#0d0887"
             ],
             [
              0.1111111111111111,
              "#46039f"
             ],
             [
              0.2222222222222222,
              "#7201a8"
             ],
             [
              0.3333333333333333,
              "#9c179e"
             ],
             [
              0.4444444444444444,
              "#bd3786"
             ],
             [
              0.5555555555555556,
              "#d8576b"
             ],
             [
              0.6666666666666666,
              "#ed7953"
             ],
             [
              0.7777777777777778,
              "#fb9f3a"
             ],
             [
              0.8888888888888888,
              "#fdca26"
             ],
             [
              1,
              "#f0f921"
             ]
            ],
            "type": "heatmapgl"
           }
          ],
          "histogram": [
           {
            "marker": {
             "pattern": {
              "fillmode": "overlay",
              "size": 10,
              "solidity": 0.2
             }
            },
            "type": "histogram"
           }
          ],
          "histogram2d": [
           {
            "colorbar": {
             "outlinewidth": 0,
             "ticks": ""
            },
            "colorscale": [
             [
              0,
              "#0d0887"
             ],
             [
              0.1111111111111111,
              "#46039f"
             ],
             [
              0.2222222222222222,
              "#7201a8"
             ],
             [
              0.3333333333333333,
              "#9c179e"
             ],
             [
              0.4444444444444444,
              "#bd3786"
             ],
             [
              0.5555555555555556,
              "#d8576b"
             ],
             [
              0.6666666666666666,
              "#ed7953"
             ],
             [
              0.7777777777777778,
              "#fb9f3a"
             ],
             [
              0.8888888888888888,
              "#fdca26"
             ],
             [
              1,
              "#f0f921"
             ]
            ],
            "type": "histogram2d"
           }
          ],
          "histogram2dcontour": [
           {
            "colorbar": {
             "outlinewidth": 0,
             "ticks": ""
            },
            "colorscale": [
             [
              0,
              "#0d0887"
             ],
             [
              0.1111111111111111,
              "#46039f"
             ],
             [
              0.2222222222222222,
              "#7201a8"
             ],
             [
              0.3333333333333333,
              "#9c179e"
             ],
             [
              0.4444444444444444,
              "#bd3786"
             ],
             [
              0.5555555555555556,
              "#d8576b"
             ],
             [
              0.6666666666666666,
              "#ed7953"
             ],
             [
              0.7777777777777778,
              "#fb9f3a"
             ],
             [
              0.8888888888888888,
              "#fdca26"
             ],
             [
              1,
              "#f0f921"
             ]
            ],
            "type": "histogram2dcontour"
           }
          ],
          "mesh3d": [
           {
            "colorbar": {
             "outlinewidth": 0,
             "ticks": ""
            },
            "type": "mesh3d"
           }
          ],
          "parcoords": [
           {
            "line": {
             "colorbar": {
              "outlinewidth": 0,
              "ticks": ""
             }
            },
            "type": "parcoords"
           }
          ],
          "pie": [
           {
            "automargin": true,
            "type": "pie"
           }
          ],
          "scatter": [
           {
            "fillpattern": {
             "fillmode": "overlay",
             "size": 10,
             "solidity": 0.2
            },
            "type": "scatter"
           }
          ],
          "scatter3d": [
           {
            "line": {
             "colorbar": {
              "outlinewidth": 0,
              "ticks": ""
             }
            },
            "marker": {
             "colorbar": {
              "outlinewidth": 0,
              "ticks": ""
             }
            },
            "type": "scatter3d"
           }
          ],
          "scattercarpet": [
           {
            "marker": {
             "colorbar": {
              "outlinewidth": 0,
              "ticks": ""
             }
            },
            "type": "scattercarpet"
           }
          ],
          "scattergeo": [
           {
            "marker": {
             "colorbar": {
              "outlinewidth": 0,
              "ticks": ""
             }
            },
            "type": "scattergeo"
           }
          ],
          "scattergl": [
           {
            "marker": {
             "colorbar": {
              "outlinewidth": 0,
              "ticks": ""
             }
            },
            "type": "scattergl"
           }
          ],
          "scattermapbox": [
           {
            "marker": {
             "colorbar": {
              "outlinewidth": 0,
              "ticks": ""
             }
            },
            "type": "scattermapbox"
           }
          ],
          "scatterpolar": [
           {
            "marker": {
             "colorbar": {
              "outlinewidth": 0,
              "ticks": ""
             }
            },
            "type": "scatterpolar"
           }
          ],
          "scatterpolargl": [
           {
            "marker": {
             "colorbar": {
              "outlinewidth": 0,
              "ticks": ""
             }
            },
            "type": "scatterpolargl"
           }
          ],
          "scatterternary": [
           {
            "marker": {
             "colorbar": {
              "outlinewidth": 0,
              "ticks": ""
             }
            },
            "type": "scatterternary"
           }
          ],
          "surface": [
           {
            "colorbar": {
             "outlinewidth": 0,
             "ticks": ""
            },
            "colorscale": [
             [
              0,
              "#0d0887"
             ],
             [
              0.1111111111111111,
              "#46039f"
             ],
             [
              0.2222222222222222,
              "#7201a8"
             ],
             [
              0.3333333333333333,
              "#9c179e"
             ],
             [
              0.4444444444444444,
              "#bd3786"
             ],
             [
              0.5555555555555556,
              "#d8576b"
             ],
             [
              0.6666666666666666,
              "#ed7953"
             ],
             [
              0.7777777777777778,
              "#fb9f3a"
             ],
             [
              0.8888888888888888,
              "#fdca26"
             ],
             [
              1,
              "#f0f921"
             ]
            ],
            "type": "surface"
           }
          ],
          "table": [
           {
            "cells": {
             "fill": {
              "color": "#EBF0F8"
             },
             "line": {
              "color": "white"
             }
            },
            "header": {
             "fill": {
              "color": "#C8D4E3"
             },
             "line": {
              "color": "white"
             }
            },
            "type": "table"
           }
          ]
         },
         "layout": {
          "annotationdefaults": {
           "arrowcolor": "#2a3f5f",
           "arrowhead": 0,
           "arrowwidth": 1
          },
          "autotypenumbers": "strict",
          "coloraxis": {
           "colorbar": {
            "outlinewidth": 0,
            "ticks": ""
           }
          },
          "colorscale": {
           "diverging": [
            [
             0,
             "#8e0152"
            ],
            [
             0.1,
             "#c51b7d"
            ],
            [
             0.2,
             "#de77ae"
            ],
            [
             0.3,
             "#f1b6da"
            ],
            [
             0.4,
             "#fde0ef"
            ],
            [
             0.5,
             "#f7f7f7"
            ],
            [
             0.6,
             "#e6f5d0"
            ],
            [
             0.7,
             "#b8e186"
            ],
            [
             0.8,
             "#7fbc41"
            ],
            [
             0.9,
             "#4d9221"
            ],
            [
             1,
             "#276419"
            ]
           ],
           "sequential": [
            [
             0,
             "#0d0887"
            ],
            [
             0.1111111111111111,
             "#46039f"
            ],
            [
             0.2222222222222222,
             "#7201a8"
            ],
            [
             0.3333333333333333,
             "#9c179e"
            ],
            [
             0.4444444444444444,
             "#bd3786"
            ],
            [
             0.5555555555555556,
             "#d8576b"
            ],
            [
             0.6666666666666666,
             "#ed7953"
            ],
            [
             0.7777777777777778,
             "#fb9f3a"
            ],
            [
             0.8888888888888888,
             "#fdca26"
            ],
            [
             1,
             "#f0f921"
            ]
           ],
           "sequentialminus": [
            [
             0,
             "#0d0887"
            ],
            [
             0.1111111111111111,
             "#46039f"
            ],
            [
             0.2222222222222222,
             "#7201a8"
            ],
            [
             0.3333333333333333,
             "#9c179e"
            ],
            [
             0.4444444444444444,
             "#bd3786"
            ],
            [
             0.5555555555555556,
             "#d8576b"
            ],
            [
             0.6666666666666666,
             "#ed7953"
            ],
            [
             0.7777777777777778,
             "#fb9f3a"
            ],
            [
             0.8888888888888888,
             "#fdca26"
            ],
            [
             1,
             "#f0f921"
            ]
           ]
          },
          "colorway": [
           "#636efa",
           "#EF553B",
           "#00cc96",
           "#ab63fa",
           "#FFA15A",
           "#19d3f3",
           "#FF6692",
           "#B6E880",
           "#FF97FF",
           "#FECB52"
          ],
          "font": {
           "color": "#2a3f5f"
          },
          "geo": {
           "bgcolor": "white",
           "lakecolor": "white",
           "landcolor": "#E5ECF6",
           "showlakes": true,
           "showland": true,
           "subunitcolor": "white"
          },
          "hoverlabel": {
           "align": "left"
          },
          "hovermode": "closest",
          "mapbox": {
           "style": "light"
          },
          "paper_bgcolor": "white",
          "plot_bgcolor": "#E5ECF6",
          "polar": {
           "angularaxis": {
            "gridcolor": "white",
            "linecolor": "white",
            "ticks": ""
           },
           "bgcolor": "#E5ECF6",
           "radialaxis": {
            "gridcolor": "white",
            "linecolor": "white",
            "ticks": ""
           }
          },
          "scene": {
           "xaxis": {
            "backgroundcolor": "#E5ECF6",
            "gridcolor": "white",
            "gridwidth": 2,
            "linecolor": "white",
            "showbackground": true,
            "ticks": "",
            "zerolinecolor": "white"
           },
           "yaxis": {
            "backgroundcolor": "#E5ECF6",
            "gridcolor": "white",
            "gridwidth": 2,
            "linecolor": "white",
            "showbackground": true,
            "ticks": "",
            "zerolinecolor": "white"
           },
           "zaxis": {
            "backgroundcolor": "#E5ECF6",
            "gridcolor": "white",
            "gridwidth": 2,
            "linecolor": "white",
            "showbackground": true,
            "ticks": "",
            "zerolinecolor": "white"
           }
          },
          "shapedefaults": {
           "line": {
            "color": "#2a3f5f"
           }
          },
          "ternary": {
           "aaxis": {
            "gridcolor": "white",
            "linecolor": "white",
            "ticks": ""
           },
           "baxis": {
            "gridcolor": "white",
            "linecolor": "white",
            "ticks": ""
           },
           "bgcolor": "#E5ECF6",
           "caxis": {
            "gridcolor": "white",
            "linecolor": "white",
            "ticks": ""
           }
          },
          "title": {
           "x": 0.05
          },
          "xaxis": {
           "automargin": true,
           "gridcolor": "white",
           "linecolor": "white",
           "ticks": "",
           "title": {
            "standoff": 15
           },
           "zerolinecolor": "white",
           "zerolinewidth": 2
          },
          "yaxis": {
           "automargin": true,
           "gridcolor": "white",
           "linecolor": "white",
           "ticks": "",
           "title": {
            "standoff": 15
           },
           "zerolinecolor": "white",
           "zerolinewidth": 2
          }
         }
        },
        "title": {
         "text": "Metrics per class"
        },
        "xaxis": {
         "title": {
          "text": "Classes"
         }
        },
        "yaxis": {
         "tickformat": ".2%",
         "title": {
          "text": "Value"
         }
        }
       }
      }
     },
     "metadata": {},
     "output_type": "display_data"
    }
   ],
   "source": [
    "metrics_plot"
   ]
  },
  {
   "cell_type": "code",
   "execution_count": 22,
   "id": "81c405f5",
   "metadata": {},
   "outputs": [
    {
     "data": {
      "application/vnd.plotly.v1+json": {
       "config": {
        "plotlyServerURL": "https://plot.ly"
       },
       "data": [
        {
         "colorbar": {
          "title": {
           "text": "Count"
          }
         },
         "colorscale": [
          [
           0,
           "rgb(247,251,255)"
          ],
          [
           0.125,
           "rgb(222,235,247)"
          ],
          [
           0.25,
           "rgb(198,219,239)"
          ],
          [
           0.375,
           "rgb(158,202,225)"
          ],
          [
           0.5,
           "rgb(107,174,214)"
          ],
          [
           0.625,
           "rgb(66,146,198)"
          ],
          [
           0.75,
           "rgb(33,113,181)"
          ],
          [
           0.875,
           "rgb(8,81,156)"
          ],
          [
           1,
           "rgb(8,48,107)"
          ]
         ],
         "hoverongaps": false,
         "type": "heatmap",
         "z": [
          [
           20.333333333333332,
           9.666666666666666
          ],
          [
           10,
           20
          ]
         ],
         "zmax": 20.333333333333332,
         "zmin": 9.666666666666666
        }
       ],
       "layout": {
        "annotations": [
         {
          "font": {
           "color": "black"
          },
          "showarrow": false,
          "text": "20.33 ± 0.47",
          "x": 0,
          "y": 0
         },
         {
          "font": {
           "color": "black"
          },
          "showarrow": false,
          "text": "9.67 ± 0.47",
          "x": 1,
          "y": 0
         },
         {
          "font": {
           "color": "black"
          },
          "showarrow": false,
          "text": "10.00 ± 1.41",
          "x": 0,
          "y": 1
         },
         {
          "font": {
           "color": "black"
          },
          "showarrow": false,
          "text": "20.00 ± 1.41",
          "x": 1,
          "y": 1
         }
        ],
        "template": {
         "data": {
          "bar": [
           {
            "error_x": {
             "color": "#2a3f5f"
            },
            "error_y": {
             "color": "#2a3f5f"
            },
            "marker": {
             "line": {
              "color": "#E5ECF6",
              "width": 0.5
             },
             "pattern": {
              "fillmode": "overlay",
              "size": 10,
              "solidity": 0.2
             }
            },
            "type": "bar"
           }
          ],
          "barpolar": [
           {
            "marker": {
             "line": {
              "color": "#E5ECF6",
              "width": 0.5
             },
             "pattern": {
              "fillmode": "overlay",
              "size": 10,
              "solidity": 0.2
             }
            },
            "type": "barpolar"
           }
          ],
          "carpet": [
           {
            "aaxis": {
             "endlinecolor": "#2a3f5f",
             "gridcolor": "white",
             "linecolor": "white",
             "minorgridcolor": "white",
             "startlinecolor": "#2a3f5f"
            },
            "baxis": {
             "endlinecolor": "#2a3f5f",
             "gridcolor": "white",
             "linecolor": "white",
             "minorgridcolor": "white",
             "startlinecolor": "#2a3f5f"
            },
            "type": "carpet"
           }
          ],
          "choropleth": [
           {
            "colorbar": {
             "outlinewidth": 0,
             "ticks": ""
            },
            "type": "choropleth"
           }
          ],
          "contour": [
           {
            "colorbar": {
             "outlinewidth": 0,
             "ticks": ""
            },
            "colorscale": [
             [
              0,
              "#0d0887"
             ],
             [
              0.1111111111111111,
              "#46039f"
             ],
             [
              0.2222222222222222,
              "#7201a8"
             ],
             [
              0.3333333333333333,
              "#9c179e"
             ],
             [
              0.4444444444444444,
              "#bd3786"
             ],
             [
              0.5555555555555556,
              "#d8576b"
             ],
             [
              0.6666666666666666,
              "#ed7953"
             ],
             [
              0.7777777777777778,
              "#fb9f3a"
             ],
             [
              0.8888888888888888,
              "#fdca26"
             ],
             [
              1,
              "#f0f921"
             ]
            ],
            "type": "contour"
           }
          ],
          "contourcarpet": [
           {
            "colorbar": {
             "outlinewidth": 0,
             "ticks": ""
            },
            "type": "contourcarpet"
           }
          ],
          "heatmap": [
           {
            "colorbar": {
             "outlinewidth": 0,
             "ticks": ""
            },
            "colorscale": [
             [
              0,
              "#0d0887"
             ],
             [
              0.1111111111111111,
              "#46039f"
             ],
             [
              0.2222222222222222,
              "#7201a8"
             ],
             [
              0.3333333333333333,
              "#9c179e"
             ],
             [
              0.4444444444444444,
              "#bd3786"
             ],
             [
              0.5555555555555556,
              "#d8576b"
             ],
             [
              0.6666666666666666,
              "#ed7953"
             ],
             [
              0.7777777777777778,
              "#fb9f3a"
             ],
             [
              0.8888888888888888,
              "#fdca26"
             ],
             [
              1,
              "#f0f921"
             ]
            ],
            "type": "heatmap"
           }
          ],
          "heatmapgl": [
           {
            "colorbar": {
             "outlinewidth": 0,
             "ticks": ""
            },
            "colorscale": [
             [
              0,
              "#0d0887"
             ],
             [
              0.1111111111111111,
              "#46039f"
             ],
             [
              0.2222222222222222,
              "#7201a8"
             ],
             [
              0.3333333333333333,
              "#9c179e"
             ],
             [
              0.4444444444444444,
              "#bd3786"
             ],
             [
              0.5555555555555556,
              "#d8576b"
             ],
             [
              0.6666666666666666,
              "#ed7953"
             ],
             [
              0.7777777777777778,
              "#fb9f3a"
             ],
             [
              0.8888888888888888,
              "#fdca26"
             ],
             [
              1,
              "#f0f921"
             ]
            ],
            "type": "heatmapgl"
           }
          ],
          "histogram": [
           {
            "marker": {
             "pattern": {
              "fillmode": "overlay",
              "size": 10,
              "solidity": 0.2
             }
            },
            "type": "histogram"
           }
          ],
          "histogram2d": [
           {
            "colorbar": {
             "outlinewidth": 0,
             "ticks": ""
            },
            "colorscale": [
             [
              0,
              "#0d0887"
             ],
             [
              0.1111111111111111,
              "#46039f"
             ],
             [
              0.2222222222222222,
              "#7201a8"
             ],
             [
              0.3333333333333333,
              "#9c179e"
             ],
             [
              0.4444444444444444,
              "#bd3786"
             ],
             [
              0.5555555555555556,
              "#d8576b"
             ],
             [
              0.6666666666666666,
              "#ed7953"
             ],
             [
              0.7777777777777778,
              "#fb9f3a"
             ],
             [
              0.8888888888888888,
              "#fdca26"
             ],
             [
              1,
              "#f0f921"
             ]
            ],
            "type": "histogram2d"
           }
          ],
          "histogram2dcontour": [
           {
            "colorbar": {
             "outlinewidth": 0,
             "ticks": ""
            },
            "colorscale": [
             [
              0,
              "#0d0887"
             ],
             [
              0.1111111111111111,
              "#46039f"
             ],
             [
              0.2222222222222222,
              "#7201a8"
             ],
             [
              0.3333333333333333,
              "#9c179e"
             ],
             [
              0.4444444444444444,
              "#bd3786"
             ],
             [
              0.5555555555555556,
              "#d8576b"
             ],
             [
              0.6666666666666666,
              "#ed7953"
             ],
             [
              0.7777777777777778,
              "#fb9f3a"
             ],
             [
              0.8888888888888888,
              "#fdca26"
             ],
             [
              1,
              "#f0f921"
             ]
            ],
            "type": "histogram2dcontour"
           }
          ],
          "mesh3d": [
           {
            "colorbar": {
             "outlinewidth": 0,
             "ticks": ""
            },
            "type": "mesh3d"
           }
          ],
          "parcoords": [
           {
            "line": {
             "colorbar": {
              "outlinewidth": 0,
              "ticks": ""
             }
            },
            "type": "parcoords"
           }
          ],
          "pie": [
           {
            "automargin": true,
            "type": "pie"
           }
          ],
          "scatter": [
           {
            "fillpattern": {
             "fillmode": "overlay",
             "size": 10,
             "solidity": 0.2
            },
            "type": "scatter"
           }
          ],
          "scatter3d": [
           {
            "line": {
             "colorbar": {
              "outlinewidth": 0,
              "ticks": ""
             }
            },
            "marker": {
             "colorbar": {
              "outlinewidth": 0,
              "ticks": ""
             }
            },
            "type": "scatter3d"
           }
          ],
          "scattercarpet": [
           {
            "marker": {
             "colorbar": {
              "outlinewidth": 0,
              "ticks": ""
             }
            },
            "type": "scattercarpet"
           }
          ],
          "scattergeo": [
           {
            "marker": {
             "colorbar": {
              "outlinewidth": 0,
              "ticks": ""
             }
            },
            "type": "scattergeo"
           }
          ],
          "scattergl": [
           {
            "marker": {
             "colorbar": {
              "outlinewidth": 0,
              "ticks": ""
             }
            },
            "type": "scattergl"
           }
          ],
          "scattermapbox": [
           {
            "marker": {
             "colorbar": {
              "outlinewidth": 0,
              "ticks": ""
             }
            },
            "type": "scattermapbox"
           }
          ],
          "scatterpolar": [
           {
            "marker": {
             "colorbar": {
              "outlinewidth": 0,
              "ticks": ""
             }
            },
            "type": "scatterpolar"
           }
          ],
          "scatterpolargl": [
           {
            "marker": {
             "colorbar": {
              "outlinewidth": 0,
              "ticks": ""
             }
            },
            "type": "scatterpolargl"
           }
          ],
          "scatterternary": [
           {
            "marker": {
             "colorbar": {
              "outlinewidth": 0,
              "ticks": ""
             }
            },
            "type": "scatterternary"
           }
          ],
          "surface": [
           {
            "colorbar": {
             "outlinewidth": 0,
             "ticks": ""
            },
            "colorscale": [
             [
              0,
              "#0d0887"
             ],
             [
              0.1111111111111111,
              "#46039f"
             ],
             [
              0.2222222222222222,
              "#7201a8"
             ],
             [
              0.3333333333333333,
              "#9c179e"
             ],
             [
              0.4444444444444444,
              "#bd3786"
             ],
             [
              0.5555555555555556,
              "#d8576b"
             ],
             [
              0.6666666666666666,
              "#ed7953"
             ],
             [
              0.7777777777777778,
              "#fb9f3a"
             ],
             [
              0.8888888888888888,
              "#fdca26"
             ],
             [
              1,
              "#f0f921"
             ]
            ],
            "type": "surface"
           }
          ],
          "table": [
           {
            "cells": {
             "fill": {
              "color": "#EBF0F8"
             },
             "line": {
              "color": "white"
             }
            },
            "header": {
             "fill": {
              "color": "#C8D4E3"
             },
             "line": {
              "color": "white"
             }
            },
            "type": "table"
           }
          ]
         },
         "layout": {
          "annotationdefaults": {
           "arrowcolor": "#2a3f5f",
           "arrowhead": 0,
           "arrowwidth": 1
          },
          "autotypenumbers": "strict",
          "coloraxis": {
           "colorbar": {
            "outlinewidth": 0,
            "ticks": ""
           }
          },
          "colorscale": {
           "diverging": [
            [
             0,
             "#8e0152"
            ],
            [
             0.1,
             "#c51b7d"
            ],
            [
             0.2,
             "#de77ae"
            ],
            [
             0.3,
             "#f1b6da"
            ],
            [
             0.4,
             "#fde0ef"
            ],
            [
             0.5,
             "#f7f7f7"
            ],
            [
             0.6,
             "#e6f5d0"
            ],
            [
             0.7,
             "#b8e186"
            ],
            [
             0.8,
             "#7fbc41"
            ],
            [
             0.9,
             "#4d9221"
            ],
            [
             1,
             "#276419"
            ]
           ],
           "sequential": [
            [
             0,
             "#0d0887"
            ],
            [
             0.1111111111111111,
             "#46039f"
            ],
            [
             0.2222222222222222,
             "#7201a8"
            ],
            [
             0.3333333333333333,
             "#9c179e"
            ],
            [
             0.4444444444444444,
             "#bd3786"
            ],
            [
             0.5555555555555556,
             "#d8576b"
            ],
            [
             0.6666666666666666,
             "#ed7953"
            ],
            [
             0.7777777777777778,
             "#fb9f3a"
            ],
            [
             0.8888888888888888,
             "#fdca26"
            ],
            [
             1,
             "#f0f921"
            ]
           ],
           "sequentialminus": [
            [
             0,
             "#0d0887"
            ],
            [
             0.1111111111111111,
             "#46039f"
            ],
            [
             0.2222222222222222,
             "#7201a8"
            ],
            [
             0.3333333333333333,
             "#9c179e"
            ],
            [
             0.4444444444444444,
             "#bd3786"
            ],
            [
             0.5555555555555556,
             "#d8576b"
            ],
            [
             0.6666666666666666,
             "#ed7953"
            ],
            [
             0.7777777777777778,
             "#fb9f3a"
            ],
            [
             0.8888888888888888,
             "#fdca26"
            ],
            [
             1,
             "#f0f921"
            ]
           ]
          },
          "colorway": [
           "#636efa",
           "#EF553B",
           "#00cc96",
           "#ab63fa",
           "#FFA15A",
           "#19d3f3",
           "#FF6692",
           "#B6E880",
           "#FF97FF",
           "#FECB52"
          ],
          "font": {
           "color": "#2a3f5f"
          },
          "geo": {
           "bgcolor": "white",
           "lakecolor": "white",
           "landcolor": "#E5ECF6",
           "showlakes": true,
           "showland": true,
           "subunitcolor": "white"
          },
          "hoverlabel": {
           "align": "left"
          },
          "hovermode": "closest",
          "mapbox": {
           "style": "light"
          },
          "paper_bgcolor": "white",
          "plot_bgcolor": "#E5ECF6",
          "polar": {
           "angularaxis": {
            "gridcolor": "white",
            "linecolor": "white",
            "ticks": ""
           },
           "bgcolor": "#E5ECF6",
           "radialaxis": {
            "gridcolor": "white",
            "linecolor": "white",
            "ticks": ""
           }
          },
          "scene": {
           "xaxis": {
            "backgroundcolor": "#E5ECF6",
            "gridcolor": "white",
            "gridwidth": 2,
            "linecolor": "white",
            "showbackground": true,
            "ticks": "",
            "zerolinecolor": "white"
           },
           "yaxis": {
            "backgroundcolor": "#E5ECF6",
            "gridcolor": "white",
            "gridwidth": 2,
            "linecolor": "white",
            "showbackground": true,
            "ticks": "",
            "zerolinecolor": "white"
           },
           "zaxis": {
            "backgroundcolor": "#E5ECF6",
            "gridcolor": "white",
            "gridwidth": 2,
            "linecolor": "white",
            "showbackground": true,
            "ticks": "",
            "zerolinecolor": "white"
           }
          },
          "shapedefaults": {
           "line": {
            "color": "#2a3f5f"
           }
          },
          "ternary": {
           "aaxis": {
            "gridcolor": "white",
            "linecolor": "white",
            "ticks": ""
           },
           "baxis": {
            "gridcolor": "white",
            "linecolor": "white",
            "ticks": ""
           },
           "bgcolor": "#E5ECF6",
           "caxis": {
            "gridcolor": "white",
            "linecolor": "white",
            "ticks": ""
           }
          },
          "title": {
           "x": 0.05
          },
          "xaxis": {
           "automargin": true,
           "gridcolor": "white",
           "linecolor": "white",
           "ticks": "",
           "title": {
            "standoff": 15
           },
           "zerolinecolor": "white",
           "zerolinewidth": 2
          },
          "yaxis": {
           "automargin": true,
           "gridcolor": "white",
           "linecolor": "white",
           "ticks": "",
           "title": {
            "standoff": 15
           },
           "zerolinecolor": "white",
           "zerolinewidth": 2
          }
         }
        },
        "title": {
         "text": "Confusion Matrix (Mean +/- Standard Deviation)"
        },
        "xaxis": {
         "ticktext": [
          "OK",
          "NOK"
         ],
         "tickvals": [
          0,
          1
         ]
        },
        "yaxis": {
         "ticktext": [
          "OK",
          "NOK"
         ],
         "tickvals": [
          0,
          1
         ]
        }
       }
      }
     },
     "metadata": {},
     "output_type": "display_data"
    }
   ],
   "source": [
    "conf_plot"
   ]
  }
 ],
 "metadata": {
  "kernelspec": {
   "display_name": "Python 3 (ipykernel)",
   "language": "python",
   "name": "python3"
  },
  "language_info": {
   "codemirror_mode": {
    "name": "ipython",
    "version": 3
   },
   "file_extension": ".py",
   "mimetype": "text/x-python",
   "name": "python",
   "nbconvert_exporter": "python",
   "pygments_lexer": "ipython3",
   "version": "3.9.4"
  }
 },
 "nbformat": 4,
 "nbformat_minor": 5
}
