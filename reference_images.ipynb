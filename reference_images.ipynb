{
 "cells": [
  {
   "cell_type": "code",
   "execution_count": null,
   "metadata": {},
   "outputs": [],
   "source": [
    "# import numpy as np\n",
    "# # import seaborn as sns\n",
    "# import os\n",
    "# import time\n",
    "\n",
    "# from sklearn.preprocessing import StandardScaler\n",
    "# from scipy.spatial import distance\n",
    "# from sklearn.cluster import KMeans\n",
    "# from sklearn.decomposition import PCA\n",
    "\n",
    "# from sklearn.model_selection import KFold\n",
    "# from sklearn.metrics import confusion_matrix, classification_report\n",
    "# from sklearn.metrics import precision_score, recall_score, f1_score, confusion_matrix, roc_auc_score\n",
    "\n",
    "from Data import Data\n",
    "# # from functions import *"
   ]
  },
  {
   "cell_type": "code",
   "execution_count": null,
   "metadata": {},
   "outputs": [],
   "source": [
    "# Tratamiento de datos\n",
    "# ==============================================================================\n",
    "import numpy as np\n",
    "import pandas as pd\n",
    "import statsmodels.api as sm\n",
    "\n",
    "# Gráficos\n",
    "# ==============================================================================\n",
    "import matplotlib.pyplot as plt\n",
    "import seaborn as sns\n",
    "import matplotlib.font_manager\n",
    "from matplotlib import style\n",
    "style.use('ggplot') or plt.style.use('ggplot')\n",
    "\n",
    "# Preprocesado y modelado\n",
    "# ==============================================================================\n",
    "from sklearn.decomposition import PCA\n",
    "import umap\n",
    "from sklearn.pipeline import make_pipeline\n",
    "from sklearn.preprocessing import StandardScaler\n",
    "from sklearn.preprocessing import scale\n",
    "from sklearn.cluster import KMeans\n",
    "\n",
    "# Configuración warnings\n",
    "# ==============================================================================\n",
    "import warnings\n",
    "warnings.filterwarnings('ignore')\n"
   ]
  },
  {
   "cell_type": "code",
   "execution_count": null,
   "metadata": {},
   "outputs": [],
   "source": [
    "base_path = '/home/aacastro/Alejandro/DQ_ACA_2024/A/ZN_1D_imgs/orig/'\n",
    "data_processor = Data(base_path)\n",
    "X, Y, ass_f, ass_l = data_processor.get_data('train.npz', 'validation.npz', 'test.npz', 'assess.npz')\n",
    "Y = np.argmax(Y, axis=1)"
   ]
  },
  {
   "cell_type": "markdown",
   "metadata": {},
   "source": [
    "# 90% de varianza explicada"
   ]
  },
  {
   "cell_type": "code",
   "execution_count": null,
   "metadata": {},
   "outputs": [],
   "source": [
    "OBJETIVO_VARIANZA_EXPLICADA = 0.9\n",
    "\n",
    "X_flattened = X.reshape(4482, 264 * 18)\n",
    "X_flattened= pd.DataFrame(X_flattened)\n",
    "\n",
    "scaler = StandardScaler()\n",
    "X_scaled = scaler.fit_transform(X_flattened)\n",
    "\n",
    "pca = PCA(n_components=OBJETIVO_VARIANZA_EXPLICADA)\n",
    "X_pca = pca.fit_transform(X_scaled)"
   ]
  },
  {
   "cell_type": "code",
   "execution_count": null,
   "metadata": {},
   "outputs": [],
   "source": [
    "# Porcentaje de varianza explicada por cada componente\n",
    "print('----------------------------------------------------')\n",
    "print('Porcentaje de varianza explicada por cada componente')\n",
    "print('----------------------------------------------------')\n",
    "print(pca.explained_variance_ratio_)\n",
    "\n",
    "fig, ax = plt.subplots(nrows=1, ncols=1, figsize=(6, 4))\n",
    "ax.bar(\n",
    "    x      = np.arange(pca.n_components_) + 1,\n",
    "    height = pca.explained_variance_ratio_\n",
    ")\n",
    "\n",
    "for x, y in zip(np.arange(pca.n_components_) + 1, pca.explained_variance_ratio_):\n",
    "    label = round(y, 2)\n",
    "    ax.annotate(\n",
    "        label,\n",
    "        (x, y),\n",
    "        textcoords=\"offset points\",\n",
    "        xytext=(0, 10),\n",
    "        ha='center'\n",
    "    )\n",
    "\n",
    "ax.set_xticks(np.arange(pca.n_components_) + 1)\n",
    "ax.set_ylim(0, 1.1)\n",
    "ax.set_title('Porcentaje de varianza explicada por cada componente')\n",
    "ax.set_xlabel('Componente principal')\n",
    "ax.set_ylabel('Por. varianza explicada')\n",
    "plt.show()"
   ]
  },
  {
   "cell_type": "code",
   "execution_count": null,
   "metadata": {},
   "outputs": [],
   "source": [
    "# Obtener la proporción de varianza explicada por cada componente principal\n",
    "explained_variance_ratio = pca.explained_variance_ratio_\n",
    "\n",
    "# Calcular la varianza explicada acumulada\n",
    "cumulative_explained_variance_ratio = np.cumsum(explained_variance_ratio)\n",
    "\n",
    "# Crear una lista de números de componentes para el eje x\n",
    "n_components = np.arange(1, len(explained_variance_ratio) + 1)\n",
    "\n",
    "# Crear el gráfico de barras\n",
    "plt.figure(figsize=(10, 6))\n",
    "plt.bar(n_components, cumulative_explained_variance_ratio, color='blue', alpha=0.7)\n",
    "\n",
    "# Añadir líneas horizontales en 0.90 y en el porcentaje actual\n",
    "plt.axhline(y=0.85, color='red', linestyle='--', label='85% de explicabilidad')\n",
    "plt.axhline(y=0.9, color='green', linestyle='--', label='90% de explicabilidad')\n",
    "plt.axhline(y=0.95, color='black', linestyle='--', label='95% de explicabilidad')\n",
    "\n",
    "# Etiquetas y título\n",
    "plt.xlabel(f'Número de Componentes ({len(n_components)})')\n",
    "plt.ylabel('Explicabilidad Acumulada')\n",
    "plt.title('Explicabilidad Acumulada por Número de Componentes')\n",
    "plt.xticks(n_components)\n",
    "\n",
    "# Leyenda\n",
    "plt.legend()\n",
    "\n",
    "# Mostrar el gráfico\n",
    "plt.grid(True)\n",
    "plt.show()"
   ]
  },
  {
   "cell_type": "code",
   "execution_count": null,
   "metadata": {},
   "outputs": [],
   "source": [
    "umap_model = umap.UMAP(n_neighbors=15, min_dist=0.1, metric='euclidean', random_state=42)\n",
    "X_umap = umap_model.fit_transform(X_pca)\n",
    "\n",
    "plt.figure(figsize=(12, 8))\n",
    "sns.scatterplot(x=X_umap[:, 0], y=X_umap[:, 1], palette='viridis', s=50)\n",
    "plt.title(f'Proyección UMAP de las componentes principales seleccionadas ({len(n_components)}) para {OBJETIVO_VARIANZA_EXPLICADA*100}% de varianza explicada')\n",
    "plt.xlabel('UMAP 1')\n",
    "plt.ylabel('UMAP 2')\n",
    "plt.show()"
   ]
  },
  {
   "cell_type": "code",
   "execution_count": null,
   "metadata": {},
   "outputs": [],
   "source": [
    "inertia = []\n",
    "K = range(1, 10) \n",
    "\n",
    "for k in K:\n",
    "    kmeans = KMeans(n_clusters=k, random_state=42)\n",
    "    kmeans.fit(X_umap)\n",
    "    inertia.append(kmeans.inertia_)\n",
    "\n",
    "plt.figure(figsize=(12, 8))\n",
    "plt.plot(K, inertia, 'bo-')\n",
    "plt.xlabel('Number of clusters')\n",
    "plt.ylabel('Inertia')\n",
    "plt.title('Elbow method')\n",
    "plt.show()"
   ]
  },
  {
   "cell_type": "code",
   "execution_count": null,
   "metadata": {},
   "outputs": [],
   "source": [
    "from sklearn.cluster import KMeans\n",
    "\n",
    "n_clusters = 2\n",
    "kmeans = KMeans(n_clusters=n_clusters, random_state=42)\n",
    "clusters = kmeans.fit_predict(X_umap)\n",
    "\n",
    "plt.figure(figsize=(12, 8))\n",
    "sns.scatterplot(x=X_umap[:, 0], y=X_umap[:, 1], hue=clusters, palette='viridis', s=50)\n",
    "centroids = kmeans.cluster_centers_\n",
    "plt.scatter(centroids[:, 0], centroids[:, 1], c='red', s=200, alpha=0.75, marker='.')\n",
    "plt.title('Proyección UMAP de las componentes principales seleccionadas')\n",
    "plt.xlabel('UMAP 1')\n",
    "plt.ylabel('UMAP 2')\n",
    "plt.show()"
   ]
  },
  {
   "cell_type": "code",
   "execution_count": null,
   "metadata": {},
   "outputs": [],
   "source": [
    "centroids_pca = umap_model.inverse_transform(centroids)\n",
    "centroids_original = pca.inverse_transform(centroids_pca)\n",
    "centroids_original_unscaled = scaler.inverse_transform(centroids_original)"
   ]
  },
  {
   "cell_type": "code",
   "execution_count": null,
   "metadata": {},
   "outputs": [],
   "source": [
    "optimal_k = centroids_original_unscaled.shape[0]\n",
    "\n",
    "# Deshacer el aplanamiento para cada centroide\n",
    "centroids_images = centroids_original_unscaled.reshape(optimal_k, 264, 18)\n",
    "\n",
    "# Visualizar las imágenes de los centroides\n",
    "fig, axes = plt.subplots(1, optimal_k, figsize=(15, 5))\n",
    "\n",
    "for i in range(optimal_k):\n",
    "    ax = axes[i]\n",
    "    ax.imshow(centroids_images[i], cmap='gray')\n",
    "    ax.set_title(f'Cluster {i+1}')\n",
    "    ax.axis('off')\n",
    "\n",
    "plt.suptitle('Imágenes aproximadas a partir de los baricentros')\n",
    "plt.show()"
   ]
  },
  {
   "cell_type": "markdown",
   "metadata": {},
   "source": [
    "# 95% de varianza explicada"
   ]
  },
  {
   "cell_type": "code",
   "execution_count": null,
   "metadata": {},
   "outputs": [],
   "source": [
    "OBJETIVO_VARIANZA_EXPLICADA = 0.95\n",
    "\n",
    "X_flattened = X.reshape(4482, 264 * 18)\n",
    "X_flattened= pd.DataFrame(X_flattened)\n",
    "\n",
    "scaler = StandardScaler()\n",
    "X_scaled = scaler.fit_transform(X_flattened)\n",
    "\n",
    "pca = PCA(n_components=OBJETIVO_VARIANZA_EXPLICADA)\n",
    "X_pca = pca.fit_transform(X_scaled)"
   ]
  },
  {
   "cell_type": "code",
   "execution_count": null,
   "metadata": {},
   "outputs": [],
   "source": [
    "# Porcentaje de varianza explicada por cada componente\n",
    "print('----------------------------------------------------')\n",
    "print('Porcentaje de varianza explicada por cada componente')\n",
    "print('----------------------------------------------------')\n",
    "print(pca.explained_variance_ratio_)\n",
    "\n",
    "fig, ax = plt.subplots(nrows=1, ncols=1, figsize=(6, 4))\n",
    "ax.bar(\n",
    "    x      = np.arange(pca.n_components_) + 1,\n",
    "    height = pca.explained_variance_ratio_\n",
    ")\n",
    "\n",
    "for x, y in zip(np.arange(pca.n_components_) + 1, pca.explained_variance_ratio_):\n",
    "    label = round(y, 2)\n",
    "    ax.annotate(\n",
    "        label,\n",
    "        (x, y),\n",
    "        textcoords=\"offset points\",\n",
    "        xytext=(0, 10),\n",
    "        ha='center'\n",
    "    )\n",
    "\n",
    "ax.set_xticks(np.arange(pca.n_components_) + 1)\n",
    "ax.set_ylim(0, 1.1)\n",
    "ax.set_title('Porcentaje de varianza explicada por cada componente')\n",
    "ax.set_xlabel('Componente principal')\n",
    "ax.set_ylabel('Por. varianza explicada')\n",
    "plt.show()"
   ]
  },
  {
   "cell_type": "code",
   "execution_count": null,
   "metadata": {},
   "outputs": [],
   "source": [
    "# Obtener la proporción de varianza explicada por cada componente principal\n",
    "explained_variance_ratio = pca.explained_variance_ratio_\n",
    "\n",
    "# Calcular la varianza explicada acumulada\n",
    "cumulative_explained_variance_ratio = np.cumsum(explained_variance_ratio)\n",
    "\n",
    "# Crear una lista de números de componentes para el eje x\n",
    "n_components = np.arange(1, len(explained_variance_ratio) + 1)\n",
    "\n",
    "# Crear el gráfico de barras\n",
    "plt.figure(figsize=(10, 6))\n",
    "plt.bar(n_components, cumulative_explained_variance_ratio, color='blue', alpha=0.7)\n",
    "\n",
    "# Añadir líneas horizontales en 0.90 y en el porcentaje actual\n",
    "plt.axhline(y=0.85, color='red', linestyle='--', label='85% de explicabilidad')\n",
    "plt.axhline(y=0.9, color='green', linestyle='--', label='90% de explicabilidad')\n",
    "plt.axhline(y=0.95, color='black', linestyle='--', label='95% de explicabilidad')\n",
    "\n",
    "# Etiquetas y título\n",
    "plt.xlabel(f'Número de Componentes ({len(n_components)})')\n",
    "plt.ylabel('Explicabilidad Acumulada')\n",
    "plt.title('Explicabilidad Acumulada por Número de Componentes')\n",
    "plt.xticks(n_components)\n",
    "\n",
    "# Leyenda\n",
    "plt.legend()\n",
    "\n",
    "# Mostrar el gráfico\n",
    "plt.grid(True)\n",
    "plt.show()"
   ]
  },
  {
   "cell_type": "code",
   "execution_count": null,
   "metadata": {},
   "outputs": [],
   "source": [
    "umap_model = umap.UMAP(n_neighbors=15, min_dist=0.1, metric='euclidean', random_state=42)\n",
    "X_umap = umap_model.fit_transform(X_pca)\n",
    "\n",
    "plt.figure(figsize=(12, 8))\n",
    "sns.scatterplot(x=X_umap[:, 0], y=X_umap[:, 1], palette='viridis', s=50)\n",
    "plt.title(f'Proyección UMAP de las componentes principales seleccionadas ({len(n_components)}) para {OBJETIVO_VARIANZA_EXPLICADA*100}% de varianza explicada')\n",
    "plt.xlabel('UMAP 1')\n",
    "plt.ylabel('UMAP 2')\n",
    "plt.show()"
   ]
  },
  {
   "cell_type": "code",
   "execution_count": null,
   "metadata": {},
   "outputs": [],
   "source": [
    "inertia = []\n",
    "K = range(1, 10) \n",
    "\n",
    "for k in K:\n",
    "    kmeans = KMeans(n_clusters=k, random_state=42)\n",
    "    kmeans.fit(X_umap)\n",
    "    inertia.append(kmeans.inertia_)\n",
    "\n",
    "plt.figure(figsize=(12, 8))\n",
    "plt.plot(K, inertia, 'bo-')\n",
    "plt.xlabel('Number of clusters')\n",
    "plt.ylabel('Inertia')\n",
    "plt.title('Elbow method')\n",
    "plt.show()"
   ]
  },
  {
   "cell_type": "code",
   "execution_count": null,
   "metadata": {},
   "outputs": [],
   "source": [
    "from sklearn.cluster import KMeans\n",
    "\n",
    "n_clusters = 2\n",
    "kmeans = KMeans(n_clusters=n_clusters, random_state=42)\n",
    "clusters = kmeans.fit_predict(X_umap)\n",
    "\n",
    "plt.figure(figsize=(12, 8))\n",
    "sns.scatterplot(x=X_umap[:, 0], y=X_umap[:, 1], hue=clusters, palette='viridis', s=50)\n",
    "centroids = kmeans.cluster_centers_\n",
    "plt.scatter(centroids[:, 0], centroids[:, 1], c='red', s=200, alpha=0.75, marker='.')\n",
    "plt.title('Proyección UMAP de las componentes principales seleccionadas')\n",
    "plt.xlabel('UMAP 1')\n",
    "plt.ylabel('UMAP 2')\n",
    "plt.show()"
   ]
  },
  {
   "cell_type": "code",
   "execution_count": null,
   "metadata": {},
   "outputs": [],
   "source": [
    "centroids_pca = umap_model.inverse_transform(centroids)\n",
    "centroids_original = pca.inverse_transform(centroids_pca)\n",
    "centroids_original_unscaled = scaler.inverse_transform(centroids_original)"
   ]
  },
  {
   "cell_type": "code",
   "execution_count": null,
   "metadata": {},
   "outputs": [],
   "source": [
    "optimal_k = centroids_original_unscaled.shape[0]\n",
    "\n",
    "# Deshacer el aplanamiento para cada centroide\n",
    "centroids_images = centroids_original_unscaled.reshape(optimal_k, 264, 18)\n",
    "\n",
    "# Visualizar las imágenes de los centroides\n",
    "fig, axes = plt.subplots(1, optimal_k, figsize=(15, 5))\n",
    "\n",
    "for i in range(optimal_k):\n",
    "    ax = axes[i]\n",
    "    ax.imshow(centroids_images[i], cmap='gray')\n",
    "    ax.set_title(f'Cluster {i+1}')\n",
    "    ax.axis('off')\n",
    "\n",
    "plt.suptitle('Imágenes aproximadas a partir de los baricentros')\n",
    "plt.show()"
   ]
  }
 ],
 "metadata": {
  "kernelspec": {
   "display_name": "Python 3",
   "language": "python",
   "name": "python3"
  },
  "language_info": {
   "codemirror_mode": {
    "name": "ipython",
    "version": 3
   },
   "file_extension": ".py",
   "mimetype": "text/x-python",
   "name": "python",
   "nbconvert_exporter": "python",
   "pygments_lexer": "ipython3",
   "version": "3.10.12"
  }
 },
 "nbformat": 4,
 "nbformat_minor": 2
}
