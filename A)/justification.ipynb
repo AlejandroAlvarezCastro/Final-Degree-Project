{
 "cells": [
  {
   "cell_type": "code",
   "execution_count": 1,
   "metadata": {},
   "outputs": [
    {
     "name": "stderr",
     "output_type": "stream",
     "text": [
      "/home/aacastro/.local/lib/python3.10/site-packages/matplotlib/projections/__init__.py:63: UserWarning: Unable to import Axes3D. This may be due to multiple versions of Matplotlib being installed (e.g. as a system package and as a pip package). As a result, the 3D projection is not available.\n",
      "  warnings.warn(\"Unable to import Axes3D. This may be due to multiple versions of \"\n"
     ]
    }
   ],
   "source": [
    "import pandas as pd \n",
    "import seaborn as sns \n",
    "import matplotlib.pyplot as plt \n",
    "import numpy as np "
   ]
  },
  {
   "cell_type": "code",
   "execution_count": 15,
   "metadata": {},
   "outputs": [
    {
     "name": "stdout",
     "output_type": "stream",
     "text": [
      "(442, 19)\n",
      "Se han probado 442 modelos diferentes\n",
      "Columnas del dataframe:  Index(['Unnamed: 0', 'File', 'Model', 'Path', 'F1_Score_Media',\n",
      "       'F1_Score_Desviacion', 'Recall_Media', 'Recall_Desviacion',\n",
      "       'Precision_Media', 'Precision_Desviacion', 'Roc_Auc_Media',\n",
      "       'Roc_Auc_Desviacion', 'Confusion_Matrix_Media',\n",
      "       'Confusion_Matrix_Desviacion', 'config', 'kernel_widths', 'filters',\n",
      "       'dropouts', 'test_suite_thresholds'],\n",
      "      dtype='object')\n"
     ]
    },
    {
     "data": {
      "text/html": [
       "<div>\n",
       "<style scoped>\n",
       "    .dataframe tbody tr th:only-of-type {\n",
       "        vertical-align: middle;\n",
       "    }\n",
       "\n",
       "    .dataframe tbody tr th {\n",
       "        vertical-align: top;\n",
       "    }\n",
       "\n",
       "    .dataframe thead th {\n",
       "        text-align: right;\n",
       "    }\n",
       "</style>\n",
       "<table border=\"1\" class=\"dataframe\">\n",
       "  <thead>\n",
       "    <tr style=\"text-align: right;\">\n",
       "      <th></th>\n",
       "      <th>Unnamed: 0</th>\n",
       "      <th>File</th>\n",
       "      <th>Path</th>\n",
       "      <th>F1_Score_Media</th>\n",
       "      <th>F1_Score_Desviacion</th>\n",
       "      <th>Recall_Media</th>\n",
       "      <th>Recall_Desviacion</th>\n",
       "      <th>Precision_Media</th>\n",
       "      <th>Precision_Desviacion</th>\n",
       "      <th>Roc_Auc_Media</th>\n",
       "      <th>Roc_Auc_Desviacion</th>\n",
       "      <th>Confusion_Matrix_Media</th>\n",
       "      <th>Confusion_Matrix_Desviacion</th>\n",
       "      <th>config</th>\n",
       "      <th>kernel_widths</th>\n",
       "      <th>filters</th>\n",
       "      <th>dropouts</th>\n",
       "      <th>test_suite_thresholds</th>\n",
       "    </tr>\n",
       "    <tr>\n",
       "      <th>Model</th>\n",
       "      <th></th>\n",
       "      <th></th>\n",
       "      <th></th>\n",
       "      <th></th>\n",
       "      <th></th>\n",
       "      <th></th>\n",
       "      <th></th>\n",
       "      <th></th>\n",
       "      <th></th>\n",
       "      <th></th>\n",
       "      <th></th>\n",
       "      <th></th>\n",
       "      <th></th>\n",
       "      <th></th>\n",
       "      <th></th>\n",
       "      <th></th>\n",
       "      <th></th>\n",
       "      <th></th>\n",
       "    </tr>\n",
       "  </thead>\n",
       "  <tbody>\n",
       "    <tr>\n",
       "      <th>model_config1_architecture_5conv_3dense_1</th>\n",
       "      <td>0</td>\n",
       "      <td>detailed_metrics.json</td>\n",
       "      <td>/home/aacastro/Alejandro/DQ_ACA_2024/A)/result...</td>\n",
       "      <td>0.904706</td>\n",
       "      <td>0.020584</td>\n",
       "      <td>0.924315</td>\n",
       "      <td>0.031048</td>\n",
       "      <td>0.887374</td>\n",
       "      <td>0.034605</td>\n",
       "      <td>0.934534</td>\n",
       "      <td>0.017095</td>\n",
       "      <td>[[28.076751450245425, 7.621597501115572], [4.8...</td>\n",
       "      <td>[[2.7016636017587725, 2.639215629566634], [1.9...</td>\n",
       "      <td>config1</td>\n",
       "      <td>50_cte</td>\n",
       "      <td>16_cte</td>\n",
       "      <td>0.5_cte</td>\n",
       "      <td>[0.6, 0.65, 0.7, 0.75, 0.8]</td>\n",
       "    </tr>\n",
       "    <tr>\n",
       "      <th>model_config2_architecture_5conv_3dense_1</th>\n",
       "      <td>1</td>\n",
       "      <td>detailed_metrics.json</td>\n",
       "      <td>/home/aacastro/Alejandro/DQ_ACA_2024/A)/result...</td>\n",
       "      <td>0.903533</td>\n",
       "      <td>0.027243</td>\n",
       "      <td>0.902288</td>\n",
       "      <td>0.059111</td>\n",
       "      <td>0.908553</td>\n",
       "      <td>0.032508</td>\n",
       "      <td>0.940282</td>\n",
       "      <td>0.017012</td>\n",
       "      <td>[[29.732262382864793, 5.966086568496206], [6.2...</td>\n",
       "      <td>[[2.904713227750578, 2.360089335237042], [3.80...</td>\n",
       "      <td>config2</td>\n",
       "      <td>50_cte</td>\n",
       "      <td>16_cte</td>\n",
       "      <td>0.3_cte</td>\n",
       "      <td>[0.6, 0.65, 0.7, 0.75, 0.8]</td>\n",
       "    </tr>\n",
       "    <tr>\n",
       "      <th>model_config3_architecture_5conv_3dense_1</th>\n",
       "      <td>2</td>\n",
       "      <td>detailed_metrics.json</td>\n",
       "      <td>/home/aacastro/Alejandro/DQ_ACA_2024/A)/result...</td>\n",
       "      <td>0.899654</td>\n",
       "      <td>0.047426</td>\n",
       "      <td>0.894649</td>\n",
       "      <td>0.090081</td>\n",
       "      <td>0.912627</td>\n",
       "      <td>0.032554</td>\n",
       "      <td>0.942381</td>\n",
       "      <td>0.017814</td>\n",
       "      <td>[[30.017849174475682, 5.680499776885319], [6.8...</td>\n",
       "      <td>[[2.7651678174862115, 2.411687033153705], [6.0...</td>\n",
       "      <td>config3</td>\n",
       "      <td>50_cte</td>\n",
       "      <td>32_cte</td>\n",
       "      <td>0.5_cte</td>\n",
       "      <td>[0.6, 0.65, 0.7, 0.75, 0.8]</td>\n",
       "    </tr>\n",
       "    <tr>\n",
       "      <th>model_config4_architecture_5conv_3dense_1</th>\n",
       "      <td>3</td>\n",
       "      <td>detailed_metrics.json</td>\n",
       "      <td>/home/aacastro/Alejandro/DQ_ACA_2024/A)/result...</td>\n",
       "      <td>0.901727</td>\n",
       "      <td>0.031290</td>\n",
       "      <td>0.900571</td>\n",
       "      <td>0.067490</td>\n",
       "      <td>0.908002</td>\n",
       "      <td>0.038502</td>\n",
       "      <td>0.942426</td>\n",
       "      <td>0.017920</td>\n",
       "      <td>[[29.65863453815261, 6.039714413208389], [6.39...</td>\n",
       "      <td>[[2.8637019183295664, 2.884831410936749], [4.3...</td>\n",
       "      <td>config4</td>\n",
       "      <td>50_cte</td>\n",
       "      <td>32_cte</td>\n",
       "      <td>0.3_cte</td>\n",
       "      <td>[0.6, 0.65, 0.7, 0.75, 0.8]</td>\n",
       "    </tr>\n",
       "    <tr>\n",
       "      <th>model_config5_architecture_5conv_3dense_1</th>\n",
       "      <td>4</td>\n",
       "      <td>detailed_metrics.json</td>\n",
       "      <td>/home/aacastro/Alejandro/DQ_ACA_2024/A)/result...</td>\n",
       "      <td>0.903717</td>\n",
       "      <td>0.030895</td>\n",
       "      <td>0.897538</td>\n",
       "      <td>0.062384</td>\n",
       "      <td>0.913592</td>\n",
       "      <td>0.023341</td>\n",
       "      <td>0.945683</td>\n",
       "      <td>0.014810</td>\n",
       "      <td>[[30.16064257028112, 5.537706381079874], [6.56...</td>\n",
       "      <td>[[2.6367926717968544, 1.7240226019935716], [3....</td>\n",
       "      <td>config5</td>\n",
       "      <td>20_cte</td>\n",
       "      <td>16_cte</td>\n",
       "      <td>0.5_cte</td>\n",
       "      <td>[0.6, 0.65, 0.7, 0.75, 0.8]</td>\n",
       "    </tr>\n",
       "  </tbody>\n",
       "</table>\n",
       "</div>"
      ],
      "text/plain": [
       "                                           Unnamed: 0                   File  \\\n",
       "Model                                                                          \n",
       "model_config1_architecture_5conv_3dense_1           0  detailed_metrics.json   \n",
       "model_config2_architecture_5conv_3dense_1           1  detailed_metrics.json   \n",
       "model_config3_architecture_5conv_3dense_1           2  detailed_metrics.json   \n",
       "model_config4_architecture_5conv_3dense_1           3  detailed_metrics.json   \n",
       "model_config5_architecture_5conv_3dense_1           4  detailed_metrics.json   \n",
       "\n",
       "                                                                                        Path  \\\n",
       "Model                                                                                          \n",
       "model_config1_architecture_5conv_3dense_1  /home/aacastro/Alejandro/DQ_ACA_2024/A)/result...   \n",
       "model_config2_architecture_5conv_3dense_1  /home/aacastro/Alejandro/DQ_ACA_2024/A)/result...   \n",
       "model_config3_architecture_5conv_3dense_1  /home/aacastro/Alejandro/DQ_ACA_2024/A)/result...   \n",
       "model_config4_architecture_5conv_3dense_1  /home/aacastro/Alejandro/DQ_ACA_2024/A)/result...   \n",
       "model_config5_architecture_5conv_3dense_1  /home/aacastro/Alejandro/DQ_ACA_2024/A)/result...   \n",
       "\n",
       "                                           F1_Score_Media  \\\n",
       "Model                                                       \n",
       "model_config1_architecture_5conv_3dense_1        0.904706   \n",
       "model_config2_architecture_5conv_3dense_1        0.903533   \n",
       "model_config3_architecture_5conv_3dense_1        0.899654   \n",
       "model_config4_architecture_5conv_3dense_1        0.901727   \n",
       "model_config5_architecture_5conv_3dense_1        0.903717   \n",
       "\n",
       "                                           F1_Score_Desviacion  Recall_Media  \\\n",
       "Model                                                                          \n",
       "model_config1_architecture_5conv_3dense_1             0.020584      0.924315   \n",
       "model_config2_architecture_5conv_3dense_1             0.027243      0.902288   \n",
       "model_config3_architecture_5conv_3dense_1             0.047426      0.894649   \n",
       "model_config4_architecture_5conv_3dense_1             0.031290      0.900571   \n",
       "model_config5_architecture_5conv_3dense_1             0.030895      0.897538   \n",
       "\n",
       "                                           Recall_Desviacion  Precision_Media  \\\n",
       "Model                                                                           \n",
       "model_config1_architecture_5conv_3dense_1           0.031048         0.887374   \n",
       "model_config2_architecture_5conv_3dense_1           0.059111         0.908553   \n",
       "model_config3_architecture_5conv_3dense_1           0.090081         0.912627   \n",
       "model_config4_architecture_5conv_3dense_1           0.067490         0.908002   \n",
       "model_config5_architecture_5conv_3dense_1           0.062384         0.913592   \n",
       "\n",
       "                                           Precision_Desviacion  \\\n",
       "Model                                                             \n",
       "model_config1_architecture_5conv_3dense_1              0.034605   \n",
       "model_config2_architecture_5conv_3dense_1              0.032508   \n",
       "model_config3_architecture_5conv_3dense_1              0.032554   \n",
       "model_config4_architecture_5conv_3dense_1              0.038502   \n",
       "model_config5_architecture_5conv_3dense_1              0.023341   \n",
       "\n",
       "                                           Roc_Auc_Media  Roc_Auc_Desviacion  \\\n",
       "Model                                                                          \n",
       "model_config1_architecture_5conv_3dense_1       0.934534            0.017095   \n",
       "model_config2_architecture_5conv_3dense_1       0.940282            0.017012   \n",
       "model_config3_architecture_5conv_3dense_1       0.942381            0.017814   \n",
       "model_config4_architecture_5conv_3dense_1       0.942426            0.017920   \n",
       "model_config5_architecture_5conv_3dense_1       0.945683            0.014810   \n",
       "\n",
       "                                                                      Confusion_Matrix_Media  \\\n",
       "Model                                                                                          \n",
       "model_config1_architecture_5conv_3dense_1  [[28.076751450245425, 7.621597501115572], [4.8...   \n",
       "model_config2_architecture_5conv_3dense_1  [[29.732262382864793, 5.966086568496206], [6.2...   \n",
       "model_config3_architecture_5conv_3dense_1  [[30.017849174475682, 5.680499776885319], [6.8...   \n",
       "model_config4_architecture_5conv_3dense_1  [[29.65863453815261, 6.039714413208389], [6.39...   \n",
       "model_config5_architecture_5conv_3dense_1  [[30.16064257028112, 5.537706381079874], [6.56...   \n",
       "\n",
       "                                                                 Confusion_Matrix_Desviacion  \\\n",
       "Model                                                                                          \n",
       "model_config1_architecture_5conv_3dense_1  [[2.7016636017587725, 2.639215629566634], [1.9...   \n",
       "model_config2_architecture_5conv_3dense_1  [[2.904713227750578, 2.360089335237042], [3.80...   \n",
       "model_config3_architecture_5conv_3dense_1  [[2.7651678174862115, 2.411687033153705], [6.0...   \n",
       "model_config4_architecture_5conv_3dense_1  [[2.8637019183295664, 2.884831410936749], [4.3...   \n",
       "model_config5_architecture_5conv_3dense_1  [[2.6367926717968544, 1.7240226019935716], [3....   \n",
       "\n",
       "                                            config kernel_widths filters  \\\n",
       "Model                                                                      \n",
       "model_config1_architecture_5conv_3dense_1  config1        50_cte  16_cte   \n",
       "model_config2_architecture_5conv_3dense_1  config2        50_cte  16_cte   \n",
       "model_config3_architecture_5conv_3dense_1  config3        50_cte  32_cte   \n",
       "model_config4_architecture_5conv_3dense_1  config4        50_cte  32_cte   \n",
       "model_config5_architecture_5conv_3dense_1  config5        20_cte  16_cte   \n",
       "\n",
       "                                          dropouts  \\\n",
       "Model                                                \n",
       "model_config1_architecture_5conv_3dense_1  0.5_cte   \n",
       "model_config2_architecture_5conv_3dense_1  0.3_cte   \n",
       "model_config3_architecture_5conv_3dense_1  0.5_cte   \n",
       "model_config4_architecture_5conv_3dense_1  0.3_cte   \n",
       "model_config5_architecture_5conv_3dense_1  0.5_cte   \n",
       "\n",
       "                                                 test_suite_thresholds  \n",
       "Model                                                                   \n",
       "model_config1_architecture_5conv_3dense_1  [0.6, 0.65, 0.7, 0.75, 0.8]  \n",
       "model_config2_architecture_5conv_3dense_1  [0.6, 0.65, 0.7, 0.75, 0.8]  \n",
       "model_config3_architecture_5conv_3dense_1  [0.6, 0.65, 0.7, 0.75, 0.8]  \n",
       "model_config4_architecture_5conv_3dense_1  [0.6, 0.65, 0.7, 0.75, 0.8]  \n",
       "model_config5_architecture_5conv_3dense_1  [0.6, 0.65, 0.7, 0.75, 0.8]  "
      ]
     },
     "execution_count": 15,
     "metadata": {},
     "output_type": "execute_result"
    }
   ],
   "source": [
    "df = pd.read_csv('df_results.csv')\n",
    "print(df.shape)\n",
    "print(f\"Se han probado {df.shape[0]} modelos diferentes\")\n",
    "print(f\"Columnas del dataframe: \", df.columns)\n",
    "df.set_index('Model', inplace=True)\n",
    "df.head(5)"
   ]
  },
  {
   "cell_type": "markdown",
   "metadata": {},
   "source": [
    "# Test de Hipótesis\n",
    "\n",
    "- H0: Las medias de F1-Score siguen la misma distribución  \n",
    "- H1: Las medias de F1-Score siguen distribuciones diferentes"
   ]
  },
  {
   "cell_type": "code",
   "execution_count": 4,
   "metadata": {},
   "outputs": [
    {
     "data": {
      "application/vnd.plotly.v1+json": {
       "config": {
        "plotlyServerURL": "https://plot.ly"
       },
       "data": [
        {
         "boxpoints": "all",
         "name": "Box Plot",
         "type": "box",
         "x": [
          "50_cte",
          "50_cte",
          "50_cte",
          "50_cte",
          "20_cte",
          "20_cte",
          "20_cte",
          "20_cte",
          "5_cte",
          "5_cte",
          "5_cte",
          "5_cte",
          "ASC",
          "ASC",
          "ASC",
          "ASC",
          "DESC",
          "DESC",
          "DESC",
          "DESC",
          "50_cte",
          "50_cte",
          "50_cte",
          "50_cte",
          "20_cte",
          "20_cte",
          "20_cte",
          "20_cte",
          "5_cte",
          "5_cte",
          "5_cte",
          "5_cte",
          "ASC",
          "ASC",
          "ASC",
          "ASC",
          "DESC",
          "DESC",
          "DESC",
          "DESC",
          "50_cte",
          "50_cte",
          "50_cte",
          "50_cte",
          "20_cte",
          "20_cte",
          "20_cte",
          "20_cte",
          "5_cte",
          "5_cte",
          "5_cte",
          "5_cte",
          "ASC",
          "ASC",
          "ASC",
          "ASC",
          "DESC",
          "DESC",
          "DESC",
          "DESC",
          "50_cte",
          "50_cte",
          "50_cte",
          "50_cte",
          "20_cte",
          "20_cte",
          "20_cte",
          "20_cte",
          "5_cte",
          "5_cte",
          "5_cte",
          "5_cte",
          "ASC",
          "ASC",
          "ASC",
          "ASC",
          "DESC",
          "DESC",
          "DESC",
          "50_cte",
          "50_cte",
          "50_cte",
          "50_cte",
          "20_cte",
          "20_cte",
          "20_cte",
          "20_cte",
          "5_cte",
          "5_cte",
          "5_cte",
          "5_cte",
          "ASC",
          "ASC",
          "ASC",
          "ASC",
          "DESC",
          "DESC",
          "DESC",
          "DESC",
          "50_cte",
          "50_cte",
          "50_cte",
          "50_cte",
          "20_cte",
          "20_cte",
          "20_cte",
          "20_cte",
          "5_cte",
          "5_cte",
          "5_cte",
          "5_cte",
          "ASC",
          "ASC",
          "ASC",
          "ASC",
          "DESC",
          "DESC",
          "DESC",
          "DESC",
          "50_cte",
          "50_cte",
          "50_cte",
          "50_cte",
          "20_cte",
          "20_cte",
          "20_cte",
          "20_cte",
          "5_cte",
          "5_cte",
          "5_cte",
          "5_cte",
          "ASC",
          "ASC",
          "ASC",
          "ASC",
          "DESC",
          "DESC",
          "DESC",
          "DESC",
          "50_cte",
          "50_cte",
          "50_cte",
          "50_cte",
          "20_cte",
          "20_cte",
          "20_cte",
          "20_cte",
          "5_cte",
          "5_cte",
          "5_cte",
          "5_cte",
          "ASC",
          "ASC",
          "ASC",
          "ASC",
          "DESC",
          "DESC",
          "DESC",
          "DESC",
          "50_cte",
          "50_cte",
          "50_cte",
          "50_cte",
          "20_cte",
          "20_cte",
          "20_cte",
          "20_cte",
          "5_cte",
          "5_cte",
          "5_cte",
          "5_cte",
          "ASC",
          "ASC",
          "ASC",
          "ASC",
          "DESC",
          "DESC",
          "DESC",
          "DESC",
          "50_cte",
          "50_cte",
          "50_cte",
          "50_cte",
          "20_cte",
          "20_cte",
          "20_cte",
          "20_cte",
          "5_cte",
          "5_cte",
          "50_cte",
          "50_cte",
          "50_cte",
          "50_cte",
          "20_cte",
          "20_cte",
          "20_cte",
          "20_cte",
          "5_cte",
          "5_cte",
          "5_cte",
          "5_cte",
          "ASC",
          "ASC",
          "ASC",
          "ASC",
          "DESC",
          "DESC",
          "DESC",
          "DESC",
          "50_cte",
          "50_cte",
          "50_cte",
          "50_cte",
          "20_cte",
          "20_cte",
          "20_cte",
          "20_cte",
          "5_cte",
          "5_cte",
          "5_cte",
          "5_cte",
          "ASC",
          "ASC",
          "ASC",
          "ASC",
          "DESC",
          "DESC",
          "DESC",
          "DESC",
          "50_cte",
          "50_cte",
          "50_cte",
          "50_cte",
          "20_cte",
          "20_cte",
          "20_cte",
          "20_cte",
          "5_cte",
          "5_cte",
          "5_cte",
          "5_cte",
          "ASC",
          "ASC",
          "ASC",
          "ASC",
          "DESC",
          "DESC",
          "DESC",
          "DESC",
          "50_cte",
          "50_cte",
          "50_cte",
          "50_cte",
          "20_cte",
          "20_cte",
          "20_cte",
          "20_cte",
          "5_cte",
          "5_cte",
          "5_cte",
          "5_cte",
          "ASC",
          "ASC",
          "ASC",
          "ASC",
          "DESC",
          "DESC",
          "DESC",
          "DESC",
          "50_cte",
          "50_cte",
          "50_cte",
          "50_cte",
          "20_cte",
          "20_cte",
          "20_cte",
          "20_cte",
          "5_cte",
          "5_cte",
          "5_cte",
          "5_cte",
          "ASC",
          "ASC",
          "ASC",
          "ASC",
          "DESC",
          "DESC",
          "DESC",
          "DESC",
          "50_cte",
          "50_cte",
          "50_cte",
          "50_cte",
          "20_cte",
          "20_cte",
          "20_cte",
          "20_cte",
          "5_cte",
          "5_cte",
          "5_cte",
          "5_cte",
          "ASC",
          "ASC",
          "ASC",
          "ASC",
          "DESC",
          "50_cte",
          "50_cte",
          "50_cte",
          "50_cte",
          "20_cte",
          "20_cte",
          "20_cte",
          "20_cte",
          "5_cte",
          "5_cte",
          "5_cte",
          "5_cte",
          "ASC",
          "ASC",
          "ASC",
          "ASC",
          "DESC",
          "DESC",
          "DESC",
          "DESC",
          "50_cte",
          "50_cte",
          "50_cte",
          "50_cte",
          "20_cte",
          "20_cte",
          "20_cte",
          "20_cte",
          "5_cte",
          "5_cte",
          "5_cte",
          "5_cte",
          "ASC",
          "ASC",
          "ASC",
          "ASC",
          "DESC",
          "DESC",
          "DESC",
          "DESC",
          "50_cte",
          "50_cte",
          "50_cte",
          "50_cte",
          "20_cte",
          "20_cte",
          "20_cte",
          "20_cte",
          "5_cte",
          "5_cte",
          "5_cte",
          "5_cte",
          "ASC",
          "ASC",
          "ASC",
          "ASC",
          "DESC",
          "DESC",
          "DESC",
          "DESC",
          "50_cte",
          "50_cte",
          "50_cte",
          "50_cte",
          "20_cte",
          "20_cte",
          "20_cte",
          "20_cte",
          "5_cte",
          "5_cte",
          "5_cte",
          "5_cte",
          "ASC",
          "ASC",
          "ASC",
          "ASC",
          "DESC",
          "DESC",
          "DESC",
          "DESC",
          "50_cte",
          "50_cte",
          "50_cte",
          "50_cte",
          "20_cte",
          "20_cte",
          "20_cte",
          "20_cte",
          "5_cte",
          "5_cte",
          "5_cte",
          "5_cte",
          "ASC",
          "ASC",
          "ASC",
          "ASC",
          "DESC",
          "DESC",
          "DESC",
          "DESC",
          "50_cte",
          "50_cte",
          "50_cte",
          "50_cte",
          "20_cte",
          "20_cte",
          "20_cte",
          "20_cte",
          "5_cte",
          "5_cte",
          "5_cte",
          "5_cte",
          "ASC",
          "ASC",
          "ASC",
          "ASC",
          "50_cte",
          "50_cte",
          "50_cte",
          "50_cte",
          "20_cte",
          "20_cte",
          "20_cte",
          "20_cte",
          "5_cte",
          "5_cte",
          "5_cte",
          "5_cte",
          "ASC",
          "ASC",
          "ASC",
          "ASC",
          "DESC",
          "DESC",
          "DESC",
          "DESC"
         ],
         "y": [
          0.9047064919820172,
          0.9035331365864694,
          0.8996535227216441,
          0.9017273916654334,
          0.90371667316185,
          0.9045175206527276,
          0.9134284686389078,
          0.9135829155711532,
          0.909683416435962,
          0.9123479645321791,
          0.940861714478747,
          0.9329220816993988,
          0.9008632233202108,
          0.9108845498635192,
          0.914888650333188,
          0.9175372852255722,
          0.927354218632198,
          0.9165164760439032,
          0.928280833604181,
          0.914965629440376,
          0.9352790284375893,
          0.9301235985529516,
          0.921312580590969,
          0.9145110553905764,
          0.9356322209333852,
          0.9272820815449284,
          0.94661612321042,
          0.941990957062706,
          0.9159140237183072,
          0.9339891378093286,
          0.9550994065168048,
          0.9319760155891892,
          0.9257993523584104,
          0.9286747774567372,
          0.9359449219530016,
          0.9349290926423182,
          0.9217092195680576,
          0.905808378133472,
          0.9488419011643976,
          0.9458573205717044,
          0.8976728400588719,
          0.8826091445568703,
          0.8691489367907153,
          0.8636417488979308,
          0.8805833317836571,
          0.8930695556762035,
          0.9319950691519052,
          0.8848732422068751,
          0.871591262170169,
          0.8827463983138294,
          0.9093648854096944,
          0.9323079556687504,
          0.8705523501939939,
          0.8846857182417572,
          0.8952128023392457,
          0.9174844814611512,
          0.8864864408733009,
          0.8883892401802299,
          0.8638850561419854,
          0.8827031632142159,
          0.9309193991807884,
          0.9141966086467672,
          0.8582191344225716,
          0.9049569789138024,
          0.8549461577581896,
          0.8579579163102682,
          0.8239336204951603,
          0.8833610912574282,
          0.8865224748145804,
          0.8875468112191807,
          0.8992944177960771,
          0.877781027996759,
          0.919181664198898,
          0.9242845266346617,
          0.8638785416769907,
          0.916597468809551,
          0.91263980451926,
          0.8920323662383174,
          0.8867822565836869,
          0.8386047731376213,
          0.797449656624785,
          0.8409923208290729,
          0.795781513006263,
          0.8402230176277822,
          0.8362946587401828,
          0.8494137169618702,
          0.8353492496330459,
          0.8289100193486776,
          0.8483528657999782,
          0.8580624688429817,
          0.8417455848006749,
          0.8459018233569257,
          0.7867256538796761,
          0.8436422592241286,
          0.844841744055779,
          0.8476695964525305,
          0.8259283177057261,
          0.8470825909358197,
          0.8268660528535706,
          0.8456530781693314,
          0.8270615738839878,
          0.8428459253676688,
          0.8523177872350779,
          0.8315702991355919,
          0.8080263495035775,
          0.8470403372717703,
          0.8007191723598949,
          0.8146372729459352,
          0.8195453416981974,
          0.8429519607662067,
          0.835547894754729,
          0.8378316707722082,
          0.8241469842205589,
          0.8382240838623625,
          0.8536640077675319,
          0.8459828665736481,
          0.7945889624510031,
          0.8391551863221904,
          0.8148872377847582,
          0.9190745785554688,
          0.9096375931799652,
          0.9167155457527656,
          0.9134055617795608,
          0.9220488590240272,
          0.9318605704606766,
          0.925380330505192,
          0.9318183743743518,
          0.9214739825008984,
          0.9303738178059596,
          0.9398281340325187,
          0.9434904718606316,
          0.9306545915232176,
          0.9324530493267724,
          0.93378041973411,
          0.9318912617110788,
          0.9329001552606352,
          0.935522544611156,
          0.940538315415347,
          0.9275607390173308,
          0.9504576645515828,
          0.9501045553368022,
          0.9613101487961389,
          0.958830461636568,
          0.9447824826519932,
          0.9507350748859978,
          0.9537689865223266,
          0.9386601599315324,
          0.9512205058773904,
          0.9395142662092104,
          0.9531213155190992,
          0.9475213939546206,
          0.9433910966780328,
          0.9410577005857174,
          0.9508328740846796,
          0.9452953382383332,
          0.94882253761808,
          0.9509990483769764,
          0.951049144829357,
          0.9497907295932352,
          0.9412378895003832,
          0.8709248250298453,
          0.9036024832602167,
          0.934397130329794,
          0.9308534503478076,
          0.9022353002275846,
          0.9474798745659748,
          0.8950543805653914,
          0.9299065624225912,
          0.8925318787703244,
          0.9338957528006676,
          0.9298473172887864,
          0.8697541585441817,
          0.9369248371417576,
          0.9460614987576496,
          0.9432072237948036,
          0.8955101271818691,
          0.8787631479180557,
          0.9045102741717436,
          0.9415052076318378,
          0.9332791402988188,
          0.9381902016578878,
          0.9466531742341036,
          0.9511886495225552,
          0.936799553845071,
          0.9129176319919564,
          0.9555516506390804,
          0.94993352735074,
          0.9426035354941976,
          0.9323058814058808,
          0.8534725638458396,
          0.8309693071829668,
          0.8367839064234441,
          0.8346147542440905,
          0.8591952232164346,
          0.8750456431993744,
          0.8754499988392128,
          0.8094866041766771,
          0.8498343609339927,
          0.8413747126921035,
          0.8720074182901948,
          0.861801108091134,
          0.8503759016798523,
          0.8259236264987889,
          0.8806812911071187,
          0.8792767306820859,
          0.8540198611266936,
          0.8440604362646507,
          0.8662075849709098,
          0.824320798919016,
          0.8418209056282967,
          0.8212469769547418,
          0.8466428520357863,
          0.8363287717353959,
          0.8495358845128397,
          0.8322414583737145,
          0.858520380094682,
          0.8175732967320307,
          0.861950992297284,
          0.8419633984597894,
          0.8664235749534427,
          0.8669138941042983,
          0.8468088397673078,
          0.8420168843804352,
          0.8529805728531171,
          0.813021268021698,
          0.8580921367497278,
          0.8292068307023049,
          0.8566238196186327,
          0.8373134156464022,
          0.8969986588837809,
          0.8954252881715636,
          0.8900657598547004,
          0.8904331916935087,
          0.9080520528100932,
          0.8871046744743789,
          0.9135324208965672,
          0.9051487877587872,
          0.9056566930170032,
          0.8932956648633695,
          0.9198975815965392,
          0.9150431326203188,
          0.8924260570293941,
          0.8985296676774418,
          0.8999013863968481,
          0.9091860344662814,
          0.8988426092043162,
          0.9068234291681898,
          0.9026195715693188,
          0.904718168686144,
          0.9069402803193788,
          0.9388682790569578,
          0.8965406058372899,
          0.875181267562274,
          0.9162053111016948,
          0.8657541734492475,
          0.9063818144535886,
          0.8952063077945644,
          0.8686418924293878,
          0.9233645387832012,
          0.9066487886913068,
          0.9389144936066522,
          0.9190909618477318,
          0.8902237450746872,
          0.8962942502803297,
          0.8734449242332485,
          0.8983951218063967,
          0.911311001232937,
          0.9062953645328928,
          0.8993343725919805,
          0.8862106766451783,
          0.9089550403563472,
          0.8650154717708911,
          0.8184996638323946,
          0.873483175493479,
          0.8808140401605585,
          0.8547117840923856,
          0.8286193903482237,
          0.9069449800428456,
          0.8748707330559995,
          0.8742641699420487,
          0.8718676454472477,
          0.9109217031420824,
          0.8721853709433453,
          0.8338816329980517,
          0.8739475552365087,
          0.8410830495210962,
          0.8802515372541222,
          0.8020408069663303,
          0.8612770776309121,
          0.922866022567018,
          0.8155924721500085,
          0.8588543061919797,
          0.8094693019609823,
          0.8972902241939346,
          0.8489138716457582,
          0.853156751328013,
          0.8357593331328357,
          0.8775706324981636,
          0.9167948273073204,
          0.8774246772754927,
          0.8738045995679591,
          0.831227722657751,
          0.8837241278717527,
          0.8469430895238276,
          0.848076787266845,
          0.893051998425832,
          0.8069594823999912,
          0.7960251365981338,
          0.8012340972285386,
          0.8027880437833774,
          0.8168820589005812,
          0.7788982753107442,
          0.7948728289400688,
          0.8322476739829248,
          0.7890416714614485,
          0.8130478036628144,
          0.8276067993328852,
          0.7943009790946516,
          0.8008968705818996,
          0.7886973920893879,
          0.8034196864415464,
          0.8093789754287706,
          0.7918317440122012,
          0.804354548638871,
          0.7993370445623357,
          0.8045581595957545,
          0.8147058329191741,
          0.8397418133118332,
          0.7797051111265048,
          0.7585730299920144,
          0.8709251516348112,
          0.881045339069771,
          0.848978660737985,
          0.8218539636622912,
          0.9031968514584237,
          0.890887589495232,
          0.9065164002288142,
          0.9006408514619382,
          0.9169154157732622,
          0.8843742883755742,
          0.8701620072944654,
          0.9076405724546348,
          0.8855496649880022,
          0.886360610052341,
          0.8842226515708057,
          0.8628416862752821,
          0.9074062081210196,
          0.900568057609866,
          0.8963512599179179,
          0.9081005674595134,
          0.9089999673224216,
          0.8969751310290738,
          0.9051209175430188,
          0.9094647414535926,
          0.8809757649723977,
          0.8859656549653999,
          0.8913900440620979,
          0.8974746179699028,
          0.8923842831155906,
          0.8781803215783804,
          0.8968246608587266,
          0.902479805946566,
          0.8979243510567768,
          0.8904629988463297,
          0.9021704000933864,
          0.8940041598333301,
          0.9126604659215464,
          0.896024770470256,
          0.8920888603936763,
          0.9082298839041246,
          0.8272222553225477,
          0.8679325668795874,
          0.8919142312574578,
          0.8445052844057428,
          0.8730959531306307,
          0.8006158782721811,
          0.8355427312495572,
          0.861680887989716,
          0.8418935096015326,
          0.8457088107036952,
          0.81540417317044,
          0.862896421986616,
          0.801125451607268,
          0.8539454930889658,
          0.8744664950215799,
          0.8535116119636567,
          0.8345416117471105,
          0.8085722652771153,
          0.7726704676751407,
          0.7536448288521579,
          0.87989811979342,
          0.8332434509466221,
          0.7869929662514383,
          0.8396099733180874,
          0.8646613548519031,
          0.8608007053048193,
          0.8055890037014092,
          0.8406528568068388,
          0.8723736054541991,
          0.839081056972778,
          0.8346723991415789,
          0.8331366982754339,
          0.8527484695093996,
          0.8375513549916604,
          0.7853356824308642,
          0.8625380406478633,
          0.794797744310942,
          0.8058553203463521,
          0.6742606375415864,
          0.7240577928948695,
          0.8352112591643928,
          0.8405129319713882,
          0.7800704601496976,
          0.7819642480865886,
          0.8444134288510068,
          0.8244814988961298,
          0.9115247158573442,
          0.9132400081533072,
          0.8786517452938989,
          0.8722580799181011,
          0.8006798302385785,
          0.8134738759420728,
          0.8312964201042854,
          0.7576704838902785,
          0.8186722057818011,
          0.7780450749967903,
          0.8216096738378857,
          0.792334895668328,
          0.8221902428644353,
          0.7572114462372949,
          0.8235578766525407,
          0.7672857598761587,
          0.8278127120793803,
          0.7769031803011217,
          0.8234749461383547,
          0.7525529248501687,
          0.8517861053208324,
          0.8068654734004959,
          0.8190955166752444,
          0.7703848173491026,
          0.833452933934069,
          0.7992094220100944
         ]
        }
       ],
       "layout": {
        "legend": {
         "x": 0.01,
         "xanchor": "left",
         "y": 0.99,
         "yanchor": "top"
        },
        "template": {
         "data": {
          "bar": [
           {
            "error_x": {
             "color": "#2a3f5f"
            },
            "error_y": {
             "color": "#2a3f5f"
            },
            "marker": {
             "line": {
              "color": "#E5ECF6",
              "width": 0.5
             },
             "pattern": {
              "fillmode": "overlay",
              "size": 10,
              "solidity": 0.2
             }
            },
            "type": "bar"
           }
          ],
          "barpolar": [
           {
            "marker": {
             "line": {
              "color": "#E5ECF6",
              "width": 0.5
             },
             "pattern": {
              "fillmode": "overlay",
              "size": 10,
              "solidity": 0.2
             }
            },
            "type": "barpolar"
           }
          ],
          "carpet": [
           {
            "aaxis": {
             "endlinecolor": "#2a3f5f",
             "gridcolor": "white",
             "linecolor": "white",
             "minorgridcolor": "white",
             "startlinecolor": "#2a3f5f"
            },
            "baxis": {
             "endlinecolor": "#2a3f5f",
             "gridcolor": "white",
             "linecolor": "white",
             "minorgridcolor": "white",
             "startlinecolor": "#2a3f5f"
            },
            "type": "carpet"
           }
          ],
          "choropleth": [
           {
            "colorbar": {
             "outlinewidth": 0,
             "ticks": ""
            },
            "type": "choropleth"
           }
          ],
          "contour": [
           {
            "colorbar": {
             "outlinewidth": 0,
             "ticks": ""
            },
            "colorscale": [
             [
              0,
              "#0d0887"
             ],
             [
              0.1111111111111111,
              "#46039f"
             ],
             [
              0.2222222222222222,
              "#7201a8"
             ],
             [
              0.3333333333333333,
              "#9c179e"
             ],
             [
              0.4444444444444444,
              "#bd3786"
             ],
             [
              0.5555555555555556,
              "#d8576b"
             ],
             [
              0.6666666666666666,
              "#ed7953"
             ],
             [
              0.7777777777777778,
              "#fb9f3a"
             ],
             [
              0.8888888888888888,
              "#fdca26"
             ],
             [
              1,
              "#f0f921"
             ]
            ],
            "type": "contour"
           }
          ],
          "contourcarpet": [
           {
            "colorbar": {
             "outlinewidth": 0,
             "ticks": ""
            },
            "type": "contourcarpet"
           }
          ],
          "heatmap": [
           {
            "colorbar": {
             "outlinewidth": 0,
             "ticks": ""
            },
            "colorscale": [
             [
              0,
              "#0d0887"
             ],
             [
              0.1111111111111111,
              "#46039f"
             ],
             [
              0.2222222222222222,
              "#7201a8"
             ],
             [
              0.3333333333333333,
              "#9c179e"
             ],
             [
              0.4444444444444444,
              "#bd3786"
             ],
             [
              0.5555555555555556,
              "#d8576b"
             ],
             [
              0.6666666666666666,
              "#ed7953"
             ],
             [
              0.7777777777777778,
              "#fb9f3a"
             ],
             [
              0.8888888888888888,
              "#fdca26"
             ],
             [
              1,
              "#f0f921"
             ]
            ],
            "type": "heatmap"
           }
          ],
          "heatmapgl": [
           {
            "colorbar": {
             "outlinewidth": 0,
             "ticks": ""
            },
            "colorscale": [
             [
              0,
              "#0d0887"
             ],
             [
              0.1111111111111111,
              "#46039f"
             ],
             [
              0.2222222222222222,
              "#7201a8"
             ],
             [
              0.3333333333333333,
              "#9c179e"
             ],
             [
              0.4444444444444444,
              "#bd3786"
             ],
             [
              0.5555555555555556,
              "#d8576b"
             ],
             [
              0.6666666666666666,
              "#ed7953"
             ],
             [
              0.7777777777777778,
              "#fb9f3a"
             ],
             [
              0.8888888888888888,
              "#fdca26"
             ],
             [
              1,
              "#f0f921"
             ]
            ],
            "type": "heatmapgl"
           }
          ],
          "histogram": [
           {
            "marker": {
             "pattern": {
              "fillmode": "overlay",
              "size": 10,
              "solidity": 0.2
             }
            },
            "type": "histogram"
           }
          ],
          "histogram2d": [
           {
            "colorbar": {
             "outlinewidth": 0,
             "ticks": ""
            },
            "colorscale": [
             [
              0,
              "#0d0887"
             ],
             [
              0.1111111111111111,
              "#46039f"
             ],
             [
              0.2222222222222222,
              "#7201a8"
             ],
             [
              0.3333333333333333,
              "#9c179e"
             ],
             [
              0.4444444444444444,
              "#bd3786"
             ],
             [
              0.5555555555555556,
              "#d8576b"
             ],
             [
              0.6666666666666666,
              "#ed7953"
             ],
             [
              0.7777777777777778,
              "#fb9f3a"
             ],
             [
              0.8888888888888888,
              "#fdca26"
             ],
             [
              1,
              "#f0f921"
             ]
            ],
            "type": "histogram2d"
           }
          ],
          "histogram2dcontour": [
           {
            "colorbar": {
             "outlinewidth": 0,
             "ticks": ""
            },
            "colorscale": [
             [
              0,
              "#0d0887"
             ],
             [
              0.1111111111111111,
              "#46039f"
             ],
             [
              0.2222222222222222,
              "#7201a8"
             ],
             [
              0.3333333333333333,
              "#9c179e"
             ],
             [
              0.4444444444444444,
              "#bd3786"
             ],
             [
              0.5555555555555556,
              "#d8576b"
             ],
             [
              0.6666666666666666,
              "#ed7953"
             ],
             [
              0.7777777777777778,
              "#fb9f3a"
             ],
             [
              0.8888888888888888,
              "#fdca26"
             ],
             [
              1,
              "#f0f921"
             ]
            ],
            "type": "histogram2dcontour"
           }
          ],
          "mesh3d": [
           {
            "colorbar": {
             "outlinewidth": 0,
             "ticks": ""
            },
            "type": "mesh3d"
           }
          ],
          "parcoords": [
           {
            "line": {
             "colorbar": {
              "outlinewidth": 0,
              "ticks": ""
             }
            },
            "type": "parcoords"
           }
          ],
          "pie": [
           {
            "automargin": true,
            "type": "pie"
           }
          ],
          "scatter": [
           {
            "fillpattern": {
             "fillmode": "overlay",
             "size": 10,
             "solidity": 0.2
            },
            "type": "scatter"
           }
          ],
          "scatter3d": [
           {
            "line": {
             "colorbar": {
              "outlinewidth": 0,
              "ticks": ""
             }
            },
            "marker": {
             "colorbar": {
              "outlinewidth": 0,
              "ticks": ""
             }
            },
            "type": "scatter3d"
           }
          ],
          "scattercarpet": [
           {
            "marker": {
             "colorbar": {
              "outlinewidth": 0,
              "ticks": ""
             }
            },
            "type": "scattercarpet"
           }
          ],
          "scattergeo": [
           {
            "marker": {
             "colorbar": {
              "outlinewidth": 0,
              "ticks": ""
             }
            },
            "type": "scattergeo"
           }
          ],
          "scattergl": [
           {
            "marker": {
             "colorbar": {
              "outlinewidth": 0,
              "ticks": ""
             }
            },
            "type": "scattergl"
           }
          ],
          "scattermapbox": [
           {
            "marker": {
             "colorbar": {
              "outlinewidth": 0,
              "ticks": ""
             }
            },
            "type": "scattermapbox"
           }
          ],
          "scatterpolar": [
           {
            "marker": {
             "colorbar": {
              "outlinewidth": 0,
              "ticks": ""
             }
            },
            "type": "scatterpolar"
           }
          ],
          "scatterpolargl": [
           {
            "marker": {
             "colorbar": {
              "outlinewidth": 0,
              "ticks": ""
             }
            },
            "type": "scatterpolargl"
           }
          ],
          "scatterternary": [
           {
            "marker": {
             "colorbar": {
              "outlinewidth": 0,
              "ticks": ""
             }
            },
            "type": "scatterternary"
           }
          ],
          "surface": [
           {
            "colorbar": {
             "outlinewidth": 0,
             "ticks": ""
            },
            "colorscale": [
             [
              0,
              "#0d0887"
             ],
             [
              0.1111111111111111,
              "#46039f"
             ],
             [
              0.2222222222222222,
              "#7201a8"
             ],
             [
              0.3333333333333333,
              "#9c179e"
             ],
             [
              0.4444444444444444,
              "#bd3786"
             ],
             [
              0.5555555555555556,
              "#d8576b"
             ],
             [
              0.6666666666666666,
              "#ed7953"
             ],
             [
              0.7777777777777778,
              "#fb9f3a"
             ],
             [
              0.8888888888888888,
              "#fdca26"
             ],
             [
              1,
              "#f0f921"
             ]
            ],
            "type": "surface"
           }
          ],
          "table": [
           {
            "cells": {
             "fill": {
              "color": "#EBF0F8"
             },
             "line": {
              "color": "white"
             }
            },
            "header": {
             "fill": {
              "color": "#C8D4E3"
             },
             "line": {
              "color": "white"
             }
            },
            "type": "table"
           }
          ]
         },
         "layout": {
          "annotationdefaults": {
           "arrowcolor": "#2a3f5f",
           "arrowhead": 0,
           "arrowwidth": 1
          },
          "autotypenumbers": "strict",
          "coloraxis": {
           "colorbar": {
            "outlinewidth": 0,
            "ticks": ""
           }
          },
          "colorscale": {
           "diverging": [
            [
             0,
             "#8e0152"
            ],
            [
             0.1,
             "#c51b7d"
            ],
            [
             0.2,
             "#de77ae"
            ],
            [
             0.3,
             "#f1b6da"
            ],
            [
             0.4,
             "#fde0ef"
            ],
            [
             0.5,
             "#f7f7f7"
            ],
            [
             0.6,
             "#e6f5d0"
            ],
            [
             0.7,
             "#b8e186"
            ],
            [
             0.8,
             "#7fbc41"
            ],
            [
             0.9,
             "#4d9221"
            ],
            [
             1,
             "#276419"
            ]
           ],
           "sequential": [
            [
             0,
             "#0d0887"
            ],
            [
             0.1111111111111111,
             "#46039f"
            ],
            [
             0.2222222222222222,
             "#7201a8"
            ],
            [
             0.3333333333333333,
             "#9c179e"
            ],
            [
             0.4444444444444444,
             "#bd3786"
            ],
            [
             0.5555555555555556,
             "#d8576b"
            ],
            [
             0.6666666666666666,
             "#ed7953"
            ],
            [
             0.7777777777777778,
             "#fb9f3a"
            ],
            [
             0.8888888888888888,
             "#fdca26"
            ],
            [
             1,
             "#f0f921"
            ]
           ],
           "sequentialminus": [
            [
             0,
             "#0d0887"
            ],
            [
             0.1111111111111111,
             "#46039f"
            ],
            [
             0.2222222222222222,
             "#7201a8"
            ],
            [
             0.3333333333333333,
             "#9c179e"
            ],
            [
             0.4444444444444444,
             "#bd3786"
            ],
            [
             0.5555555555555556,
             "#d8576b"
            ],
            [
             0.6666666666666666,
             "#ed7953"
            ],
            [
             0.7777777777777778,
             "#fb9f3a"
            ],
            [
             0.8888888888888888,
             "#fdca26"
            ],
            [
             1,
             "#f0f921"
            ]
           ]
          },
          "colorway": [
           "#636efa",
           "#EF553B",
           "#00cc96",
           "#ab63fa",
           "#FFA15A",
           "#19d3f3",
           "#FF6692",
           "#B6E880",
           "#FF97FF",
           "#FECB52"
          ],
          "font": {
           "color": "#2a3f5f"
          },
          "geo": {
           "bgcolor": "white",
           "lakecolor": "white",
           "landcolor": "#E5ECF6",
           "showlakes": true,
           "showland": true,
           "subunitcolor": "white"
          },
          "hoverlabel": {
           "align": "left"
          },
          "hovermode": "closest",
          "mapbox": {
           "style": "light"
          },
          "paper_bgcolor": "white",
          "plot_bgcolor": "#E5ECF6",
          "polar": {
           "angularaxis": {
            "gridcolor": "white",
            "linecolor": "white",
            "ticks": ""
           },
           "bgcolor": "#E5ECF6",
           "radialaxis": {
            "gridcolor": "white",
            "linecolor": "white",
            "ticks": ""
           }
          },
          "scene": {
           "xaxis": {
            "backgroundcolor": "#E5ECF6",
            "gridcolor": "white",
            "gridwidth": 2,
            "linecolor": "white",
            "showbackground": true,
            "ticks": "",
            "zerolinecolor": "white"
           },
           "yaxis": {
            "backgroundcolor": "#E5ECF6",
            "gridcolor": "white",
            "gridwidth": 2,
            "linecolor": "white",
            "showbackground": true,
            "ticks": "",
            "zerolinecolor": "white"
           },
           "zaxis": {
            "backgroundcolor": "#E5ECF6",
            "gridcolor": "white",
            "gridwidth": 2,
            "linecolor": "white",
            "showbackground": true,
            "ticks": "",
            "zerolinecolor": "white"
           }
          },
          "shapedefaults": {
           "line": {
            "color": "#2a3f5f"
           }
          },
          "ternary": {
           "aaxis": {
            "gridcolor": "white",
            "linecolor": "white",
            "ticks": ""
           },
           "baxis": {
            "gridcolor": "white",
            "linecolor": "white",
            "ticks": ""
           },
           "bgcolor": "#E5ECF6",
           "caxis": {
            "gridcolor": "white",
            "linecolor": "white",
            "ticks": ""
           }
          },
          "title": {
           "x": 0.05
          },
          "xaxis": {
           "automargin": true,
           "gridcolor": "white",
           "linecolor": "white",
           "ticks": "",
           "title": {
            "standoff": 15
           },
           "zerolinecolor": "white",
           "zerolinewidth": 2
          },
          "yaxis": {
           "automargin": true,
           "gridcolor": "white",
           "linecolor": "white",
           "ticks": "",
           "title": {
            "standoff": 15
           },
           "zerolinecolor": "white",
           "zerolinewidth": 2
          }
         }
        },
        "title": {
         "text": "Comparación de F1 Score Media por Anchura de Kernel"
        },
        "xaxis": {
         "title": {
          "text": "Anchura del Kernel"
         }
        },
        "yaxis": {
         "title": {
          "text": "F1 Score Media"
         }
        }
       }
      },
      "text/html": [
       "<div>                            <div id=\"9d84afce-ce8d-4d84-b99d-08a89c9b7342\" class=\"plotly-graph-div\" style=\"height:525px; width:100%;\"></div>            <script type=\"text/javascript\">                require([\"plotly\"], function(Plotly) {                    window.PLOTLYENV=window.PLOTLYENV || {};                                    if (document.getElementById(\"9d84afce-ce8d-4d84-b99d-08a89c9b7342\")) {                    Plotly.newPlot(                        \"9d84afce-ce8d-4d84-b99d-08a89c9b7342\",                        [{\"boxpoints\":\"all\",\"name\":\"Box Plot\",\"x\":[\"50_cte\",\"50_cte\",\"50_cte\",\"50_cte\",\"20_cte\",\"20_cte\",\"20_cte\",\"20_cte\",\"5_cte\",\"5_cte\",\"5_cte\",\"5_cte\",\"ASC\",\"ASC\",\"ASC\",\"ASC\",\"DESC\",\"DESC\",\"DESC\",\"DESC\",\"50_cte\",\"50_cte\",\"50_cte\",\"50_cte\",\"20_cte\",\"20_cte\",\"20_cte\",\"20_cte\",\"5_cte\",\"5_cte\",\"5_cte\",\"5_cte\",\"ASC\",\"ASC\",\"ASC\",\"ASC\",\"DESC\",\"DESC\",\"DESC\",\"DESC\",\"50_cte\",\"50_cte\",\"50_cte\",\"50_cte\",\"20_cte\",\"20_cte\",\"20_cte\",\"20_cte\",\"5_cte\",\"5_cte\",\"5_cte\",\"5_cte\",\"ASC\",\"ASC\",\"ASC\",\"ASC\",\"DESC\",\"DESC\",\"DESC\",\"DESC\",\"50_cte\",\"50_cte\",\"50_cte\",\"50_cte\",\"20_cte\",\"20_cte\",\"20_cte\",\"20_cte\",\"5_cte\",\"5_cte\",\"5_cte\",\"5_cte\",\"ASC\",\"ASC\",\"ASC\",\"ASC\",\"DESC\",\"DESC\",\"DESC\",\"50_cte\",\"50_cte\",\"50_cte\",\"50_cte\",\"20_cte\",\"20_cte\",\"20_cte\",\"20_cte\",\"5_cte\",\"5_cte\",\"5_cte\",\"5_cte\",\"ASC\",\"ASC\",\"ASC\",\"ASC\",\"DESC\",\"DESC\",\"DESC\",\"DESC\",\"50_cte\",\"50_cte\",\"50_cte\",\"50_cte\",\"20_cte\",\"20_cte\",\"20_cte\",\"20_cte\",\"5_cte\",\"5_cte\",\"5_cte\",\"5_cte\",\"ASC\",\"ASC\",\"ASC\",\"ASC\",\"DESC\",\"DESC\",\"DESC\",\"DESC\",\"50_cte\",\"50_cte\",\"50_cte\",\"50_cte\",\"20_cte\",\"20_cte\",\"20_cte\",\"20_cte\",\"5_cte\",\"5_cte\",\"5_cte\",\"5_cte\",\"ASC\",\"ASC\",\"ASC\",\"ASC\",\"DESC\",\"DESC\",\"DESC\",\"DESC\",\"50_cte\",\"50_cte\",\"50_cte\",\"50_cte\",\"20_cte\",\"20_cte\",\"20_cte\",\"20_cte\",\"5_cte\",\"5_cte\",\"5_cte\",\"5_cte\",\"ASC\",\"ASC\",\"ASC\",\"ASC\",\"DESC\",\"DESC\",\"DESC\",\"DESC\",\"50_cte\",\"50_cte\",\"50_cte\",\"50_cte\",\"20_cte\",\"20_cte\",\"20_cte\",\"20_cte\",\"5_cte\",\"5_cte\",\"5_cte\",\"5_cte\",\"ASC\",\"ASC\",\"ASC\",\"ASC\",\"DESC\",\"DESC\",\"DESC\",\"DESC\",\"50_cte\",\"50_cte\",\"50_cte\",\"50_cte\",\"20_cte\",\"20_cte\",\"20_cte\",\"20_cte\",\"5_cte\",\"5_cte\",\"50_cte\",\"50_cte\",\"50_cte\",\"50_cte\",\"20_cte\",\"20_cte\",\"20_cte\",\"20_cte\",\"5_cte\",\"5_cte\",\"5_cte\",\"5_cte\",\"ASC\",\"ASC\",\"ASC\",\"ASC\",\"DESC\",\"DESC\",\"DESC\",\"DESC\",\"50_cte\",\"50_cte\",\"50_cte\",\"50_cte\",\"20_cte\",\"20_cte\",\"20_cte\",\"20_cte\",\"5_cte\",\"5_cte\",\"5_cte\",\"5_cte\",\"ASC\",\"ASC\",\"ASC\",\"ASC\",\"DESC\",\"DESC\",\"DESC\",\"DESC\",\"50_cte\",\"50_cte\",\"50_cte\",\"50_cte\",\"20_cte\",\"20_cte\",\"20_cte\",\"20_cte\",\"5_cte\",\"5_cte\",\"5_cte\",\"5_cte\",\"ASC\",\"ASC\",\"ASC\",\"ASC\",\"DESC\",\"DESC\",\"DESC\",\"DESC\",\"50_cte\",\"50_cte\",\"50_cte\",\"50_cte\",\"20_cte\",\"20_cte\",\"20_cte\",\"20_cte\",\"5_cte\",\"5_cte\",\"5_cte\",\"5_cte\",\"ASC\",\"ASC\",\"ASC\",\"ASC\",\"DESC\",\"DESC\",\"DESC\",\"DESC\",\"50_cte\",\"50_cte\",\"50_cte\",\"50_cte\",\"20_cte\",\"20_cte\",\"20_cte\",\"20_cte\",\"5_cte\",\"5_cte\",\"5_cte\",\"5_cte\",\"ASC\",\"ASC\",\"ASC\",\"ASC\",\"DESC\",\"DESC\",\"DESC\",\"DESC\",\"50_cte\",\"50_cte\",\"50_cte\",\"50_cte\",\"20_cte\",\"20_cte\",\"20_cte\",\"20_cte\",\"5_cte\",\"5_cte\",\"5_cte\",\"5_cte\",\"ASC\",\"ASC\",\"ASC\",\"ASC\",\"DESC\",\"50_cte\",\"50_cte\",\"50_cte\",\"50_cte\",\"20_cte\",\"20_cte\",\"20_cte\",\"20_cte\",\"5_cte\",\"5_cte\",\"5_cte\",\"5_cte\",\"ASC\",\"ASC\",\"ASC\",\"ASC\",\"DESC\",\"DESC\",\"DESC\",\"DESC\",\"50_cte\",\"50_cte\",\"50_cte\",\"50_cte\",\"20_cte\",\"20_cte\",\"20_cte\",\"20_cte\",\"5_cte\",\"5_cte\",\"5_cte\",\"5_cte\",\"ASC\",\"ASC\",\"ASC\",\"ASC\",\"DESC\",\"DESC\",\"DESC\",\"DESC\",\"50_cte\",\"50_cte\",\"50_cte\",\"50_cte\",\"20_cte\",\"20_cte\",\"20_cte\",\"20_cte\",\"5_cte\",\"5_cte\",\"5_cte\",\"5_cte\",\"ASC\",\"ASC\",\"ASC\",\"ASC\",\"DESC\",\"DESC\",\"DESC\",\"DESC\",\"50_cte\",\"50_cte\",\"50_cte\",\"50_cte\",\"20_cte\",\"20_cte\",\"20_cte\",\"20_cte\",\"5_cte\",\"5_cte\",\"5_cte\",\"5_cte\",\"ASC\",\"ASC\",\"ASC\",\"ASC\",\"DESC\",\"DESC\",\"DESC\",\"DESC\",\"50_cte\",\"50_cte\",\"50_cte\",\"50_cte\",\"20_cte\",\"20_cte\",\"20_cte\",\"20_cte\",\"5_cte\",\"5_cte\",\"5_cte\",\"5_cte\",\"ASC\",\"ASC\",\"ASC\",\"ASC\",\"DESC\",\"DESC\",\"DESC\",\"DESC\",\"50_cte\",\"50_cte\",\"50_cte\",\"50_cte\",\"20_cte\",\"20_cte\",\"20_cte\",\"20_cte\",\"5_cte\",\"5_cte\",\"5_cte\",\"5_cte\",\"ASC\",\"ASC\",\"ASC\",\"ASC\",\"50_cte\",\"50_cte\",\"50_cte\",\"50_cte\",\"20_cte\",\"20_cte\",\"20_cte\",\"20_cte\",\"5_cte\",\"5_cte\",\"5_cte\",\"5_cte\",\"ASC\",\"ASC\",\"ASC\",\"ASC\",\"DESC\",\"DESC\",\"DESC\",\"DESC\"],\"y\":[0.9047064919820172,0.9035331365864694,0.8996535227216441,0.9017273916654334,0.90371667316185,0.9045175206527276,0.9134284686389078,0.9135829155711532,0.909683416435962,0.9123479645321791,0.940861714478747,0.9329220816993988,0.9008632233202108,0.9108845498635192,0.914888650333188,0.9175372852255722,0.927354218632198,0.9165164760439032,0.928280833604181,0.914965629440376,0.9352790284375893,0.9301235985529516,0.921312580590969,0.9145110553905764,0.9356322209333852,0.9272820815449284,0.94661612321042,0.941990957062706,0.9159140237183072,0.9339891378093286,0.9550994065168048,0.9319760155891892,0.9257993523584104,0.9286747774567372,0.9359449219530016,0.9349290926423182,0.9217092195680576,0.905808378133472,0.9488419011643976,0.9458573205717044,0.8976728400588719,0.8826091445568703,0.8691489367907153,0.8636417488979308,0.8805833317836571,0.8930695556762035,0.9319950691519052,0.8848732422068751,0.871591262170169,0.8827463983138294,0.9093648854096944,0.9323079556687504,0.8705523501939939,0.8846857182417572,0.8952128023392457,0.9174844814611512,0.8864864408733009,0.8883892401802299,0.8638850561419854,0.8827031632142159,0.9309193991807884,0.9141966086467672,0.8582191344225716,0.9049569789138024,0.8549461577581896,0.8579579163102682,0.8239336204951603,0.8833610912574282,0.8865224748145804,0.8875468112191807,0.8992944177960771,0.877781027996759,0.919181664198898,0.9242845266346617,0.8638785416769907,0.916597468809551,0.91263980451926,0.8920323662383174,0.8867822565836869,0.8386047731376213,0.797449656624785,0.8409923208290729,0.795781513006263,0.8402230176277822,0.8362946587401828,0.8494137169618702,0.8353492496330459,0.8289100193486776,0.8483528657999782,0.8580624688429817,0.8417455848006749,0.8459018233569257,0.7867256538796761,0.8436422592241286,0.844841744055779,0.8476695964525305,0.8259283177057261,0.8470825909358197,0.8268660528535706,0.8456530781693314,0.8270615738839878,0.8428459253676688,0.8523177872350779,0.8315702991355919,0.8080263495035775,0.8470403372717703,0.8007191723598949,0.8146372729459352,0.8195453416981974,0.8429519607662067,0.835547894754729,0.8378316707722082,0.8241469842205589,0.8382240838623625,0.8536640077675319,0.8459828665736481,0.7945889624510031,0.8391551863221904,0.8148872377847582,0.9190745785554688,0.9096375931799652,0.9167155457527656,0.9134055617795608,0.9220488590240272,0.9318605704606766,0.925380330505192,0.9318183743743518,0.9214739825008984,0.9303738178059596,0.9398281340325187,0.9434904718606316,0.9306545915232176,0.9324530493267724,0.93378041973411,0.9318912617110788,0.9329001552606352,0.935522544611156,0.940538315415347,0.9275607390173308,0.9504576645515828,0.9501045553368022,0.9613101487961389,0.958830461636568,0.9447824826519932,0.9507350748859978,0.9537689865223266,0.9386601599315324,0.9512205058773904,0.9395142662092104,0.9531213155190992,0.9475213939546206,0.9433910966780328,0.9410577005857174,0.9508328740846796,0.9452953382383332,0.94882253761808,0.9509990483769764,0.951049144829357,0.9497907295932352,0.9412378895003832,0.8709248250298453,0.9036024832602167,0.934397130329794,0.9308534503478076,0.9022353002275846,0.9474798745659748,0.8950543805653914,0.9299065624225912,0.8925318787703244,0.9338957528006676,0.9298473172887864,0.8697541585441817,0.9369248371417576,0.9460614987576496,0.9432072237948036,0.8955101271818691,0.8787631479180557,0.9045102741717436,0.9415052076318378,0.9332791402988188,0.9381902016578878,0.9466531742341036,0.9511886495225552,0.936799553845071,0.9129176319919564,0.9555516506390804,0.94993352735074,0.9426035354941976,0.9323058814058808,0.8534725638458396,0.8309693071829668,0.8367839064234441,0.8346147542440905,0.8591952232164346,0.8750456431993744,0.8754499988392128,0.8094866041766771,0.8498343609339927,0.8413747126921035,0.8720074182901948,0.861801108091134,0.8503759016798523,0.8259236264987889,0.8806812911071187,0.8792767306820859,0.8540198611266936,0.8440604362646507,0.8662075849709098,0.824320798919016,0.8418209056282967,0.8212469769547418,0.8466428520357863,0.8363287717353959,0.8495358845128397,0.8322414583737145,0.858520380094682,0.8175732967320307,0.861950992297284,0.8419633984597894,0.8664235749534427,0.8669138941042983,0.8468088397673078,0.8420168843804352,0.8529805728531171,0.813021268021698,0.8580921367497278,0.8292068307023049,0.8566238196186327,0.8373134156464022,0.8969986588837809,0.8954252881715636,0.8900657598547004,0.8904331916935087,0.9080520528100932,0.8871046744743789,0.9135324208965672,0.9051487877587872,0.9056566930170032,0.8932956648633695,0.9198975815965392,0.9150431326203188,0.8924260570293941,0.8985296676774418,0.8999013863968481,0.9091860344662814,0.8988426092043162,0.9068234291681898,0.9026195715693188,0.904718168686144,0.9069402803193788,0.9388682790569578,0.8965406058372899,0.875181267562274,0.9162053111016948,0.8657541734492475,0.9063818144535886,0.8952063077945644,0.8686418924293878,0.9233645387832012,0.9066487886913068,0.9389144936066522,0.9190909618477318,0.8902237450746872,0.8962942502803297,0.8734449242332485,0.8983951218063967,0.911311001232937,0.9062953645328928,0.8993343725919805,0.8862106766451783,0.9089550403563472,0.8650154717708911,0.8184996638323946,0.873483175493479,0.8808140401605585,0.8547117840923856,0.8286193903482237,0.9069449800428456,0.8748707330559995,0.8742641699420487,0.8718676454472477,0.9109217031420824,0.8721853709433453,0.8338816329980517,0.8739475552365087,0.8410830495210962,0.8802515372541222,0.8020408069663303,0.8612770776309121,0.922866022567018,0.8155924721500085,0.8588543061919797,0.8094693019609823,0.8972902241939346,0.8489138716457582,0.853156751328013,0.8357593331328357,0.8775706324981636,0.9167948273073204,0.8774246772754927,0.8738045995679591,0.831227722657751,0.8837241278717527,0.8469430895238276,0.848076787266845,0.893051998425832,0.8069594823999912,0.7960251365981338,0.8012340972285386,0.8027880437833774,0.8168820589005812,0.7788982753107442,0.7948728289400688,0.8322476739829248,0.7890416714614485,0.8130478036628144,0.8276067993328852,0.7943009790946516,0.8008968705818996,0.7886973920893879,0.8034196864415464,0.8093789754287706,0.7918317440122012,0.804354548638871,0.7993370445623357,0.8045581595957545,0.8147058329191741,0.8397418133118332,0.7797051111265048,0.7585730299920144,0.8709251516348112,0.881045339069771,0.848978660737985,0.8218539636622912,0.9031968514584237,0.890887589495232,0.9065164002288142,0.9006408514619382,0.9169154157732622,0.8843742883755742,0.8701620072944654,0.9076405724546348,0.8855496649880022,0.886360610052341,0.8842226515708057,0.8628416862752821,0.9074062081210196,0.900568057609866,0.8963512599179179,0.9081005674595134,0.9089999673224216,0.8969751310290738,0.9051209175430188,0.9094647414535926,0.8809757649723977,0.8859656549653999,0.8913900440620979,0.8974746179699028,0.8923842831155906,0.8781803215783804,0.8968246608587266,0.902479805946566,0.8979243510567768,0.8904629988463297,0.9021704000933864,0.8940041598333301,0.9126604659215464,0.896024770470256,0.8920888603936763,0.9082298839041246,0.8272222553225477,0.8679325668795874,0.8919142312574578,0.8445052844057428,0.8730959531306307,0.8006158782721811,0.8355427312495572,0.861680887989716,0.8418935096015326,0.8457088107036952,0.81540417317044,0.862896421986616,0.801125451607268,0.8539454930889658,0.8744664950215799,0.8535116119636567,0.8345416117471105,0.8085722652771153,0.7726704676751407,0.7536448288521579,0.87989811979342,0.8332434509466221,0.7869929662514383,0.8396099733180874,0.8646613548519031,0.8608007053048193,0.8055890037014092,0.8406528568068388,0.8723736054541991,0.839081056972778,0.8346723991415789,0.8331366982754339,0.8527484695093996,0.8375513549916604,0.7853356824308642,0.8625380406478633,0.794797744310942,0.8058553203463521,0.6742606375415864,0.7240577928948695,0.8352112591643928,0.8405129319713882,0.7800704601496976,0.7819642480865886,0.8444134288510068,0.8244814988961298,0.9115247158573442,0.9132400081533072,0.8786517452938989,0.8722580799181011,0.8006798302385785,0.8134738759420728,0.8312964201042854,0.7576704838902785,0.8186722057818011,0.7780450749967903,0.8216096738378857,0.792334895668328,0.8221902428644353,0.7572114462372949,0.8235578766525407,0.7672857598761587,0.8278127120793803,0.7769031803011217,0.8234749461383547,0.7525529248501687,0.8517861053208324,0.8068654734004959,0.8190955166752444,0.7703848173491026,0.833452933934069,0.7992094220100944],\"type\":\"box\"}],                        {\"template\":{\"data\":{\"histogram2dcontour\":[{\"type\":\"histogram2dcontour\",\"colorbar\":{\"outlinewidth\":0,\"ticks\":\"\"},\"colorscale\":[[0.0,\"#0d0887\"],[0.1111111111111111,\"#46039f\"],[0.2222222222222222,\"#7201a8\"],[0.3333333333333333,\"#9c179e\"],[0.4444444444444444,\"#bd3786\"],[0.5555555555555556,\"#d8576b\"],[0.6666666666666666,\"#ed7953\"],[0.7777777777777778,\"#fb9f3a\"],[0.8888888888888888,\"#fdca26\"],[1.0,\"#f0f921\"]]}],\"choropleth\":[{\"type\":\"choropleth\",\"colorbar\":{\"outlinewidth\":0,\"ticks\":\"\"}}],\"histogram2d\":[{\"type\":\"histogram2d\",\"colorbar\":{\"outlinewidth\":0,\"ticks\":\"\"},\"colorscale\":[[0.0,\"#0d0887\"],[0.1111111111111111,\"#46039f\"],[0.2222222222222222,\"#7201a8\"],[0.3333333333333333,\"#9c179e\"],[0.4444444444444444,\"#bd3786\"],[0.5555555555555556,\"#d8576b\"],[0.6666666666666666,\"#ed7953\"],[0.7777777777777778,\"#fb9f3a\"],[0.8888888888888888,\"#fdca26\"],[1.0,\"#f0f921\"]]}],\"heatmap\":[{\"type\":\"heatmap\",\"colorbar\":{\"outlinewidth\":0,\"ticks\":\"\"},\"colorscale\":[[0.0,\"#0d0887\"],[0.1111111111111111,\"#46039f\"],[0.2222222222222222,\"#7201a8\"],[0.3333333333333333,\"#9c179e\"],[0.4444444444444444,\"#bd3786\"],[0.5555555555555556,\"#d8576b\"],[0.6666666666666666,\"#ed7953\"],[0.7777777777777778,\"#fb9f3a\"],[0.8888888888888888,\"#fdca26\"],[1.0,\"#f0f921\"]]}],\"heatmapgl\":[{\"type\":\"heatmapgl\",\"colorbar\":{\"outlinewidth\":0,\"ticks\":\"\"},\"colorscale\":[[0.0,\"#0d0887\"],[0.1111111111111111,\"#46039f\"],[0.2222222222222222,\"#7201a8\"],[0.3333333333333333,\"#9c179e\"],[0.4444444444444444,\"#bd3786\"],[0.5555555555555556,\"#d8576b\"],[0.6666666666666666,\"#ed7953\"],[0.7777777777777778,\"#fb9f3a\"],[0.8888888888888888,\"#fdca26\"],[1.0,\"#f0f921\"]]}],\"contourcarpet\":[{\"type\":\"contourcarpet\",\"colorbar\":{\"outlinewidth\":0,\"ticks\":\"\"}}],\"contour\":[{\"type\":\"contour\",\"colorbar\":{\"outlinewidth\":0,\"ticks\":\"\"},\"colorscale\":[[0.0,\"#0d0887\"],[0.1111111111111111,\"#46039f\"],[0.2222222222222222,\"#7201a8\"],[0.3333333333333333,\"#9c179e\"],[0.4444444444444444,\"#bd3786\"],[0.5555555555555556,\"#d8576b\"],[0.6666666666666666,\"#ed7953\"],[0.7777777777777778,\"#fb9f3a\"],[0.8888888888888888,\"#fdca26\"],[1.0,\"#f0f921\"]]}],\"surface\":[{\"type\":\"surface\",\"colorbar\":{\"outlinewidth\":0,\"ticks\":\"\"},\"colorscale\":[[0.0,\"#0d0887\"],[0.1111111111111111,\"#46039f\"],[0.2222222222222222,\"#7201a8\"],[0.3333333333333333,\"#9c179e\"],[0.4444444444444444,\"#bd3786\"],[0.5555555555555556,\"#d8576b\"],[0.6666666666666666,\"#ed7953\"],[0.7777777777777778,\"#fb9f3a\"],[0.8888888888888888,\"#fdca26\"],[1.0,\"#f0f921\"]]}],\"mesh3d\":[{\"type\":\"mesh3d\",\"colorbar\":{\"outlinewidth\":0,\"ticks\":\"\"}}],\"scatter\":[{\"fillpattern\":{\"fillmode\":\"overlay\",\"size\":10,\"solidity\":0.2},\"type\":\"scatter\"}],\"parcoords\":[{\"type\":\"parcoords\",\"line\":{\"colorbar\":{\"outlinewidth\":0,\"ticks\":\"\"}}}],\"scatterpolargl\":[{\"type\":\"scatterpolargl\",\"marker\":{\"colorbar\":{\"outlinewidth\":0,\"ticks\":\"\"}}}],\"bar\":[{\"error_x\":{\"color\":\"#2a3f5f\"},\"error_y\":{\"color\":\"#2a3f5f\"},\"marker\":{\"line\":{\"color\":\"#E5ECF6\",\"width\":0.5},\"pattern\":{\"fillmode\":\"overlay\",\"size\":10,\"solidity\":0.2}},\"type\":\"bar\"}],\"scattergeo\":[{\"type\":\"scattergeo\",\"marker\":{\"colorbar\":{\"outlinewidth\":0,\"ticks\":\"\"}}}],\"scatterpolar\":[{\"type\":\"scatterpolar\",\"marker\":{\"colorbar\":{\"outlinewidth\":0,\"ticks\":\"\"}}}],\"histogram\":[{\"marker\":{\"pattern\":{\"fillmode\":\"overlay\",\"size\":10,\"solidity\":0.2}},\"type\":\"histogram\"}],\"scattergl\":[{\"type\":\"scattergl\",\"marker\":{\"colorbar\":{\"outlinewidth\":0,\"ticks\":\"\"}}}],\"scatter3d\":[{\"type\":\"scatter3d\",\"line\":{\"colorbar\":{\"outlinewidth\":0,\"ticks\":\"\"}},\"marker\":{\"colorbar\":{\"outlinewidth\":0,\"ticks\":\"\"}}}],\"scattermapbox\":[{\"type\":\"scattermapbox\",\"marker\":{\"colorbar\":{\"outlinewidth\":0,\"ticks\":\"\"}}}],\"scatterternary\":[{\"type\":\"scatterternary\",\"marker\":{\"colorbar\":{\"outlinewidth\":0,\"ticks\":\"\"}}}],\"scattercarpet\":[{\"type\":\"scattercarpet\",\"marker\":{\"colorbar\":{\"outlinewidth\":0,\"ticks\":\"\"}}}],\"carpet\":[{\"aaxis\":{\"endlinecolor\":\"#2a3f5f\",\"gridcolor\":\"white\",\"linecolor\":\"white\",\"minorgridcolor\":\"white\",\"startlinecolor\":\"#2a3f5f\"},\"baxis\":{\"endlinecolor\":\"#2a3f5f\",\"gridcolor\":\"white\",\"linecolor\":\"white\",\"minorgridcolor\":\"white\",\"startlinecolor\":\"#2a3f5f\"},\"type\":\"carpet\"}],\"table\":[{\"cells\":{\"fill\":{\"color\":\"#EBF0F8\"},\"line\":{\"color\":\"white\"}},\"header\":{\"fill\":{\"color\":\"#C8D4E3\"},\"line\":{\"color\":\"white\"}},\"type\":\"table\"}],\"barpolar\":[{\"marker\":{\"line\":{\"color\":\"#E5ECF6\",\"width\":0.5},\"pattern\":{\"fillmode\":\"overlay\",\"size\":10,\"solidity\":0.2}},\"type\":\"barpolar\"}],\"pie\":[{\"automargin\":true,\"type\":\"pie\"}]},\"layout\":{\"autotypenumbers\":\"strict\",\"colorway\":[\"#636efa\",\"#EF553B\",\"#00cc96\",\"#ab63fa\",\"#FFA15A\",\"#19d3f3\",\"#FF6692\",\"#B6E880\",\"#FF97FF\",\"#FECB52\"],\"font\":{\"color\":\"#2a3f5f\"},\"hovermode\":\"closest\",\"hoverlabel\":{\"align\":\"left\"},\"paper_bgcolor\":\"white\",\"plot_bgcolor\":\"#E5ECF6\",\"polar\":{\"bgcolor\":\"#E5ECF6\",\"angularaxis\":{\"gridcolor\":\"white\",\"linecolor\":\"white\",\"ticks\":\"\"},\"radialaxis\":{\"gridcolor\":\"white\",\"linecolor\":\"white\",\"ticks\":\"\"}},\"ternary\":{\"bgcolor\":\"#E5ECF6\",\"aaxis\":{\"gridcolor\":\"white\",\"linecolor\":\"white\",\"ticks\":\"\"},\"baxis\":{\"gridcolor\":\"white\",\"linecolor\":\"white\",\"ticks\":\"\"},\"caxis\":{\"gridcolor\":\"white\",\"linecolor\":\"white\",\"ticks\":\"\"}},\"coloraxis\":{\"colorbar\":{\"outlinewidth\":0,\"ticks\":\"\"}},\"colorscale\":{\"sequential\":[[0.0,\"#0d0887\"],[0.1111111111111111,\"#46039f\"],[0.2222222222222222,\"#7201a8\"],[0.3333333333333333,\"#9c179e\"],[0.4444444444444444,\"#bd3786\"],[0.5555555555555556,\"#d8576b\"],[0.6666666666666666,\"#ed7953\"],[0.7777777777777778,\"#fb9f3a\"],[0.8888888888888888,\"#fdca26\"],[1.0,\"#f0f921\"]],\"sequentialminus\":[[0.0,\"#0d0887\"],[0.1111111111111111,\"#46039f\"],[0.2222222222222222,\"#7201a8\"],[0.3333333333333333,\"#9c179e\"],[0.4444444444444444,\"#bd3786\"],[0.5555555555555556,\"#d8576b\"],[0.6666666666666666,\"#ed7953\"],[0.7777777777777778,\"#fb9f3a\"],[0.8888888888888888,\"#fdca26\"],[1.0,\"#f0f921\"]],\"diverging\":[[0,\"#8e0152\"],[0.1,\"#c51b7d\"],[0.2,\"#de77ae\"],[0.3,\"#f1b6da\"],[0.4,\"#fde0ef\"],[0.5,\"#f7f7f7\"],[0.6,\"#e6f5d0\"],[0.7,\"#b8e186\"],[0.8,\"#7fbc41\"],[0.9,\"#4d9221\"],[1,\"#276419\"]]},\"xaxis\":{\"gridcolor\":\"white\",\"linecolor\":\"white\",\"ticks\":\"\",\"title\":{\"standoff\":15},\"zerolinecolor\":\"white\",\"automargin\":true,\"zerolinewidth\":2},\"yaxis\":{\"gridcolor\":\"white\",\"linecolor\":\"white\",\"ticks\":\"\",\"title\":{\"standoff\":15},\"zerolinecolor\":\"white\",\"automargin\":true,\"zerolinewidth\":2},\"scene\":{\"xaxis\":{\"backgroundcolor\":\"#E5ECF6\",\"gridcolor\":\"white\",\"linecolor\":\"white\",\"showbackground\":true,\"ticks\":\"\",\"zerolinecolor\":\"white\",\"gridwidth\":2},\"yaxis\":{\"backgroundcolor\":\"#E5ECF6\",\"gridcolor\":\"white\",\"linecolor\":\"white\",\"showbackground\":true,\"ticks\":\"\",\"zerolinecolor\":\"white\",\"gridwidth\":2},\"zaxis\":{\"backgroundcolor\":\"#E5ECF6\",\"gridcolor\":\"white\",\"linecolor\":\"white\",\"showbackground\":true,\"ticks\":\"\",\"zerolinecolor\":\"white\",\"gridwidth\":2}},\"shapedefaults\":{\"line\":{\"color\":\"#2a3f5f\"}},\"annotationdefaults\":{\"arrowcolor\":\"#2a3f5f\",\"arrowhead\":0,\"arrowwidth\":1},\"geo\":{\"bgcolor\":\"white\",\"landcolor\":\"#E5ECF6\",\"subunitcolor\":\"white\",\"showland\":true,\"showlakes\":true,\"lakecolor\":\"white\"},\"title\":{\"x\":0.05},\"mapbox\":{\"style\":\"light\"}}},\"legend\":{\"yanchor\":\"top\",\"y\":0.99,\"xanchor\":\"left\",\"x\":0.01},\"title\":{\"text\":\"Comparaci\\u00f3n de F1 Score Media por Anchura de Kernel\"},\"xaxis\":{\"title\":{\"text\":\"Anchura del Kernel\"}},\"yaxis\":{\"title\":{\"text\":\"F1 Score Media\"}}},                        {\"responsive\": true}                    ).then(function(){\n",
       "                            \n",
       "var gd = document.getElementById('9d84afce-ce8d-4d84-b99d-08a89c9b7342');\n",
       "var x = new MutationObserver(function (mutations, observer) {{\n",
       "        var display = window.getComputedStyle(gd).display;\n",
       "        if (!display || display === 'none') {{\n",
       "            console.log([gd, 'removed!']);\n",
       "            Plotly.purge(gd);\n",
       "            observer.disconnect();\n",
       "        }}\n",
       "}});\n",
       "\n",
       "// Listen for the removal of the full notebook cells\n",
       "var notebookContainer = gd.closest('#notebook-container');\n",
       "if (notebookContainer) {{\n",
       "    x.observe(notebookContainer, {childList: true});\n",
       "}}\n",
       "\n",
       "// Listen for the clearing of the current output cell\n",
       "var outputEl = gd.closest('.output');\n",
       "if (outputEl) {{\n",
       "    x.observe(outputEl, {childList: true});\n",
       "}}\n",
       "\n",
       "                        })                };                });            </script>        </div>"
      ]
     },
     "metadata": {},
     "output_type": "display_data"
    }
   ],
   "source": [
    "import plotly.graph_objs as go\n",
    "\n",
    "# Crear la figura\n",
    "fig = go.Figure()\n",
    "\n",
    "# Agregar el gráfico de caja y bigotes\n",
    "fig.add_trace(go.Box(\n",
    "    x=df['kernel_widths'],\n",
    "    y=df['F1_Score_Media'],\n",
    "    name='Box Plot',\n",
    "    boxpoints='all'\n",
    "))\n",
    "\n",
    "# Actualizar el diseño\n",
    "fig.update_layout(\n",
    "    title='Comparación de F1 Score Media por Anchura de Kernel',\n",
    "    xaxis=dict(title='Anchura del Kernel'),\n",
    "    yaxis=dict(title='F1 Score Media'),\n",
    "    legend=dict(yanchor=\"top\", y=0.99, xanchor=\"left\", x=0.01)\n",
    ")\n",
    "\n",
    "# Mostrar la figura\n",
    "fig.show()"
   ]
  },
  {
   "cell_type": "markdown",
   "metadata": {},
   "source": [
    "# Test ANOVA (one-way) (kernel_widths)"
   ]
  },
  {
   "cell_type": "code",
   "execution_count": 5,
   "metadata": {},
   "outputs": [
    {
     "data": {
      "image/png": "[encoded data removed]",
      "text/plain": [
       "<Figure size 800x700 with 4 Axes>"
      ]
     },
     "metadata": {},
     "output_type": "display_data"
    }
   ],
   "source": [
    "import pingouin as pg\n",
    "\n",
    "# Gráficos qqplotpara comprobar normalidad\n",
    "# ==============================================================================\n",
    "fig, axs = plt.subplots(2, 2, figsize=(8, 7))\n",
    "pg.qqplot(df.loc[df.kernel_widths=='50_cte', 'F1_Score_Media'], dist='norm', ax=axs[0,0])\n",
    "axs[0,0].set_title('50_cte')\n",
    "pg.qqplot(df.loc[df.kernel_widths=='20_cte', 'F1_Score_Media'], dist='norm', ax=axs[0,1])\n",
    "axs[0,1].set_title('20_cte')\n",
    "pg.qqplot(df.loc[df.kernel_widths=='5_cte', 'F1_Score_Media'], dist='norm', ax=axs[1,0])\n",
    "axs[1,0].set_title('5_cte')\n",
    "pg.qqplot(df.loc[df.kernel_widths=='ASC', 'F1_Score_Media'], dist='norm', ax=axs[1,1])\n",
    "axs[1,1].set_title('ASC')\n",
    "plt.tight_layout()"
   ]
  },
  {
   "cell_type": "code",
   "execution_count": 6,
   "metadata": {},
   "outputs": [
    {
     "data": {
      "text/html": [
       "<div>\n",
       "<style scoped>\n",
       "    .dataframe tbody tr th:only-of-type {\n",
       "        vertical-align: middle;\n",
       "    }\n",
       "\n",
       "    .dataframe tbody tr th {\n",
       "        vertical-align: top;\n",
       "    }\n",
       "\n",
       "    .dataframe thead th {\n",
       "        text-align: right;\n",
       "    }\n",
       "</style>\n",
       "<table border=\"1\" class=\"dataframe\">\n",
       "  <thead>\n",
       "    <tr style=\"text-align: right;\">\n",
       "      <th></th>\n",
       "      <th>W</th>\n",
       "      <th>pval</th>\n",
       "      <th>normal</th>\n",
       "    </tr>\n",
       "    <tr>\n",
       "      <th>kernel_widths</th>\n",
       "      <th></th>\n",
       "      <th></th>\n",
       "      <th></th>\n",
       "    </tr>\n",
       "  </thead>\n",
       "  <tbody>\n",
       "    <tr>\n",
       "      <th>50_cte</th>\n",
       "      <td>0.956951</td>\n",
       "      <td>0.004058</td>\n",
       "      <td>False</td>\n",
       "    </tr>\n",
       "    <tr>\n",
       "      <th>20_cte</th>\n",
       "      <td>0.972844</td>\n",
       "      <td>0.051575</td>\n",
       "      <td>True</td>\n",
       "    </tr>\n",
       "    <tr>\n",
       "      <th>5_cte</th>\n",
       "      <td>0.968739</td>\n",
       "      <td>0.028843</td>\n",
       "      <td>False</td>\n",
       "    </tr>\n",
       "    <tr>\n",
       "      <th>ASC</th>\n",
       "      <td>0.971406</td>\n",
       "      <td>0.048629</td>\n",
       "      <td>False</td>\n",
       "    </tr>\n",
       "    <tr>\n",
       "      <th>DESC</th>\n",
       "      <td>0.970765</td>\n",
       "      <td>0.063493</td>\n",
       "      <td>True</td>\n",
       "    </tr>\n",
       "  </tbody>\n",
       "</table>\n",
       "</div>"
      ],
      "text/plain": [
       "                      W      pval  normal\n",
       "kernel_widths                            \n",
       "50_cte         0.956951  0.004058   False\n",
       "20_cte         0.972844  0.051575    True\n",
       "5_cte          0.968739  0.028843   False\n",
       "ASC            0.971406  0.048629   False\n",
       "DESC           0.970765  0.063493    True"
      ]
     },
     "execution_count": 6,
     "metadata": {},
     "output_type": "execute_result"
    }
   ],
   "source": [
    "# Test de normalidad Shapiro-Wilk\n",
    "# ==============================================================================\n",
    "pg.normality(data=df, dv='F1_Score_Media', group='kernel_widths')"
   ]
  },
  {
   "cell_type": "code",
   "execution_count": 7,
   "metadata": {},
   "outputs": [
    {
     "data": {
      "text/html": [
       "<div>\n",
       "<style scoped>\n",
       "    .dataframe tbody tr th:only-of-type {\n",
       "        vertical-align: middle;\n",
       "    }\n",
       "\n",
       "    .dataframe tbody tr th {\n",
       "        vertical-align: top;\n",
       "    }\n",
       "\n",
       "    .dataframe thead th {\n",
       "        text-align: right;\n",
       "    }\n",
       "</style>\n",
       "<table border=\"1\" class=\"dataframe\">\n",
       "  <thead>\n",
       "    <tr style=\"text-align: right;\">\n",
       "      <th></th>\n",
       "      <th>W</th>\n",
       "      <th>pval</th>\n",
       "      <th>equal_var</th>\n",
       "    </tr>\n",
       "  </thead>\n",
       "  <tbody>\n",
       "    <tr>\n",
       "      <th>levene</th>\n",
       "      <td>2.837029</td>\n",
       "      <td>0.024109</td>\n",
       "      <td>False</td>\n",
       "    </tr>\n",
       "  </tbody>\n",
       "</table>\n",
       "</div>"
      ],
      "text/plain": [
       "               W      pval  equal_var\n",
       "levene  2.837029  0.024109      False"
      ]
     },
     "execution_count": 7,
     "metadata": {},
     "output_type": "execute_result"
    }
   ],
   "source": [
    "# Test de homocedasticidad\n",
    "# ==============================================================================\n",
    "pg.homoscedasticity(data=df, dv='F1_Score_Media', group='kernel_widths', method='levene')"
   ]
  },
  {
   "cell_type": "code",
   "execution_count": 8,
   "metadata": {},
   "outputs": [
    {
     "data": {
      "text/html": [
       "<div>\n",
       "<style scoped>\n",
       "    .dataframe tbody tr th:only-of-type {\n",
       "        vertical-align: middle;\n",
       "    }\n",
       "\n",
       "    .dataframe tbody tr th {\n",
       "        vertical-align: top;\n",
       "    }\n",
       "\n",
       "    .dataframe thead th {\n",
       "        text-align: right;\n",
       "    }\n",
       "</style>\n",
       "<table border=\"1\" class=\"dataframe\">\n",
       "  <thead>\n",
       "    <tr style=\"text-align: right;\">\n",
       "      <th></th>\n",
       "      <th>Source</th>\n",
       "      <th>SS</th>\n",
       "      <th>DF</th>\n",
       "      <th>MS</th>\n",
       "      <th>F</th>\n",
       "      <th>p-unc</th>\n",
       "      <th>np2</th>\n",
       "    </tr>\n",
       "  </thead>\n",
       "  <tbody>\n",
       "    <tr>\n",
       "      <th>0</th>\n",
       "      <td>kernel_widths</td>\n",
       "      <td>0.011049</td>\n",
       "      <td>4</td>\n",
       "      <td>0.002762</td>\n",
       "      <td>1.136034</td>\n",
       "      <td>0.338888</td>\n",
       "      <td>0.010291</td>\n",
       "    </tr>\n",
       "    <tr>\n",
       "      <th>1</th>\n",
       "      <td>Within</td>\n",
       "      <td>1.062545</td>\n",
       "      <td>437</td>\n",
       "      <td>0.002431</td>\n",
       "      <td>NaN</td>\n",
       "      <td>NaN</td>\n",
       "      <td>NaN</td>\n",
       "    </tr>\n",
       "  </tbody>\n",
       "</table>\n",
       "</div>"
      ],
      "text/plain": [
       "          Source        SS   DF        MS         F     p-unc       np2\n",
       "0  kernel_widths  0.011049    4  0.002762  1.136034  0.338888  0.010291\n",
       "1         Within  1.062545  437  0.002431       NaN       NaN       NaN"
      ]
     },
     "execution_count": 8,
     "metadata": {},
     "output_type": "execute_result"
    }
   ],
   "source": [
    "# Test ANOVA de una vía (One-way ANOVA)\n",
    "# ==============================================================================\n",
    "pg.anova(data=df, dv='F1_Score_Media', between='kernel_widths', detailed=True)"
   ]
  },
  {
   "cell_type": "markdown",
   "metadata": {},
   "source": [
    "### p-valor (p-unc): \n",
    "Un p-valor de 0.338888 es mayor que el umbral común de 0.05. Esto significa que no hay evidencia estadísticamente significativa para rechazar la hipótesis nula. En otras palabras, no hay suficiente evidencia para concluir que hay diferencias significativas en las medias de F1_Score_Media entre los diferentes tamaños de kernel.\n",
    "### Tamaño del efecto (eta squared): \n",
    "El eta cuadrado de 0.010291 indica que solo aproximadamente el 1.03% de la varianza en F1_Score_Media puede ser explicada por las diferencias en el tamaño del kernel. Esto sugiere que el tamaño del kernel tiene un efecto muy pequeño en el rendimiento."
   ]
  },
  {
   "cell_type": "markdown",
   "metadata": {},
   "source": [
    "# Test ANOVA (two-way) (filters and dropouts)"
   ]
  },
  {
   "cell_type": "code",
   "execution_count": 9,
   "metadata": {},
   "outputs": [
    {
     "data": {
      "application/vnd.plotly.v1+json": {
       "config": {
        "plotlyServerURL": "https://plot.ly"
       },
       "data": [
        {
         "alignmentgroup": "True",
         "boxpoints": "all",
         "hovertemplate": "filters=16_cte<br>dropouts=%{x}<br>F1_Score_Media=%{y}<extra></extra>",
         "legendgroup": "16_cte",
         "marker": {
          "color": "#636efa"
         },
         "name": "16_cte",
         "notched": false,
         "offsetgroup": "16_cte",
         "orientation": "v",
         "showlegend": true,
         "type": "box",
         "x": [
          "0.5_cte",
          "0.3_cte",
          "0.5_cte",
          "0.3_cte",
          "0.5_cte",
          "0.3_cte",
          "0.5_cte",
          "0.3_cte",
          "0.5_cte",
          "0.3_cte",
          "0.5_cte",
          "0.3_cte",
          "0.5_cte",
          "0.3_cte",
          "0.5_cte",
          "0.3_cte",
          "0.5_cte",
          "0.3_cte",
          "0.5_cte",
          "0.3_cte",
          "0.5_cte",
          "0.3_cte",
          "0.5_cte",
          "0.3_cte",
          "0.5_cte",
          "0.3_cte",
          "0.5_cte",
          "0.3_cte",
          "0.5_cte",
          "0.3_cte",
          "0.5_cte",
          "0.3_cte",
          "0.5_cte",
          "0.3_cte",
          "0.5_cte",
          "0.3_cte",
          "0.5_cte",
          "0.3_cte",
          "0.5_cte",
          "0.3_cte",
          "0.5_cte",
          "0.3_cte",
          "0.5_cte",
          "0.3_cte",
          "0.5_cte",
          "0.3_cte",
          "0.5_cte",
          "0.3_cte",
          "0.5_cte",
          "0.3_cte",
          "0.5_cte",
          "0.3_cte",
          "0.5_cte",
          "0.3_cte",
          "0.5_cte",
          "0.3_cte",
          "0.5_cte",
          "0.3_cte",
          "0.5_cte",
          "0.3_cte",
          "0.5_cte",
          "0.3_cte",
          "0.5_cte",
          "0.3_cte",
          "0.5_cte",
          "0.3_cte",
          "0.5_cte",
          "0.3_cte",
          "0.5_cte",
          "0.3_cte",
          "0.5_cte",
          "0.3_cte",
          "0.5_cte",
          "0.3_cte",
          "0.5_cte",
          "0.3_cte",
          "0.5_cte",
          "0.3_cte",
          "0.5_cte",
          "0.3_cte",
          "0.5_cte",
          "0.3_cte",
          "0.5_cte",
          "0.3_cte",
          "0.5_cte",
          "0.3_cte",
          "0.5_cte",
          "0.3_cte",
          "0.5_cte",
          "0.3_cte",
          "0.5_cte",
          "0.3_cte",
          "0.5_cte",
          "0.3_cte",
          "0.5_cte",
          "0.3_cte",
          "0.5_cte",
          "0.3_cte",
          "0.5_cte",
          "0.3_cte",
          "0.5_cte",
          "0.3_cte",
          "0.5_cte",
          "0.3_cte",
          "0.5_cte",
          "0.3_cte",
          "0.5_cte",
          "0.3_cte",
          "0.5_cte",
          "0.3_cte",
          "0.5_cte",
          "0.3_cte",
          "0.5_cte",
          "0.3_cte",
          "0.5_cte",
          "0.3_cte",
          "0.5_cte",
          "0.3_cte",
          "0.5_cte",
          "0.3_cte",
          "0.5_cte",
          "0.3_cte",
          "0.5_cte",
          "0.3_cte",
          "0.5_cte",
          "0.3_cte",
          "0.5_cte",
          "0.3_cte",
          "0.5_cte",
          "0.3_cte",
          "0.5_cte",
          "0.3_cte",
          "0.5_cte",
          "0.3_cte",
          "0.5_cte",
          "0.3_cte",
          "0.5_cte",
          "0.3_cte",
          "0.5_cte",
          "0.3_cte",
          "0.5_cte",
          "0.3_cte",
          "0.5_cte",
          "0.3_cte",
          "0.5_cte",
          "0.3_cte",
          "0.5_cte",
          "0.3_cte",
          "0.5_cte",
          "0.3_cte",
          "0.5_cte",
          "0.3_cte",
          "0.5_cte",
          "0.3_cte",
          "0.5_cte",
          "0.5_cte",
          "0.3_cte",
          "0.5_cte",
          "0.3_cte",
          "0.5_cte",
          "0.3_cte",
          "0.5_cte",
          "0.3_cte",
          "0.5_cte",
          "0.3_cte",
          "0.5_cte",
          "0.3_cte",
          "0.5_cte",
          "0.3_cte",
          "0.5_cte",
          "0.3_cte",
          "0.5_cte",
          "0.3_cte",
          "0.5_cte",
          "0.3_cte",
          "0.5_cte",
          "0.3_cte",
          "0.5_cte",
          "0.3_cte",
          "0.5_cte",
          "0.3_cte",
          "0.5_cte",
          "0.3_cte",
          "0.5_cte",
          "0.3_cte",
          "0.5_cte",
          "0.3_cte",
          "0.5_cte",
          "0.3_cte",
          "0.5_cte",
          "0.3_cte",
          "0.5_cte",
          "0.3_cte",
          "0.5_cte",
          "0.3_cte",
          "0.5_cte",
          "0.3_cte",
          "0.5_cte",
          "0.3_cte",
          "0.5_cte",
          "0.3_cte",
          "0.5_cte",
          "0.3_cte",
          "0.5_cte",
          "0.3_cte",
          "0.5_cte",
          "0.3_cte",
          "0.5_cte",
          "0.3_cte",
          "0.5_cte",
          "0.3_cte",
          "0.5_cte",
          "0.3_cte",
          "0.5_cte",
          "0.3_cte",
          "0.5_cte",
          "0.3_cte",
          "0.5_cte",
          "0.3_cte",
          "0.5_cte",
          "0.3_cte",
          "0.5_cte",
          "0.3_cte"
         ],
         "x0": " ",
         "xaxis": "x",
         "y": [
          0.9047064919820172,
          0.9035331365864694,
          0.90371667316185,
          0.9045175206527276,
          0.909683416435962,
          0.9123479645321791,
          0.9008632233202108,
          0.9108845498635192,
          0.927354218632198,
          0.9165164760439032,
          0.9352790284375893,
          0.9301235985529516,
          0.9356322209333852,
          0.9272820815449284,
          0.9159140237183072,
          0.9339891378093286,
          0.9257993523584104,
          0.9286747774567372,
          0.9217092195680576,
          0.905808378133472,
          0.8976728400588719,
          0.8826091445568703,
          0.8805833317836571,
          0.8930695556762035,
          0.871591262170169,
          0.8827463983138294,
          0.8705523501939939,
          0.8846857182417572,
          0.8864864408733009,
          0.8883892401802299,
          0.9309193991807884,
          0.9141966086467672,
          0.8549461577581896,
          0.8579579163102682,
          0.8865224748145804,
          0.8875468112191807,
          0.919181664198898,
          0.9242845266346617,
          0.91263980451926,
          0.8920323662383174,
          0.8386047731376213,
          0.797449656624785,
          0.8402230176277822,
          0.8362946587401828,
          0.8289100193486776,
          0.8483528657999782,
          0.8459018233569257,
          0.7867256538796761,
          0.8476695964525305,
          0.8259283177057261,
          0.8456530781693314,
          0.8270615738839878,
          0.8315702991355919,
          0.8080263495035775,
          0.8146372729459352,
          0.8195453416981974,
          0.8378316707722082,
          0.8241469842205589,
          0.8459828665736481,
          0.7945889624510031,
          0.9190745785554688,
          0.9096375931799652,
          0.9220488590240272,
          0.9318605704606766,
          0.9214739825008984,
          0.9303738178059596,
          0.9306545915232176,
          0.9324530493267724,
          0.9329001552606352,
          0.935522544611156,
          0.9504576645515828,
          0.9501045553368022,
          0.9447824826519932,
          0.9507350748859978,
          0.9512205058773904,
          0.9395142662092104,
          0.9433910966780328,
          0.9410577005857174,
          0.94882253761808,
          0.9509990483769764,
          0.9412378895003832,
          0.8709248250298453,
          0.9308534503478076,
          0.9022353002275846,
          0.9299065624225912,
          0.8925318787703244,
          0.8697541585441817,
          0.9369248371417576,
          0.8955101271818691,
          0.8787631479180557,
          0.9332791402988188,
          0.9381902016578878,
          0.936799553845071,
          0.9129176319919564,
          0.9426035354941976,
          0.9323058814058808,
          0.8534725638458396,
          0.8309693071829668,
          0.8591952232164346,
          0.8750456431993744,
          0.8498343609339927,
          0.8413747126921035,
          0.8503759016798523,
          0.8259236264987889,
          0.8540198611266936,
          0.8440604362646507,
          0.8418209056282967,
          0.8212469769547418,
          0.8495358845128397,
          0.8322414583737145,
          0.861950992297284,
          0.8419633984597894,
          0.8468088397673078,
          0.8420168843804352,
          0.8580921367497278,
          0.8292068307023049,
          0.8969986588837809,
          0.8954252881715636,
          0.9080520528100932,
          0.8871046744743789,
          0.9056566930170032,
          0.8932956648633695,
          0.8924260570293941,
          0.8985296676774418,
          0.8988426092043162,
          0.9068234291681898,
          0.9069402803193788,
          0.9388682790569578,
          0.9162053111016948,
          0.8657541734492475,
          0.8686418924293878,
          0.9233645387832012,
          0.9190909618477318,
          0.8902237450746872,
          0.8983951218063967,
          0.911311001232937,
          0.8862106766451783,
          0.9089550403563472,
          0.873483175493479,
          0.8808140401605585,
          0.9069449800428456,
          0.8748707330559995,
          0.9109217031420824,
          0.8721853709433453,
          0.8410830495210962,
          0.8802515372541222,
          0.922866022567018,
          0.8155924721500085,
          0.8972902241939346,
          0.8489138716457582,
          0.8775706324981636,
          0.9167948273073204,
          0.831227722657751,
          0.8837241278717527,
          0.893051998425832,
          0.8069594823999912,
          0.7960251365981338,
          0.8168820589005812,
          0.7788982753107442,
          0.7890416714614485,
          0.8130478036628144,
          0.8008968705818996,
          0.7886973920893879,
          0.7918317440122012,
          0.804354548638871,
          0.8147058329191741,
          0.8397418133118332,
          0.8709251516348112,
          0.881045339069771,
          0.9031968514584237,
          0.890887589495232,
          0.9169154157732622,
          0.8843742883755742,
          0.8855496649880022,
          0.886360610052341,
          0.9074062081210196,
          0.900568057609866,
          0.9089999673224216,
          0.8969751310290738,
          0.8809757649723977,
          0.8859656549653999,
          0.8923842831155906,
          0.8781803215783804,
          0.8979243510567768,
          0.8904629988463297,
          0.9126604659215464,
          0.896024770470256,
          0.8272222553225477,
          0.8679325668795874,
          0.8730959531306307,
          0.8006158782721811,
          0.8418935096015326,
          0.8457088107036952,
          0.801125451607268,
          0.8539454930889658,
          0.8345416117471105,
          0.8085722652771153,
          0.87989811979342,
          0.8332434509466221,
          0.8646613548519031,
          0.8608007053048193,
          0.8723736054541991,
          0.839081056972778,
          0.8527484695093996,
          0.8375513549916604,
          0.794797744310942,
          0.8058553203463521,
          0.8352112591643928,
          0.8405129319713882,
          0.8444134288510068,
          0.8244814988961298,
          0.8786517452938989,
          0.8722580799181011,
          0.8312964201042854,
          0.7576704838902785,
          0.8216096738378857,
          0.792334895668328,
          0.8235578766525407,
          0.7672857598761587,
          0.8234749461383547,
          0.7525529248501687,
          0.8190955166752444,
          0.7703848173491026
         ],
         "y0": " ",
         "yaxis": "y"
        },
        {
         "alignmentgroup": "True",
         "boxpoints": "all",
         "hovertemplate": "filters=32_cte<br>dropouts=%{x}<br>F1_Score_Media=%{y}<extra></extra>",
         "legendgroup": "32_cte",
         "marker": {
          "color": "#EF553B"
         },
         "name": "32_cte",
         "notched": false,
         "offsetgroup": "32_cte",
         "orientation": "v",
         "showlegend": true,
         "type": "box",
         "x": [
          "0.5_cte",
          "0.3_cte",
          "0.5_cte",
          "0.3_cte",
          "0.5_cte",
          "0.3_cte",
          "0.5_cte",
          "0.3_cte",
          "0.5_cte",
          "0.3_cte",
          "0.5_cte",
          "0.3_cte",
          "0.5_cte",
          "0.3_cte",
          "0.5_cte",
          "0.3_cte",
          "0.5_cte",
          "0.3_cte",
          "0.5_cte",
          "0.3_cte",
          "0.5_cte",
          "0.3_cte",
          "0.5_cte",
          "0.3_cte",
          "0.5_cte",
          "0.3_cte",
          "0.5_cte",
          "0.3_cte",
          "0.5_cte",
          "0.3_cte",
          "0.5_cte",
          "0.3_cte",
          "0.5_cte",
          "0.3_cte",
          "0.5_cte",
          "0.3_cte",
          "0.5_cte",
          "0.3_cte",
          "0.5_cte",
          "0.5_cte",
          "0.3_cte",
          "0.5_cte",
          "0.3_cte",
          "0.5_cte",
          "0.3_cte",
          "0.5_cte",
          "0.3_cte",
          "0.5_cte",
          "0.3_cte",
          "0.5_cte",
          "0.3_cte",
          "0.5_cte",
          "0.3_cte",
          "0.5_cte",
          "0.3_cte",
          "0.5_cte",
          "0.3_cte",
          "0.5_cte",
          "0.3_cte",
          "0.5_cte",
          "0.3_cte",
          "0.5_cte",
          "0.3_cte",
          "0.5_cte",
          "0.3_cte",
          "0.5_cte",
          "0.3_cte",
          "0.5_cte",
          "0.3_cte",
          "0.5_cte",
          "0.3_cte",
          "0.5_cte",
          "0.3_cte",
          "0.5_cte",
          "0.3_cte",
          "0.5_cte",
          "0.3_cte",
          "0.5_cte",
          "0.3_cte",
          "0.5_cte",
          "0.3_cte",
          "0.5_cte",
          "0.3_cte",
          "0.5_cte",
          "0.3_cte",
          "0.5_cte",
          "0.3_cte",
          "0.5_cte",
          "0.3_cte",
          "0.5_cte",
          "0.3_cte",
          "0.5_cte",
          "0.3_cte",
          "0.5_cte",
          "0.3_cte",
          "0.5_cte",
          "0.3_cte",
          "0.5_cte",
          "0.3_cte",
          "0.5_cte",
          "0.3_cte",
          "0.5_cte",
          "0.3_cte",
          "0.5_cte",
          "0.3_cte",
          "0.5_cte",
          "0.3_cte",
          "0.5_cte",
          "0.3_cte",
          "0.5_cte",
          "0.3_cte",
          "0.5_cte",
          "0.3_cte",
          "0.5_cte",
          "0.3_cte",
          "0.5_cte",
          "0.3_cte",
          "0.5_cte",
          "0.3_cte",
          "0.5_cte",
          "0.3_cte",
          "0.5_cte",
          "0.3_cte",
          "0.5_cte",
          "0.3_cte",
          "0.5_cte",
          "0.3_cte",
          "0.5_cte",
          "0.3_cte",
          "0.5_cte",
          "0.3_cte",
          "0.5_cte",
          "0.3_cte",
          "0.5_cte",
          "0.3_cte",
          "0.5_cte",
          "0.3_cte",
          "0.5_cte",
          "0.3_cte",
          "0.5_cte",
          "0.3_cte",
          "0.5_cte",
          "0.3_cte",
          "0.5_cte",
          "0.3_cte",
          "0.5_cte",
          "0.3_cte",
          "0.5_cte",
          "0.3_cte",
          "0.5_cte",
          "0.3_cte",
          "0.5_cte",
          "0.3_cte",
          "0.5_cte",
          "0.3_cte",
          "0.5_cte",
          "0.3_cte",
          "0.5_cte",
          "0.3_cte",
          "0.5_cte",
          "0.3_cte",
          "0.5_cte",
          "0.3_cte",
          "0.5_cte",
          "0.3_cte",
          "0.5_cte",
          "0.3_cte",
          "0.5_cte",
          "0.3_cte",
          "0.5_cte",
          "0.3_cte",
          "0.5_cte",
          "0.3_cte",
          "0.5_cte",
          "0.3_cte",
          "0.5_cte",
          "0.3_cte",
          "0.5_cte",
          "0.3_cte",
          "0.5_cte",
          "0.3_cte",
          "0.5_cte",
          "0.3_cte",
          "0.5_cte",
          "0.3_cte",
          "0.5_cte",
          "0.3_cte",
          "0.5_cte",
          "0.3_cte",
          "0.5_cte",
          "0.3_cte",
          "0.5_cte",
          "0.3_cte",
          "0.5_cte",
          "0.3_cte",
          "0.5_cte",
          "0.3_cte",
          "0.5_cte",
          "0.3_cte",
          "0.5_cte",
          "0.3_cte",
          "0.5_cte",
          "0.3_cte",
          "0.5_cte",
          "0.3_cte",
          "0.5_cte",
          "0.3_cte",
          "0.5_cte",
          "0.3_cte",
          "0.5_cte",
          "0.3_cte",
          "0.5_cte",
          "0.3_cte",
          "0.5_cte",
          "0.3_cte",
          "0.5_cte",
          "0.3_cte",
          "0.5_cte",
          "0.3_cte"
         ],
         "x0": " ",
         "xaxis": "x",
         "y": [
          0.8996535227216441,
          0.9017273916654334,
          0.9134284686389078,
          0.9135829155711532,
          0.940861714478747,
          0.9329220816993988,
          0.914888650333188,
          0.9175372852255722,
          0.928280833604181,
          0.914965629440376,
          0.921312580590969,
          0.9145110553905764,
          0.94661612321042,
          0.941990957062706,
          0.9550994065168048,
          0.9319760155891892,
          0.9359449219530016,
          0.9349290926423182,
          0.9488419011643976,
          0.9458573205717044,
          0.8691489367907153,
          0.8636417488979308,
          0.9319950691519052,
          0.8848732422068751,
          0.9093648854096944,
          0.9323079556687504,
          0.8952128023392457,
          0.9174844814611512,
          0.8638850561419854,
          0.8827031632142159,
          0.8582191344225716,
          0.9049569789138024,
          0.8239336204951603,
          0.8833610912574282,
          0.8992944177960771,
          0.877781027996759,
          0.8638785416769907,
          0.916597468809551,
          0.8867822565836869,
          0.8409923208290729,
          0.795781513006263,
          0.8494137169618702,
          0.8353492496330459,
          0.8580624688429817,
          0.8417455848006749,
          0.8436422592241286,
          0.844841744055779,
          0.8470825909358197,
          0.8268660528535706,
          0.8428459253676688,
          0.8523177872350779,
          0.8470403372717703,
          0.8007191723598949,
          0.8429519607662067,
          0.835547894754729,
          0.8382240838623625,
          0.8536640077675319,
          0.8391551863221904,
          0.8148872377847582,
          0.9167155457527656,
          0.9134055617795608,
          0.925380330505192,
          0.9318183743743518,
          0.9398281340325187,
          0.9434904718606316,
          0.93378041973411,
          0.9318912617110788,
          0.940538315415347,
          0.9275607390173308,
          0.9613101487961389,
          0.958830461636568,
          0.9537689865223266,
          0.9386601599315324,
          0.9531213155190992,
          0.9475213939546206,
          0.9508328740846796,
          0.9452953382383332,
          0.951049144829357,
          0.9497907295932352,
          0.9036024832602167,
          0.934397130329794,
          0.9474798745659748,
          0.8950543805653914,
          0.9338957528006676,
          0.9298473172887864,
          0.9460614987576496,
          0.9432072237948036,
          0.9045102741717436,
          0.9415052076318378,
          0.9466531742341036,
          0.9511886495225552,
          0.9555516506390804,
          0.94993352735074,
          0.8367839064234441,
          0.8346147542440905,
          0.8754499988392128,
          0.8094866041766771,
          0.8720074182901948,
          0.861801108091134,
          0.8806812911071187,
          0.8792767306820859,
          0.8662075849709098,
          0.824320798919016,
          0.8466428520357863,
          0.8363287717353959,
          0.858520380094682,
          0.8175732967320307,
          0.8664235749534427,
          0.8669138941042983,
          0.8529805728531171,
          0.813021268021698,
          0.8566238196186327,
          0.8373134156464022,
          0.8900657598547004,
          0.8904331916935087,
          0.9135324208965672,
          0.9051487877587872,
          0.9198975815965392,
          0.9150431326203188,
          0.8999013863968481,
          0.9091860344662814,
          0.9026195715693188,
          0.904718168686144,
          0.8965406058372899,
          0.875181267562274,
          0.9063818144535886,
          0.8952063077945644,
          0.9066487886913068,
          0.9389144936066522,
          0.8962942502803297,
          0.8734449242332485,
          0.9062953645328928,
          0.8993343725919805,
          0.8650154717708911,
          0.8184996638323946,
          0.8547117840923856,
          0.8286193903482237,
          0.8742641699420487,
          0.8718676454472477,
          0.8338816329980517,
          0.8739475552365087,
          0.8020408069663303,
          0.8612770776309121,
          0.8588543061919797,
          0.8094693019609823,
          0.853156751328013,
          0.8357593331328357,
          0.8774246772754927,
          0.8738045995679591,
          0.8469430895238276,
          0.848076787266845,
          0.8012340972285386,
          0.8027880437833774,
          0.7948728289400688,
          0.8322476739829248,
          0.8276067993328852,
          0.7943009790946516,
          0.8034196864415464,
          0.8093789754287706,
          0.7993370445623357,
          0.8045581595957545,
          0.7797051111265048,
          0.7585730299920144,
          0.848978660737985,
          0.8218539636622912,
          0.9065164002288142,
          0.9006408514619382,
          0.8701620072944654,
          0.9076405724546348,
          0.8842226515708057,
          0.8628416862752821,
          0.8963512599179179,
          0.9081005674595134,
          0.9051209175430188,
          0.9094647414535926,
          0.8913900440620979,
          0.8974746179699028,
          0.8968246608587266,
          0.902479805946566,
          0.9021704000933864,
          0.8940041598333301,
          0.8920888603936763,
          0.9082298839041246,
          0.8919142312574578,
          0.8445052844057428,
          0.8355427312495572,
          0.861680887989716,
          0.81540417317044,
          0.862896421986616,
          0.8744664950215799,
          0.8535116119636567,
          0.7726704676751407,
          0.7536448288521579,
          0.7869929662514383,
          0.8396099733180874,
          0.8055890037014092,
          0.8406528568068388,
          0.8346723991415789,
          0.8331366982754339,
          0.7853356824308642,
          0.8625380406478633,
          0.6742606375415864,
          0.7240577928948695,
          0.7800704601496976,
          0.7819642480865886,
          0.9115247158573442,
          0.9132400081533072,
          0.8006798302385785,
          0.8134738759420728,
          0.8186722057818011,
          0.7780450749967903,
          0.8221902428644353,
          0.7572114462372949,
          0.8278127120793803,
          0.7769031803011217,
          0.8517861053208324,
          0.8068654734004959,
          0.833452933934069,
          0.7992094220100944
         ],
         "y0": " ",
         "yaxis": "y"
        }
       ],
       "layout": {
        "boxmode": "group",
        "legend": {
         "title": {
          "text": "filters"
         },
         "tracegroupgap": 0
        },
        "margin": {
         "t": 60
        },
        "template": {
         "data": {
          "bar": [
           {
            "error_x": {
             "color": "#2a3f5f"
            },
            "error_y": {
             "color": "#2a3f5f"
            },
            "marker": {
             "line": {
              "color": "#E5ECF6",
              "width": 0.5
             },
             "pattern": {
              "fillmode": "overlay",
              "size": 10,
              "solidity": 0.2
             }
            },
            "type": "bar"
           }
          ],
          "barpolar": [
           {
            "marker": {
             "line": {
              "color": "#E5ECF6",
              "width": 0.5
             },
             "pattern": {
              "fillmode": "overlay",
              "size": 10,
              "solidity": 0.2
             }
            },
            "type": "barpolar"
           }
          ],
          "carpet": [
           {
            "aaxis": {
             "endlinecolor": "#2a3f5f",
             "gridcolor": "white",
             "linecolor": "white",
             "minorgridcolor": "white",
             "startlinecolor": "#2a3f5f"
            },
            "baxis": {
             "endlinecolor": "#2a3f5f",
             "gridcolor": "white",
             "linecolor": "white",
             "minorgridcolor": "white",
             "startlinecolor": "#2a3f5f"
            },
            "type": "carpet"
           }
          ],
          "choropleth": [
           {
            "colorbar": {
             "outlinewidth": 0,
             "ticks": ""
            },
            "type": "choropleth"
           }
          ],
          "contour": [
           {
            "colorbar": {
             "outlinewidth": 0,
             "ticks": ""
            },
            "colorscale": [
             [
              0,
              "#0d0887"
             ],
             [
              0.1111111111111111,
              "#46039f"
             ],
             [
              0.2222222222222222,
              "#7201a8"
             ],
             [
              0.3333333333333333,
              "#9c179e"
             ],
             [
              0.4444444444444444,
              "#bd3786"
             ],
             [
              0.5555555555555556,
              "#d8576b"
             ],
             [
              0.6666666666666666,
              "#ed7953"
             ],
             [
              0.7777777777777778,
              "#fb9f3a"
             ],
             [
              0.8888888888888888,
              "#fdca26"
             ],
             [
              1,
              "#f0f921"
             ]
            ],
            "type": "contour"
           }
          ],
          "contourcarpet": [
           {
            "colorbar": {
             "outlinewidth": 0,
             "ticks": ""
            },
            "type": "contourcarpet"
           }
          ],
          "heatmap": [
           {
            "colorbar": {
             "outlinewidth": 0,
             "ticks": ""
            },
            "colorscale": [
             [
              0,
              "#0d0887"
             ],
             [
              0.1111111111111111,
              "#46039f"
             ],
             [
              0.2222222222222222,
              "#7201a8"
             ],
             [
              0.3333333333333333,
              "#9c179e"
             ],
             [
              0.4444444444444444,
              "#bd3786"
             ],
             [
              0.5555555555555556,
              "#d8576b"
             ],
             [
              0.6666666666666666,
              "#ed7953"
             ],
             [
              0.7777777777777778,
              "#fb9f3a"
             ],
             [
              0.8888888888888888,
              "#fdca26"
             ],
             [
              1,
              "#f0f921"
             ]
            ],
            "type": "heatmap"
           }
          ],
          "heatmapgl": [
           {
            "colorbar": {
             "outlinewidth": 0,
             "ticks": ""
            },
            "colorscale": [
             [
              0,
              "#0d0887"
             ],
             [
              0.1111111111111111,
              "#46039f"
             ],
             [
              0.2222222222222222,
              "#7201a8"
             ],
             [
              0.3333333333333333,
              "#9c179e"
             ],
             [
              0.4444444444444444,
              "#bd3786"
             ],
             [
              0.5555555555555556,
              "#d8576b"
             ],
             [
              0.6666666666666666,
              "#ed7953"
             ],
             [
              0.7777777777777778,
              "#fb9f3a"
             ],
             [
              0.8888888888888888,
              "#fdca26"
             ],
             [
              1,
              "#f0f921"
             ]
            ],
            "type": "heatmapgl"
           }
          ],
          "histogram": [
           {
            "marker": {
             "pattern": {
              "fillmode": "overlay",
              "size": 10,
              "solidity": 0.2
             }
            },
            "type": "histogram"
           }
          ],
          "histogram2d": [
           {
            "colorbar": {
             "outlinewidth": 0,
             "ticks": ""
            },
            "colorscale": [
             [
              0,
              "#0d0887"
             ],
             [
              0.1111111111111111,
              "#46039f"
             ],
             [
              0.2222222222222222,
              "#7201a8"
             ],
             [
              0.3333333333333333,
              "#9c179e"
             ],
             [
              0.4444444444444444,
              "#bd3786"
             ],
             [
              0.5555555555555556,
              "#d8576b"
             ],
             [
              0.6666666666666666,
              "#ed7953"
             ],
             [
              0.7777777777777778,
              "#fb9f3a"
             ],
             [
              0.8888888888888888,
              "#fdca26"
             ],
             [
              1,
              "#f0f921"
             ]
            ],
            "type": "histogram2d"
           }
          ],
          "histogram2dcontour": [
           {
            "colorbar": {
             "outlinewidth": 0,
             "ticks": ""
            },
            "colorscale": [
             [
              0,
              "#0d0887"
             ],
             [
              0.1111111111111111,
              "#46039f"
             ],
             [
              0.2222222222222222,
              "#7201a8"
             ],
             [
              0.3333333333333333,
              "#9c179e"
             ],
             [
              0.4444444444444444,
              "#bd3786"
             ],
             [
              0.5555555555555556,
              "#d8576b"
             ],
             [
              0.6666666666666666,
              "#ed7953"
             ],
             [
              0.7777777777777778,
              "#fb9f3a"
             ],
             [
              0.8888888888888888,
              "#fdca26"
             ],
             [
              1,
              "#f0f921"
             ]
            ],
            "type": "histogram2dcontour"
           }
          ],
          "mesh3d": [
           {
            "colorbar": {
             "outlinewidth": 0,
             "ticks": ""
            },
            "type": "mesh3d"
           }
          ],
          "parcoords": [
           {
            "line": {
             "colorbar": {
              "outlinewidth": 0,
              "ticks": ""
             }
            },
            "type": "parcoords"
           }
          ],
          "pie": [
           {
            "automargin": true,
            "type": "pie"
           }
          ],
          "scatter": [
           {
            "fillpattern": {
             "fillmode": "overlay",
             "size": 10,
             "solidity": 0.2
            },
            "type": "scatter"
           }
          ],
          "scatter3d": [
           {
            "line": {
             "colorbar": {
              "outlinewidth": 0,
              "ticks": ""
             }
            },
            "marker": {
             "colorbar": {
              "outlinewidth": 0,
              "ticks": ""
             }
            },
            "type": "scatter3d"
           }
          ],
          "scattercarpet": [
           {
            "marker": {
             "colorbar": {
              "outlinewidth": 0,
              "ticks": ""
             }
            },
            "type": "scattercarpet"
           }
          ],
          "scattergeo": [
           {
            "marker": {
             "colorbar": {
              "outlinewidth": 0,
              "ticks": ""
             }
            },
            "type": "scattergeo"
           }
          ],
          "scattergl": [
           {
            "marker": {
             "colorbar": {
              "outlinewidth": 0,
              "ticks": ""
             }
            },
            "type": "scattergl"
           }
          ],
          "scattermapbox": [
           {
            "marker": {
             "colorbar": {
              "outlinewidth": 0,
              "ticks": ""
             }
            },
            "type": "scattermapbox"
           }
          ],
          "scatterpolar": [
           {
            "marker": {
             "colorbar": {
              "outlinewidth": 0,
              "ticks": ""
             }
            },
            "type": "scatterpolar"
           }
          ],
          "scatterpolargl": [
           {
            "marker": {
             "colorbar": {
              "outlinewidth": 0,
              "ticks": ""
             }
            },
            "type": "scatterpolargl"
           }
          ],
          "scatterternary": [
           {
            "marker": {
             "colorbar": {
              "outlinewidth": 0,
              "ticks": ""
             }
            },
            "type": "scatterternary"
           }
          ],
          "surface": [
           {
            "colorbar": {
             "outlinewidth": 0,
             "ticks": ""
            },
            "colorscale": [
             [
              0,
              "#0d0887"
             ],
             [
              0.1111111111111111,
              "#46039f"
             ],
             [
              0.2222222222222222,
              "#7201a8"
             ],
             [
              0.3333333333333333,
              "#9c179e"
             ],
             [
              0.4444444444444444,
              "#bd3786"
             ],
             [
              0.5555555555555556,
              "#d8576b"
             ],
             [
              0.6666666666666666,
              "#ed7953"
             ],
             [
              0.7777777777777778,
              "#fb9f3a"
             ],
             [
              0.8888888888888888,
              "#fdca26"
             ],
             [
              1,
              "#f0f921"
             ]
            ],
            "type": "surface"
           }
          ],
          "table": [
           {
            "cells": {
             "fill": {
              "color": "#EBF0F8"
             },
             "line": {
              "color": "white"
             }
            },
            "header": {
             "fill": {
              "color": "#C8D4E3"
             },
             "line": {
              "color": "white"
             }
            },
            "type": "table"
           }
          ]
         },
         "layout": {
          "annotationdefaults": {
           "arrowcolor": "#2a3f5f",
           "arrowhead": 0,
           "arrowwidth": 1
          },
          "autotypenumbers": "strict",
          "coloraxis": {
           "colorbar": {
            "outlinewidth": 0,
            "ticks": ""
           }
          },
          "colorscale": {
           "diverging": [
            [
             0,
             "#8e0152"
            ],
            [
             0.1,
             "#c51b7d"
            ],
            [
             0.2,
             "#de77ae"
            ],
            [
             0.3,
             "#f1b6da"
            ],
            [
             0.4,
             "#fde0ef"
            ],
            [
             0.5,
             "#f7f7f7"
            ],
            [
             0.6,
             "#e6f5d0"
            ],
            [
             0.7,
             "#b8e186"
            ],
            [
             0.8,
             "#7fbc41"
            ],
            [
             0.9,
             "#4d9221"
            ],
            [
             1,
             "#276419"
            ]
           ],
           "sequential": [
            [
             0,
             "#0d0887"
            ],
            [
             0.1111111111111111,
             "#46039f"
            ],
            [
             0.2222222222222222,
             "#7201a8"
            ],
            [
             0.3333333333333333,
             "#9c179e"
            ],
            [
             0.4444444444444444,
             "#bd3786"
            ],
            [
             0.5555555555555556,
             "#d8576b"
            ],
            [
             0.6666666666666666,
             "#ed7953"
            ],
            [
             0.7777777777777778,
             "#fb9f3a"
            ],
            [
             0.8888888888888888,
             "#fdca26"
            ],
            [
             1,
             "#f0f921"
            ]
           ],
           "sequentialminus": [
            [
             0,
             "#0d0887"
            ],
            [
             0.1111111111111111,
             "#46039f"
            ],
            [
             0.2222222222222222,
             "#7201a8"
            ],
            [
             0.3333333333333333,
             "#9c179e"
            ],
            [
             0.4444444444444444,
             "#bd3786"
            ],
            [
             0.5555555555555556,
             "#d8576b"
            ],
            [
             0.6666666666666666,
             "#ed7953"
            ],
            [
             0.7777777777777778,
             "#fb9f3a"
            ],
            [
             0.8888888888888888,
             "#fdca26"
            ],
            [
             1,
             "#f0f921"
            ]
           ]
          },
          "colorway": [
           "#636efa",
           "#EF553B",
           "#00cc96",
           "#ab63fa",
           "#FFA15A",
           "#19d3f3",
           "#FF6692",
           "#B6E880",
           "#FF97FF",
           "#FECB52"
          ],
          "font": {
           "color": "#2a3f5f"
          },
          "geo": {
           "bgcolor": "white",
           "lakecolor": "white",
           "landcolor": "#E5ECF6",
           "showlakes": true,
           "showland": true,
           "subunitcolor": "white"
          },
          "hoverlabel": {
           "align": "left"
          },
          "hovermode": "closest",
          "mapbox": {
           "style": "light"
          },
          "paper_bgcolor": "white",
          "plot_bgcolor": "#E5ECF6",
          "polar": {
           "angularaxis": {
            "gridcolor": "white",
            "linecolor": "white",
            "ticks": ""
           },
           "bgcolor": "#E5ECF6",
           "radialaxis": {
            "gridcolor": "white",
            "linecolor": "white",
            "ticks": ""
           }
          },
          "scene": {
           "xaxis": {
            "backgroundcolor": "#E5ECF6",
            "gridcolor": "white",
            "gridwidth": 2,
            "linecolor": "white",
            "showbackground": true,
            "ticks": "",
            "zerolinecolor": "white"
           },
           "yaxis": {
            "backgroundcolor": "#E5ECF6",
            "gridcolor": "white",
            "gridwidth": 2,
            "linecolor": "white",
            "showbackground": true,
            "ticks": "",
            "zerolinecolor": "white"
           },
           "zaxis": {
            "backgroundcolor": "#E5ECF6",
            "gridcolor": "white",
            "gridwidth": 2,
            "linecolor": "white",
            "showbackground": true,
            "ticks": "",
            "zerolinecolor": "white"
           }
          },
          "shapedefaults": {
           "line": {
            "color": "#2a3f5f"
           }
          },
          "ternary": {
           "aaxis": {
            "gridcolor": "white",
            "linecolor": "white",
            "ticks": ""
           },
           "baxis": {
            "gridcolor": "white",
            "linecolor": "white",
            "ticks": ""
           },
           "bgcolor": "#E5ECF6",
           "caxis": {
            "gridcolor": "white",
            "linecolor": "white",
            "ticks": ""
           }
          },
          "title": {
           "x": 0.05
          },
          "xaxis": {
           "automargin": true,
           "gridcolor": "white",
           "linecolor": "white",
           "ticks": "",
           "title": {
            "standoff": 15
           },
           "zerolinecolor": "white",
           "zerolinewidth": 2
          },
          "yaxis": {
           "automargin": true,
           "gridcolor": "white",
           "linecolor": "white",
           "ticks": "",
           "title": {
            "standoff": 15
           },
           "zerolinecolor": "white",
           "zerolinewidth": 2
          }
         }
        },
        "xaxis": {
         "anchor": "y",
         "domain": [
          0,
          1
         ],
         "title": {
          "text": "dropouts"
         }
        },
        "yaxis": {
         "anchor": "x",
         "domain": [
          0,
          1
         ],
         "title": {
          "text": "F1_Score_Media"
         }
        }
       }
      },
      "text/html": [
       "<div>                            <div id=\"d634b730-26c1-4068-b417-6fbea91481a0\" class=\"plotly-graph-div\" style=\"height:525px; width:100%;\"></div>            <script type=\"text/javascript\">                require([\"plotly\"], function(Plotly) {                    window.PLOTLYENV=window.PLOTLYENV || {};                                    if (document.getElementById(\"d634b730-26c1-4068-b417-6fbea91481a0\")) {                    Plotly.newPlot(                        \"d634b730-26c1-4068-b417-6fbea91481a0\",                        [{\"alignmentgroup\":\"True\",\"boxpoints\":\"all\",\"hovertemplate\":\"filters=16_cte\\u003cbr\\u003edropouts=%{x}\\u003cbr\\u003eF1_Score_Media=%{y}\\u003cextra\\u003e\\u003c\\u002fextra\\u003e\",\"legendgroup\":\"16_cte\",\"marker\":{\"color\":\"#636efa\"},\"name\":\"16_cte\",\"notched\":false,\"offsetgroup\":\"16_cte\",\"orientation\":\"v\",\"showlegend\":true,\"x\":[\"0.5_cte\",\"0.3_cte\",\"0.5_cte\",\"0.3_cte\",\"0.5_cte\",\"0.3_cte\",\"0.5_cte\",\"0.3_cte\",\"0.5_cte\",\"0.3_cte\",\"0.5_cte\",\"0.3_cte\",\"0.5_cte\",\"0.3_cte\",\"0.5_cte\",\"0.3_cte\",\"0.5_cte\",\"0.3_cte\",\"0.5_cte\",\"0.3_cte\",\"0.5_cte\",\"0.3_cte\",\"0.5_cte\",\"0.3_cte\",\"0.5_cte\",\"0.3_cte\",\"0.5_cte\",\"0.3_cte\",\"0.5_cte\",\"0.3_cte\",\"0.5_cte\",\"0.3_cte\",\"0.5_cte\",\"0.3_cte\",\"0.5_cte\",\"0.3_cte\",\"0.5_cte\",\"0.3_cte\",\"0.5_cte\",\"0.3_cte\",\"0.5_cte\",\"0.3_cte\",\"0.5_cte\",\"0.3_cte\",\"0.5_cte\",\"0.3_cte\",\"0.5_cte\",\"0.3_cte\",\"0.5_cte\",\"0.3_cte\",\"0.5_cte\",\"0.3_cte\",\"0.5_cte\",\"0.3_cte\",\"0.5_cte\",\"0.3_cte\",\"0.5_cte\",\"0.3_cte\",\"0.5_cte\",\"0.3_cte\",\"0.5_cte\",\"0.3_cte\",\"0.5_cte\",\"0.3_cte\",\"0.5_cte\",\"0.3_cte\",\"0.5_cte\",\"0.3_cte\",\"0.5_cte\",\"0.3_cte\",\"0.5_cte\",\"0.3_cte\",\"0.5_cte\",\"0.3_cte\",\"0.5_cte\",\"0.3_cte\",\"0.5_cte\",\"0.3_cte\",\"0.5_cte\",\"0.3_cte\",\"0.5_cte\",\"0.3_cte\",\"0.5_cte\",\"0.3_cte\",\"0.5_cte\",\"0.3_cte\",\"0.5_cte\",\"0.3_cte\",\"0.5_cte\",\"0.3_cte\",\"0.5_cte\",\"0.3_cte\",\"0.5_cte\",\"0.3_cte\",\"0.5_cte\",\"0.3_cte\",\"0.5_cte\",\"0.3_cte\",\"0.5_cte\",\"0.3_cte\",\"0.5_cte\",\"0.3_cte\",\"0.5_cte\",\"0.3_cte\",\"0.5_cte\",\"0.3_cte\",\"0.5_cte\",\"0.3_cte\",\"0.5_cte\",\"0.3_cte\",\"0.5_cte\",\"0.3_cte\",\"0.5_cte\",\"0.3_cte\",\"0.5_cte\",\"0.3_cte\",\"0.5_cte\",\"0.3_cte\",\"0.5_cte\",\"0.3_cte\",\"0.5_cte\",\"0.3_cte\",\"0.5_cte\",\"0.3_cte\",\"0.5_cte\",\"0.3_cte\",\"0.5_cte\",\"0.3_cte\",\"0.5_cte\",\"0.3_cte\",\"0.5_cte\",\"0.3_cte\",\"0.5_cte\",\"0.3_cte\",\"0.5_cte\",\"0.3_cte\",\"0.5_cte\",\"0.3_cte\",\"0.5_cte\",\"0.3_cte\",\"0.5_cte\",\"0.3_cte\",\"0.5_cte\",\"0.3_cte\",\"0.5_cte\",\"0.3_cte\",\"0.5_cte\",\"0.3_cte\",\"0.5_cte\",\"0.3_cte\",\"0.5_cte\",\"0.3_cte\",\"0.5_cte\",\"0.3_cte\",\"0.5_cte\",\"0.5_cte\",\"0.3_cte\",\"0.5_cte\",\"0.3_cte\",\"0.5_cte\",\"0.3_cte\",\"0.5_cte\",\"0.3_cte\",\"0.5_cte\",\"0.3_cte\",\"0.5_cte\",\"0.3_cte\",\"0.5_cte\",\"0.3_cte\",\"0.5_cte\",\"0.3_cte\",\"0.5_cte\",\"0.3_cte\",\"0.5_cte\",\"0.3_cte\",\"0.5_cte\",\"0.3_cte\",\"0.5_cte\",\"0.3_cte\",\"0.5_cte\",\"0.3_cte\",\"0.5_cte\",\"0.3_cte\",\"0.5_cte\",\"0.3_cte\",\"0.5_cte\",\"0.3_cte\",\"0.5_cte\",\"0.3_cte\",\"0.5_cte\",\"0.3_cte\",\"0.5_cte\",\"0.3_cte\",\"0.5_cte\",\"0.3_cte\",\"0.5_cte\",\"0.3_cte\",\"0.5_cte\",\"0.3_cte\",\"0.5_cte\",\"0.3_cte\",\"0.5_cte\",\"0.3_cte\",\"0.5_cte\",\"0.3_cte\",\"0.5_cte\",\"0.3_cte\",\"0.5_cte\",\"0.3_cte\",\"0.5_cte\",\"0.3_cte\",\"0.5_cte\",\"0.3_cte\",\"0.5_cte\",\"0.3_cte\",\"0.5_cte\",\"0.3_cte\",\"0.5_cte\",\"0.3_cte\",\"0.5_cte\",\"0.3_cte\",\"0.5_cte\",\"0.3_cte\"],\"x0\":\" \",\"xaxis\":\"x\",\"y\":[0.9047064919820172,0.9035331365864694,0.90371667316185,0.9045175206527276,0.909683416435962,0.9123479645321791,0.9008632233202108,0.9108845498635192,0.927354218632198,0.9165164760439032,0.9352790284375893,0.9301235985529516,0.9356322209333852,0.9272820815449284,0.9159140237183072,0.9339891378093286,0.9257993523584104,0.9286747774567372,0.9217092195680576,0.905808378133472,0.8976728400588719,0.8826091445568703,0.8805833317836571,0.8930695556762035,0.871591262170169,0.8827463983138294,0.8705523501939939,0.8846857182417572,0.8864864408733009,0.8883892401802299,0.9309193991807884,0.9141966086467672,0.8549461577581896,0.8579579163102682,0.8865224748145804,0.8875468112191807,0.919181664198898,0.9242845266346617,0.91263980451926,0.8920323662383174,0.8386047731376213,0.797449656624785,0.8402230176277822,0.8362946587401828,0.8289100193486776,0.8483528657999782,0.8459018233569257,0.7867256538796761,0.8476695964525305,0.8259283177057261,0.8456530781693314,0.8270615738839878,0.8315702991355919,0.8080263495035775,0.8146372729459352,0.8195453416981974,0.8378316707722082,0.8241469842205589,0.8459828665736481,0.7945889624510031,0.9190745785554688,0.9096375931799652,0.9220488590240272,0.9318605704606766,0.9214739825008984,0.9303738178059596,0.9306545915232176,0.9324530493267724,0.9329001552606352,0.935522544611156,0.9504576645515828,0.9501045553368022,0.9447824826519932,0.9507350748859978,0.9512205058773904,0.9395142662092104,0.9433910966780328,0.9410577005857174,0.94882253761808,0.9509990483769764,0.9412378895003832,0.8709248250298453,0.9308534503478076,0.9022353002275846,0.9299065624225912,0.8925318787703244,0.8697541585441817,0.9369248371417576,0.8955101271818691,0.8787631479180557,0.9332791402988188,0.9381902016578878,0.936799553845071,0.9129176319919564,0.9426035354941976,0.9323058814058808,0.8534725638458396,0.8309693071829668,0.8591952232164346,0.8750456431993744,0.8498343609339927,0.8413747126921035,0.8503759016798523,0.8259236264987889,0.8540198611266936,0.8440604362646507,0.8418209056282967,0.8212469769547418,0.8495358845128397,0.8322414583737145,0.861950992297284,0.8419633984597894,0.8468088397673078,0.8420168843804352,0.8580921367497278,0.8292068307023049,0.8969986588837809,0.8954252881715636,0.9080520528100932,0.8871046744743789,0.9056566930170032,0.8932956648633695,0.8924260570293941,0.8985296676774418,0.8988426092043162,0.9068234291681898,0.9069402803193788,0.9388682790569578,0.9162053111016948,0.8657541734492475,0.8686418924293878,0.9233645387832012,0.9190909618477318,0.8902237450746872,0.8983951218063967,0.911311001232937,0.8862106766451783,0.9089550403563472,0.873483175493479,0.8808140401605585,0.9069449800428456,0.8748707330559995,0.9109217031420824,0.8721853709433453,0.8410830495210962,0.8802515372541222,0.922866022567018,0.8155924721500085,0.8972902241939346,0.8489138716457582,0.8775706324981636,0.9167948273073204,0.831227722657751,0.8837241278717527,0.893051998425832,0.8069594823999912,0.7960251365981338,0.8168820589005812,0.7788982753107442,0.7890416714614485,0.8130478036628144,0.8008968705818996,0.7886973920893879,0.7918317440122012,0.804354548638871,0.8147058329191741,0.8397418133118332,0.8709251516348112,0.881045339069771,0.9031968514584237,0.890887589495232,0.9169154157732622,0.8843742883755742,0.8855496649880022,0.886360610052341,0.9074062081210196,0.900568057609866,0.9089999673224216,0.8969751310290738,0.8809757649723977,0.8859656549653999,0.8923842831155906,0.8781803215783804,0.8979243510567768,0.8904629988463297,0.9126604659215464,0.896024770470256,0.8272222553225477,0.8679325668795874,0.8730959531306307,0.8006158782721811,0.8418935096015326,0.8457088107036952,0.801125451607268,0.8539454930889658,0.8345416117471105,0.8085722652771153,0.87989811979342,0.8332434509466221,0.8646613548519031,0.8608007053048193,0.8723736054541991,0.839081056972778,0.8527484695093996,0.8375513549916604,0.794797744310942,0.8058553203463521,0.8352112591643928,0.8405129319713882,0.8444134288510068,0.8244814988961298,0.8786517452938989,0.8722580799181011,0.8312964201042854,0.7576704838902785,0.8216096738378857,0.792334895668328,0.8235578766525407,0.7672857598761587,0.8234749461383547,0.7525529248501687,0.8190955166752444,0.7703848173491026],\"y0\":\" \",\"yaxis\":\"y\",\"type\":\"box\"},{\"alignmentgroup\":\"True\",\"boxpoints\":\"all\",\"hovertemplate\":\"filters=32_cte\\u003cbr\\u003edropouts=%{x}\\u003cbr\\u003eF1_Score_Media=%{y}\\u003cextra\\u003e\\u003c\\u002fextra\\u003e\",\"legendgroup\":\"32_cte\",\"marker\":{\"color\":\"#EF553B\"},\"name\":\"32_cte\",\"notched\":false,\"offsetgroup\":\"32_cte\",\"orientation\":\"v\",\"showlegend\":true,\"x\":[\"0.5_cte\",\"0.3_cte\",\"0.5_cte\",\"0.3_cte\",\"0.5_cte\",\"0.3_cte\",\"0.5_cte\",\"0.3_cte\",\"0.5_cte\",\"0.3_cte\",\"0.5_cte\",\"0.3_cte\",\"0.5_cte\",\"0.3_cte\",\"0.5_cte\",\"0.3_cte\",\"0.5_cte\",\"0.3_cte\",\"0.5_cte\",\"0.3_cte\",\"0.5_cte\",\"0.3_cte\",\"0.5_cte\",\"0.3_cte\",\"0.5_cte\",\"0.3_cte\",\"0.5_cte\",\"0.3_cte\",\"0.5_cte\",\"0.3_cte\",\"0.5_cte\",\"0.3_cte\",\"0.5_cte\",\"0.3_cte\",\"0.5_cte\",\"0.3_cte\",\"0.5_cte\",\"0.3_cte\",\"0.5_cte\",\"0.5_cte\",\"0.3_cte\",\"0.5_cte\",\"0.3_cte\",\"0.5_cte\",\"0.3_cte\",\"0.5_cte\",\"0.3_cte\",\"0.5_cte\",\"0.3_cte\",\"0.5_cte\",\"0.3_cte\",\"0.5_cte\",\"0.3_cte\",\"0.5_cte\",\"0.3_cte\",\"0.5_cte\",\"0.3_cte\",\"0.5_cte\",\"0.3_cte\",\"0.5_cte\",\"0.3_cte\",\"0.5_cte\",\"0.3_cte\",\"0.5_cte\",\"0.3_cte\",\"0.5_cte\",\"0.3_cte\",\"0.5_cte\",\"0.3_cte\",\"0.5_cte\",\"0.3_cte\",\"0.5_cte\",\"0.3_cte\",\"0.5_cte\",\"0.3_cte\",\"0.5_cte\",\"0.3_cte\",\"0.5_cte\",\"0.3_cte\",\"0.5_cte\",\"0.3_cte\",\"0.5_cte\",\"0.3_cte\",\"0.5_cte\",\"0.3_cte\",\"0.5_cte\",\"0.3_cte\",\"0.5_cte\",\"0.3_cte\",\"0.5_cte\",\"0.3_cte\",\"0.5_cte\",\"0.3_cte\",\"0.5_cte\",\"0.3_cte\",\"0.5_cte\",\"0.3_cte\",\"0.5_cte\",\"0.3_cte\",\"0.5_cte\",\"0.3_cte\",\"0.5_cte\",\"0.3_cte\",\"0.5_cte\",\"0.3_cte\",\"0.5_cte\",\"0.3_cte\",\"0.5_cte\",\"0.3_cte\",\"0.5_cte\",\"0.3_cte\",\"0.5_cte\",\"0.3_cte\",\"0.5_cte\",\"0.3_cte\",\"0.5_cte\",\"0.3_cte\",\"0.5_cte\",\"0.3_cte\",\"0.5_cte\",\"0.3_cte\",\"0.5_cte\",\"0.3_cte\",\"0.5_cte\",\"0.3_cte\",\"0.5_cte\",\"0.3_cte\",\"0.5_cte\",\"0.3_cte\",\"0.5_cte\",\"0.3_cte\",\"0.5_cte\",\"0.3_cte\",\"0.5_cte\",\"0.3_cte\",\"0.5_cte\",\"0.3_cte\",\"0.5_cte\",\"0.3_cte\",\"0.5_cte\",\"0.3_cte\",\"0.5_cte\",\"0.3_cte\",\"0.5_cte\",\"0.3_cte\",\"0.5_cte\",\"0.3_cte\",\"0.5_cte\",\"0.3_cte\",\"0.5_cte\",\"0.3_cte\",\"0.5_cte\",\"0.3_cte\",\"0.5_cte\",\"0.3_cte\",\"0.5_cte\",\"0.3_cte\",\"0.5_cte\",\"0.3_cte\",\"0.5_cte\",\"0.3_cte\",\"0.5_cte\",\"0.3_cte\",\"0.5_cte\",\"0.3_cte\",\"0.5_cte\",\"0.3_cte\",\"0.5_cte\",\"0.3_cte\",\"0.5_cte\",\"0.3_cte\",\"0.5_cte\",\"0.3_cte\",\"0.5_cte\",\"0.3_cte\",\"0.5_cte\",\"0.3_cte\",\"0.5_cte\",\"0.3_cte\",\"0.5_cte\",\"0.3_cte\",\"0.5_cte\",\"0.3_cte\",\"0.5_cte\",\"0.3_cte\",\"0.5_cte\",\"0.3_cte\",\"0.5_cte\",\"0.3_cte\",\"0.5_cte\",\"0.3_cte\",\"0.5_cte\",\"0.3_cte\",\"0.5_cte\",\"0.3_cte\",\"0.5_cte\",\"0.3_cte\",\"0.5_cte\",\"0.3_cte\",\"0.5_cte\",\"0.3_cte\",\"0.5_cte\",\"0.3_cte\",\"0.5_cte\",\"0.3_cte\",\"0.5_cte\",\"0.3_cte\",\"0.5_cte\",\"0.3_cte\",\"0.5_cte\",\"0.3_cte\",\"0.5_cte\",\"0.3_cte\",\"0.5_cte\",\"0.3_cte\",\"0.5_cte\",\"0.3_cte\",\"0.5_cte\",\"0.3_cte\"],\"x0\":\" \",\"xaxis\":\"x\",\"y\":[0.8996535227216441,0.9017273916654334,0.9134284686389078,0.9135829155711532,0.940861714478747,0.9329220816993988,0.914888650333188,0.9175372852255722,0.928280833604181,0.914965629440376,0.921312580590969,0.9145110553905764,0.94661612321042,0.941990957062706,0.9550994065168048,0.9319760155891892,0.9359449219530016,0.9349290926423182,0.9488419011643976,0.9458573205717044,0.8691489367907153,0.8636417488979308,0.9319950691519052,0.8848732422068751,0.9093648854096944,0.9323079556687504,0.8952128023392457,0.9174844814611512,0.8638850561419854,0.8827031632142159,0.8582191344225716,0.9049569789138024,0.8239336204951603,0.8833610912574282,0.8992944177960771,0.877781027996759,0.8638785416769907,0.916597468809551,0.8867822565836869,0.8409923208290729,0.795781513006263,0.8494137169618702,0.8353492496330459,0.8580624688429817,0.8417455848006749,0.8436422592241286,0.844841744055779,0.8470825909358197,0.8268660528535706,0.8428459253676688,0.8523177872350779,0.8470403372717703,0.8007191723598949,0.8429519607662067,0.835547894754729,0.8382240838623625,0.8536640077675319,0.8391551863221904,0.8148872377847582,0.9167155457527656,0.9134055617795608,0.925380330505192,0.9318183743743518,0.9398281340325187,0.9434904718606316,0.93378041973411,0.9318912617110788,0.940538315415347,0.9275607390173308,0.9613101487961389,0.958830461636568,0.9537689865223266,0.9386601599315324,0.9531213155190992,0.9475213939546206,0.9508328740846796,0.9452953382383332,0.951049144829357,0.9497907295932352,0.9036024832602167,0.934397130329794,0.9474798745659748,0.8950543805653914,0.9338957528006676,0.9298473172887864,0.9460614987576496,0.9432072237948036,0.9045102741717436,0.9415052076318378,0.9466531742341036,0.9511886495225552,0.9555516506390804,0.94993352735074,0.8367839064234441,0.8346147542440905,0.8754499988392128,0.8094866041766771,0.8720074182901948,0.861801108091134,0.8806812911071187,0.8792767306820859,0.8662075849709098,0.824320798919016,0.8466428520357863,0.8363287717353959,0.858520380094682,0.8175732967320307,0.8664235749534427,0.8669138941042983,0.8529805728531171,0.813021268021698,0.8566238196186327,0.8373134156464022,0.8900657598547004,0.8904331916935087,0.9135324208965672,0.9051487877587872,0.9198975815965392,0.9150431326203188,0.8999013863968481,0.9091860344662814,0.9026195715693188,0.904718168686144,0.8965406058372899,0.875181267562274,0.9063818144535886,0.8952063077945644,0.9066487886913068,0.9389144936066522,0.8962942502803297,0.8734449242332485,0.9062953645328928,0.8993343725919805,0.8650154717708911,0.8184996638323946,0.8547117840923856,0.8286193903482237,0.8742641699420487,0.8718676454472477,0.8338816329980517,0.8739475552365087,0.8020408069663303,0.8612770776309121,0.8588543061919797,0.8094693019609823,0.853156751328013,0.8357593331328357,0.8774246772754927,0.8738045995679591,0.8469430895238276,0.848076787266845,0.8012340972285386,0.8027880437833774,0.7948728289400688,0.8322476739829248,0.8276067993328852,0.7943009790946516,0.8034196864415464,0.8093789754287706,0.7993370445623357,0.8045581595957545,0.7797051111265048,0.7585730299920144,0.848978660737985,0.8218539636622912,0.9065164002288142,0.9006408514619382,0.8701620072944654,0.9076405724546348,0.8842226515708057,0.8628416862752821,0.8963512599179179,0.9081005674595134,0.9051209175430188,0.9094647414535926,0.8913900440620979,0.8974746179699028,0.8968246608587266,0.902479805946566,0.9021704000933864,0.8940041598333301,0.8920888603936763,0.9082298839041246,0.8919142312574578,0.8445052844057428,0.8355427312495572,0.861680887989716,0.81540417317044,0.862896421986616,0.8744664950215799,0.8535116119636567,0.7726704676751407,0.7536448288521579,0.7869929662514383,0.8396099733180874,0.8055890037014092,0.8406528568068388,0.8346723991415789,0.8331366982754339,0.7853356824308642,0.8625380406478633,0.6742606375415864,0.7240577928948695,0.7800704601496976,0.7819642480865886,0.9115247158573442,0.9132400081533072,0.8006798302385785,0.8134738759420728,0.8186722057818011,0.7780450749967903,0.8221902428644353,0.7572114462372949,0.8278127120793803,0.7769031803011217,0.8517861053208324,0.8068654734004959,0.833452933934069,0.7992094220100944],\"y0\":\" \",\"yaxis\":\"y\",\"type\":\"box\"}],                        {\"template\":{\"data\":{\"histogram2dcontour\":[{\"type\":\"histogram2dcontour\",\"colorbar\":{\"outlinewidth\":0,\"ticks\":\"\"},\"colorscale\":[[0.0,\"#0d0887\"],[0.1111111111111111,\"#46039f\"],[0.2222222222222222,\"#7201a8\"],[0.3333333333333333,\"#9c179e\"],[0.4444444444444444,\"#bd3786\"],[0.5555555555555556,\"#d8576b\"],[0.6666666666666666,\"#ed7953\"],[0.7777777777777778,\"#fb9f3a\"],[0.8888888888888888,\"#fdca26\"],[1.0,\"#f0f921\"]]}],\"choropleth\":[{\"type\":\"choropleth\",\"colorbar\":{\"outlinewidth\":0,\"ticks\":\"\"}}],\"histogram2d\":[{\"type\":\"histogram2d\",\"colorbar\":{\"outlinewidth\":0,\"ticks\":\"\"},\"colorscale\":[[0.0,\"#0d0887\"],[0.1111111111111111,\"#46039f\"],[0.2222222222222222,\"#7201a8\"],[0.3333333333333333,\"#9c179e\"],[0.4444444444444444,\"#bd3786\"],[0.5555555555555556,\"#d8576b\"],[0.6666666666666666,\"#ed7953\"],[0.7777777777777778,\"#fb9f3a\"],[0.8888888888888888,\"#fdca26\"],[1.0,\"#f0f921\"]]}],\"heatmap\":[{\"type\":\"heatmap\",\"colorbar\":{\"outlinewidth\":0,\"ticks\":\"\"},\"colorscale\":[[0.0,\"#0d0887\"],[0.1111111111111111,\"#46039f\"],[0.2222222222222222,\"#7201a8\"],[0.3333333333333333,\"#9c179e\"],[0.4444444444444444,\"#bd3786\"],[0.5555555555555556,\"#d8576b\"],[0.6666666666666666,\"#ed7953\"],[0.7777777777777778,\"#fb9f3a\"],[0.8888888888888888,\"#fdca26\"],[1.0,\"#f0f921\"]]}],\"heatmapgl\":[{\"type\":\"heatmapgl\",\"colorbar\":{\"outlinewidth\":0,\"ticks\":\"\"},\"colorscale\":[[0.0,\"#0d0887\"],[0.1111111111111111,\"#46039f\"],[0.2222222222222222,\"#7201a8\"],[0.3333333333333333,\"#9c179e\"],[0.4444444444444444,\"#bd3786\"],[0.5555555555555556,\"#d8576b\"],[0.6666666666666666,\"#ed7953\"],[0.7777777777777778,\"#fb9f3a\"],[0.8888888888888888,\"#fdca26\"],[1.0,\"#f0f921\"]]}],\"contourcarpet\":[{\"type\":\"contourcarpet\",\"colorbar\":{\"outlinewidth\":0,\"ticks\":\"\"}}],\"contour\":[{\"type\":\"contour\",\"colorbar\":{\"outlinewidth\":0,\"ticks\":\"\"},\"colorscale\":[[0.0,\"#0d0887\"],[0.1111111111111111,\"#46039f\"],[0.2222222222222222,\"#7201a8\"],[0.3333333333333333,\"#9c179e\"],[0.4444444444444444,\"#bd3786\"],[0.5555555555555556,\"#d8576b\"],[0.6666666666666666,\"#ed7953\"],[0.7777777777777778,\"#fb9f3a\"],[0.8888888888888888,\"#fdca26\"],[1.0,\"#f0f921\"]]}],\"surface\":[{\"type\":\"surface\",\"colorbar\":{\"outlinewidth\":0,\"ticks\":\"\"},\"colorscale\":[[0.0,\"#0d0887\"],[0.1111111111111111,\"#46039f\"],[0.2222222222222222,\"#7201a8\"],[0.3333333333333333,\"#9c179e\"],[0.4444444444444444,\"#bd3786\"],[0.5555555555555556,\"#d8576b\"],[0.6666666666666666,\"#ed7953\"],[0.7777777777777778,\"#fb9f3a\"],[0.8888888888888888,\"#fdca26\"],[1.0,\"#f0f921\"]]}],\"mesh3d\":[{\"type\":\"mesh3d\",\"colorbar\":{\"outlinewidth\":0,\"ticks\":\"\"}}],\"scatter\":[{\"fillpattern\":{\"fillmode\":\"overlay\",\"size\":10,\"solidity\":0.2},\"type\":\"scatter\"}],\"parcoords\":[{\"type\":\"parcoords\",\"line\":{\"colorbar\":{\"outlinewidth\":0,\"ticks\":\"\"}}}],\"scatterpolargl\":[{\"type\":\"scatterpolargl\",\"marker\":{\"colorbar\":{\"outlinewidth\":0,\"ticks\":\"\"}}}],\"bar\":[{\"error_x\":{\"color\":\"#2a3f5f\"},\"error_y\":{\"color\":\"#2a3f5f\"},\"marker\":{\"line\":{\"color\":\"#E5ECF6\",\"width\":0.5},\"pattern\":{\"fillmode\":\"overlay\",\"size\":10,\"solidity\":0.2}},\"type\":\"bar\"}],\"scattergeo\":[{\"type\":\"scattergeo\",\"marker\":{\"colorbar\":{\"outlinewidth\":0,\"ticks\":\"\"}}}],\"scatterpolar\":[{\"type\":\"scatterpolar\",\"marker\":{\"colorbar\":{\"outlinewidth\":0,\"ticks\":\"\"}}}],\"histogram\":[{\"marker\":{\"pattern\":{\"fillmode\":\"overlay\",\"size\":10,\"solidity\":0.2}},\"type\":\"histogram\"}],\"scattergl\":[{\"type\":\"scattergl\",\"marker\":{\"colorbar\":{\"outlinewidth\":0,\"ticks\":\"\"}}}],\"scatter3d\":[{\"type\":\"scatter3d\",\"line\":{\"colorbar\":{\"outlinewidth\":0,\"ticks\":\"\"}},\"marker\":{\"colorbar\":{\"outlinewidth\":0,\"ticks\":\"\"}}}],\"scattermapbox\":[{\"type\":\"scattermapbox\",\"marker\":{\"colorbar\":{\"outlinewidth\":0,\"ticks\":\"\"}}}],\"scatterternary\":[{\"type\":\"scatterternary\",\"marker\":{\"colorbar\":{\"outlinewidth\":0,\"ticks\":\"\"}}}],\"scattercarpet\":[{\"type\":\"scattercarpet\",\"marker\":{\"colorbar\":{\"outlinewidth\":0,\"ticks\":\"\"}}}],\"carpet\":[{\"aaxis\":{\"endlinecolor\":\"#2a3f5f\",\"gridcolor\":\"white\",\"linecolor\":\"white\",\"minorgridcolor\":\"white\",\"startlinecolor\":\"#2a3f5f\"},\"baxis\":{\"endlinecolor\":\"#2a3f5f\",\"gridcolor\":\"white\",\"linecolor\":\"white\",\"minorgridcolor\":\"white\",\"startlinecolor\":\"#2a3f5f\"},\"type\":\"carpet\"}],\"table\":[{\"cells\":{\"fill\":{\"color\":\"#EBF0F8\"},\"line\":{\"color\":\"white\"}},\"header\":{\"fill\":{\"color\":\"#C8D4E3\"},\"line\":{\"color\":\"white\"}},\"type\":\"table\"}],\"barpolar\":[{\"marker\":{\"line\":{\"color\":\"#E5ECF6\",\"width\":0.5},\"pattern\":{\"fillmode\":\"overlay\",\"size\":10,\"solidity\":0.2}},\"type\":\"barpolar\"}],\"pie\":[{\"automargin\":true,\"type\":\"pie\"}]},\"layout\":{\"autotypenumbers\":\"strict\",\"colorway\":[\"#636efa\",\"#EF553B\",\"#00cc96\",\"#ab63fa\",\"#FFA15A\",\"#19d3f3\",\"#FF6692\",\"#B6E880\",\"#FF97FF\",\"#FECB52\"],\"font\":{\"color\":\"#2a3f5f\"},\"hovermode\":\"closest\",\"hoverlabel\":{\"align\":\"left\"},\"paper_bgcolor\":\"white\",\"plot_bgcolor\":\"#E5ECF6\",\"polar\":{\"bgcolor\":\"#E5ECF6\",\"angularaxis\":{\"gridcolor\":\"white\",\"linecolor\":\"white\",\"ticks\":\"\"},\"radialaxis\":{\"gridcolor\":\"white\",\"linecolor\":\"white\",\"ticks\":\"\"}},\"ternary\":{\"bgcolor\":\"#E5ECF6\",\"aaxis\":{\"gridcolor\":\"white\",\"linecolor\":\"white\",\"ticks\":\"\"},\"baxis\":{\"gridcolor\":\"white\",\"linecolor\":\"white\",\"ticks\":\"\"},\"caxis\":{\"gridcolor\":\"white\",\"linecolor\":\"white\",\"ticks\":\"\"}},\"coloraxis\":{\"colorbar\":{\"outlinewidth\":0,\"ticks\":\"\"}},\"colorscale\":{\"sequential\":[[0.0,\"#0d0887\"],[0.1111111111111111,\"#46039f\"],[0.2222222222222222,\"#7201a8\"],[0.3333333333333333,\"#9c179e\"],[0.4444444444444444,\"#bd3786\"],[0.5555555555555556,\"#d8576b\"],[0.6666666666666666,\"#ed7953\"],[0.7777777777777778,\"#fb9f3a\"],[0.8888888888888888,\"#fdca26\"],[1.0,\"#f0f921\"]],\"sequentialminus\":[[0.0,\"#0d0887\"],[0.1111111111111111,\"#46039f\"],[0.2222222222222222,\"#7201a8\"],[0.3333333333333333,\"#9c179e\"],[0.4444444444444444,\"#bd3786\"],[0.5555555555555556,\"#d8576b\"],[0.6666666666666666,\"#ed7953\"],[0.7777777777777778,\"#fb9f3a\"],[0.8888888888888888,\"#fdca26\"],[1.0,\"#f0f921\"]],\"diverging\":[[0,\"#8e0152\"],[0.1,\"#c51b7d\"],[0.2,\"#de77ae\"],[0.3,\"#f1b6da\"],[0.4,\"#fde0ef\"],[0.5,\"#f7f7f7\"],[0.6,\"#e6f5d0\"],[0.7,\"#b8e186\"],[0.8,\"#7fbc41\"],[0.9,\"#4d9221\"],[1,\"#276419\"]]},\"xaxis\":{\"gridcolor\":\"white\",\"linecolor\":\"white\",\"ticks\":\"\",\"title\":{\"standoff\":15},\"zerolinecolor\":\"white\",\"automargin\":true,\"zerolinewidth\":2},\"yaxis\":{\"gridcolor\":\"white\",\"linecolor\":\"white\",\"ticks\":\"\",\"title\":{\"standoff\":15},\"zerolinecolor\":\"white\",\"automargin\":true,\"zerolinewidth\":2},\"scene\":{\"xaxis\":{\"backgroundcolor\":\"#E5ECF6\",\"gridcolor\":\"white\",\"linecolor\":\"white\",\"showbackground\":true,\"ticks\":\"\",\"zerolinecolor\":\"white\",\"gridwidth\":2},\"yaxis\":{\"backgroundcolor\":\"#E5ECF6\",\"gridcolor\":\"white\",\"linecolor\":\"white\",\"showbackground\":true,\"ticks\":\"\",\"zerolinecolor\":\"white\",\"gridwidth\":2},\"zaxis\":{\"backgroundcolor\":\"#E5ECF6\",\"gridcolor\":\"white\",\"linecolor\":\"white\",\"showbackground\":true,\"ticks\":\"\",\"zerolinecolor\":\"white\",\"gridwidth\":2}},\"shapedefaults\":{\"line\":{\"color\":\"#2a3f5f\"}},\"annotationdefaults\":{\"arrowcolor\":\"#2a3f5f\",\"arrowhead\":0,\"arrowwidth\":1},\"geo\":{\"bgcolor\":\"white\",\"landcolor\":\"#E5ECF6\",\"subunitcolor\":\"white\",\"showland\":true,\"showlakes\":true,\"lakecolor\":\"white\"},\"title\":{\"x\":0.05},\"mapbox\":{\"style\":\"light\"}}},\"xaxis\":{\"anchor\":\"y\",\"domain\":[0.0,1.0],\"title\":{\"text\":\"dropouts\"}},\"yaxis\":{\"anchor\":\"x\",\"domain\":[0.0,1.0],\"title\":{\"text\":\"F1_Score_Media\"}},\"legend\":{\"title\":{\"text\":\"filters\"},\"tracegroupgap\":0},\"margin\":{\"t\":60},\"boxmode\":\"group\"},                        {\"responsive\": true}                    ).then(function(){\n",
       "                            \n",
       "var gd = document.getElementById('d634b730-26c1-4068-b417-6fbea91481a0');\n",
       "var x = new MutationObserver(function (mutations, observer) {{\n",
       "        var display = window.getComputedStyle(gd).display;\n",
       "        if (!display || display === 'none') {{\n",
       "            console.log([gd, 'removed!']);\n",
       "            Plotly.purge(gd);\n",
       "            observer.disconnect();\n",
       "        }}\n",
       "}});\n",
       "\n",
       "// Listen for the removal of the full notebook cells\n",
       "var notebookContainer = gd.closest('#notebook-container');\n",
       "if (notebookContainer) {{\n",
       "    x.observe(notebookContainer, {childList: true});\n",
       "}}\n",
       "\n",
       "// Listen for the clearing of the current output cell\n",
       "var outputEl = gd.closest('.output');\n",
       "if (outputEl) {{\n",
       "    x.observe(outputEl, {childList: true});\n",
       "}}\n",
       "\n",
       "                        })                };                });            </script>        </div>"
      ]
     },
     "metadata": {},
     "output_type": "display_data"
    }
   ],
   "source": [
    "import plotly.express as px\n",
    "\n",
    "fig = px.box(df, x=\"dropouts\", y=\"F1_Score_Media\", points=\"all\", color='filters')\n",
    "fig.show()"
   ]
  },
  {
   "cell_type": "code",
   "execution_count": 10,
   "metadata": {},
   "outputs": [
    {
     "data": {
      "image/png": "[encoded data removed]",
      "text/plain": [
       "<Figure size 600x400 with 1 Axes>"
      ]
     },
     "metadata": {},
     "output_type": "display_data"
    }
   ],
   "source": [
    "from statsmodels.graphics.factorplots import interaction_plot\n",
    "\n",
    "fig, ax = plt.subplots(figsize=(6, 4))\n",
    "fig = interaction_plot(\n",
    "    x        = df.filters,\n",
    "    trace    = df.dropouts,\n",
    "    response = df.F1_Score_Media,\n",
    "    ax       = ax,\n",
    ")"
   ]
  },
  {
   "cell_type": "code",
   "execution_count": 11,
   "metadata": {},
   "outputs": [
    {
     "data": {
      "image/png": "[encoded data removed]",
      "text/plain": [
       "<Figure size 600x400 with 1 Axes>"
      ]
     },
     "metadata": {},
     "output_type": "display_data"
    }
   ],
   "source": [
    "fig, ax = plt.subplots(figsize=(6, 4))\n",
    "fig = interaction_plot(\n",
    "    x        = df.dropouts,\n",
    "    trace    = df.filters,\n",
    "    response = df.F1_Score_Media,\n",
    "    ax       = ax,\n",
    ")"
   ]
  },
  {
   "cell_type": "code",
   "execution_count": 12,
   "metadata": {},
   "outputs": [
    {
     "data": {
      "text/html": [
       "<div>\n",
       "<style scoped>\n",
       "    .dataframe tbody tr th:only-of-type {\n",
       "        vertical-align: middle;\n",
       "    }\n",
       "\n",
       "    .dataframe tbody tr th {\n",
       "        vertical-align: top;\n",
       "    }\n",
       "\n",
       "    .dataframe thead th {\n",
       "        text-align: right;\n",
       "    }\n",
       "</style>\n",
       "<table border=\"1\" class=\"dataframe\">\n",
       "  <thead>\n",
       "    <tr style=\"text-align: right;\">\n",
       "      <th></th>\n",
       "      <th>Source</th>\n",
       "      <th>SS</th>\n",
       "      <th>DF</th>\n",
       "      <th>MS</th>\n",
       "      <th>F</th>\n",
       "      <th>p-unc</th>\n",
       "      <th>np2</th>\n",
       "    </tr>\n",
       "  </thead>\n",
       "  <tbody>\n",
       "    <tr>\n",
       "      <th>0</th>\n",
       "      <td>dropouts</td>\n",
       "      <td>0.0047</td>\n",
       "      <td>1.0</td>\n",
       "      <td>0.0047</td>\n",
       "      <td>1.9204</td>\n",
       "      <td>0.1665</td>\n",
       "      <td>0.0044</td>\n",
       "    </tr>\n",
       "    <tr>\n",
       "      <th>1</th>\n",
       "      <td>filters</td>\n",
       "      <td>0.0003</td>\n",
       "      <td>1.0</td>\n",
       "      <td>0.0003</td>\n",
       "      <td>0.1352</td>\n",
       "      <td>0.7133</td>\n",
       "      <td>0.0003</td>\n",
       "    </tr>\n",
       "    <tr>\n",
       "      <th>2</th>\n",
       "      <td>dropouts * filters</td>\n",
       "      <td>0.0008</td>\n",
       "      <td>1.0</td>\n",
       "      <td>0.0008</td>\n",
       "      <td>0.3366</td>\n",
       "      <td>0.5621</td>\n",
       "      <td>0.0008</td>\n",
       "    </tr>\n",
       "    <tr>\n",
       "      <th>3</th>\n",
       "      <td>Residual</td>\n",
       "      <td>1.0678</td>\n",
       "      <td>438.0</td>\n",
       "      <td>0.0024</td>\n",
       "      <td>NaN</td>\n",
       "      <td>NaN</td>\n",
       "      <td>NaN</td>\n",
       "    </tr>\n",
       "  </tbody>\n",
       "</table>\n",
       "</div>"
      ],
      "text/plain": [
       "               Source      SS     DF      MS       F   p-unc     np2\n",
       "0            dropouts  0.0047    1.0  0.0047  1.9204  0.1665  0.0044\n",
       "1             filters  0.0003    1.0  0.0003  0.1352  0.7133  0.0003\n",
       "2  dropouts * filters  0.0008    1.0  0.0008  0.3366  0.5621  0.0008\n",
       "3            Residual  1.0678  438.0  0.0024     NaN     NaN     NaN"
      ]
     },
     "execution_count": 12,
     "metadata": {},
     "output_type": "execute_result"
    }
   ],
   "source": [
    "# Test ANOVA de dos vías (Two-way ANOVA)\n",
    "# ==============================================================================\n",
    "pg.anova(\n",
    "    data     = df,\n",
    "    dv       = 'F1_Score_Media',\n",
    "    between  = ['dropouts', 'filters'],\n",
    "    detailed = True\n",
    ").round(4)"
   ]
  },
  {
   "cell_type": "markdown",
   "metadata": {},
   "source": [
    "### dropouts:\n",
    "\n",
    "- F (1.9204): La estadística F no es muy alta.  \n",
    "- p-unc (0.1665): El p-valor es mayor que 0.05, lo que significa que no hay evidencia significativa para concluir que el dropout afecta significativamente el rendimiento.  \n",
    "- np2 (0.0044): El tamaño del efecto es muy pequeño, indicando que el dropout explica solo el 0.44% de la varianza en el rendimiento.\n",
    "\n",
    "### filters:\n",
    "\n",
    "- F (0.1352): La estadística F es muy baja.  \n",
    "- p-unc (0.7133): El p-valor es mucho mayor que 0.05, lo que significa que no hay evidencia significativa para concluir que el número de filtros afecta significativamente el rendimiento.  \n",
    "- np2 (0.0003): El tamaño del efecto es insignificante, indicando que el número de filtros explica solo el 0.03% de la varianza en el rendimiento.\n",
    "\n",
    "\n",
    "### dropouts * filters:\n",
    "\n",
    "- F (0.3366): La estadística F es baja.  \n",
    "- p-unc (0.5621): El p-valor es mayor que 0.05, lo que significa que no hay evidencia significativa para concluir que hay una - interacción significativa entre dropouts y filtros en el rendimiento.  \n",
    "- np2 (0.0008): El tamaño del efecto es muy pequeño"
   ]
  }
 ],
 "metadata": {
  "kernelspec": {
   "display_name": "Python 3",
   "language": "python",
   "name": "python3"
  },
  "language_info": {
   "codemirror_mode": {
    "name": "ipython",
    "version": 3
   },
   "file_extension": ".py",
   "mimetype": "text/x-python",
   "name": "python",
   "nbconvert_exporter": "python",
   "pygments_lexer": "ipython3",
   "version": "3.10.12"
  }
 },
 "nbformat": 4,
 "nbformat_minor": 2
}
